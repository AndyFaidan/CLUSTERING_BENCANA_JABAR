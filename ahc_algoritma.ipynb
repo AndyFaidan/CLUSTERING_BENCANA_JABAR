{
 "cells": [
  {
   "cell_type": "code",
   "execution_count": 535,
   "metadata": {},
   "outputs": [],
   "source": [
    "import streamlit as st\n",
    "import pandas as pd\n",
    "import matplotlib.pyplot as plt\n",
    "from sklearn.cluster import AgglomerativeClustering\n",
    "from scipy.cluster.hierarchy import dendrogram, linkage\n",
    "from sklearn.metrics import silhouette_score\n",
    "from scipy.cluster.hierarchy import cophenet, dendrogram, linkage\n",
    "from scipy.spatial.distance import pdist\n",
    "from scipy.cluster.hierarchy import fcluster\n",
    "from streamlit_folium import folium_static\n",
    "import folium\n",
    "import plotly.figure_factory as ff\n",
    "from folium import plugins\n",
    "from folium.plugins import HeatMap\n",
    "import plotly_express as px\n",
    "import plotly.graph_objects as go\n",
    "import plotly.express as px\n"
   ]
  },
  {
   "cell_type": "code",
   "execution_count": 536,
   "metadata": {},
   "outputs": [],
   "source": [
    "# Read data\n",
    "df = pd.read_csv(\"Lengkap-Dataset_Longsor 2021 - 2023 - PROV.csv\")"
   ]
  },
  {
   "cell_type": "code",
   "execution_count": 537,
   "metadata": {},
   "outputs": [],
   "source": [
    "# Memfilter variabel yang akan digunakan\n",
    "df_filtered = df[[\"KABUPATEN\", \"TAHUN\", \"JUMLAH_LONGSOR\", \"JIWA_TERDAMPAK\", \"JIWA_MENINGGAL\", \"RUSAK_TERDAMPAK\", \"RUSAK_RINGAN\", \"RUSAK_SEDANG\", \"RUSAK_BERAT\", \"LATITUDE\", \"LONGITUDE\"]]\n"
   ]
  },
  {
   "cell_type": "code",
   "execution_count": 538,
   "metadata": {},
   "outputs": [
    {
     "data": {
      "text/html": [
       "<div>\n",
       "<style scoped>\n",
       "    .dataframe tbody tr th:only-of-type {\n",
       "        vertical-align: middle;\n",
       "    }\n",
       "\n",
       "    .dataframe tbody tr th {\n",
       "        vertical-align: top;\n",
       "    }\n",
       "\n",
       "    .dataframe thead th {\n",
       "        text-align: right;\n",
       "    }\n",
       "</style>\n",
       "<table border=\"1\" class=\"dataframe\">\n",
       "  <thead>\n",
       "    <tr style=\"text-align: right;\">\n",
       "      <th></th>\n",
       "      <th>No</th>\n",
       "      <th>KABUPATEN</th>\n",
       "      <th>TAHUN</th>\n",
       "      <th>JUMLAH_LONGSOR</th>\n",
       "      <th>JIWA_TERDAMPAK</th>\n",
       "      <th>JIWA_MENINGGAL</th>\n",
       "      <th>RUSAK_TERDAMPAK</th>\n",
       "      <th>RUSAK_RINGAN</th>\n",
       "      <th>RUSAK_SEDANG</th>\n",
       "      <th>RUSAK_BERAT</th>\n",
       "      <th>TERTIMBUN</th>\n",
       "      <th>LAHAN</th>\n",
       "      <th>BANGUNAN LAINNYA</th>\n",
       "      <th>SARANA PENDIDIKAN</th>\n",
       "      <th>FASILITAS UMUM</th>\n",
       "      <th>LATITUDE</th>\n",
       "      <th>LONGITUDE</th>\n",
       "    </tr>\n",
       "  </thead>\n",
       "  <tbody>\n",
       "    <tr>\n",
       "      <th>0</th>\n",
       "      <td>1</td>\n",
       "      <td>KABUPATEN BOGOR</td>\n",
       "      <td>2021</td>\n",
       "      <td>225</td>\n",
       "      <td>2673</td>\n",
       "      <td>0</td>\n",
       "      <td>405</td>\n",
       "      <td>213</td>\n",
       "      <td>143</td>\n",
       "      <td>49</td>\n",
       "      <td>0</td>\n",
       "      <td>0</td>\n",
       "      <td>9</td>\n",
       "      <td>5</td>\n",
       "      <td>37</td>\n",
       "      <td>-6.479036</td>\n",
       "      <td>106.824545</td>\n",
       "    </tr>\n",
       "    <tr>\n",
       "      <th>1</th>\n",
       "      <td>2</td>\n",
       "      <td>KABUPATEN SUKABUMI</td>\n",
       "      <td>2021</td>\n",
       "      <td>147</td>\n",
       "      <td>311</td>\n",
       "      <td>3</td>\n",
       "      <td>82</td>\n",
       "      <td>24</td>\n",
       "      <td>39</td>\n",
       "      <td>19</td>\n",
       "      <td>14</td>\n",
       "      <td>27</td>\n",
       "      <td>4</td>\n",
       "      <td>4</td>\n",
       "      <td>50</td>\n",
       "      <td>-6.988837</td>\n",
       "      <td>106.550721</td>\n",
       "    </tr>\n",
       "    <tr>\n",
       "      <th>2</th>\n",
       "      <td>3</td>\n",
       "      <td>KABUPATEN CIANJUR</td>\n",
       "      <td>2021</td>\n",
       "      <td>27</td>\n",
       "      <td>227</td>\n",
       "      <td>1</td>\n",
       "      <td>48</td>\n",
       "      <td>14</td>\n",
       "      <td>24</td>\n",
       "      <td>10</td>\n",
       "      <td>0</td>\n",
       "      <td>800</td>\n",
       "      <td>2</td>\n",
       "      <td>1</td>\n",
       "      <td>17</td>\n",
       "      <td>-6.822804</td>\n",
       "      <td>107.139363</td>\n",
       "    </tr>\n",
       "    <tr>\n",
       "      <th>3</th>\n",
       "      <td>4</td>\n",
       "      <td>KABUPATEN BANDUNG</td>\n",
       "      <td>2021</td>\n",
       "      <td>60</td>\n",
       "      <td>285</td>\n",
       "      <td>3</td>\n",
       "      <td>44</td>\n",
       "      <td>17</td>\n",
       "      <td>13</td>\n",
       "      <td>14</td>\n",
       "      <td>15</td>\n",
       "      <td>30</td>\n",
       "      <td>18</td>\n",
       "      <td>1</td>\n",
       "      <td>15</td>\n",
       "      <td>-7.021893</td>\n",
       "      <td>107.527727</td>\n",
       "    </tr>\n",
       "    <tr>\n",
       "      <th>4</th>\n",
       "      <td>5</td>\n",
       "      <td>KABUPATEN GARUT</td>\n",
       "      <td>2021</td>\n",
       "      <td>42</td>\n",
       "      <td>294</td>\n",
       "      <td>0</td>\n",
       "      <td>17</td>\n",
       "      <td>1</td>\n",
       "      <td>6</td>\n",
       "      <td>10</td>\n",
       "      <td>2</td>\n",
       "      <td>6</td>\n",
       "      <td>5</td>\n",
       "      <td>4</td>\n",
       "      <td>20</td>\n",
       "      <td>-7.202182</td>\n",
       "      <td>107.887006</td>\n",
       "    </tr>\n",
       "  </tbody>\n",
       "</table>\n",
       "</div>"
      ],
      "text/plain": [
       "   No           KABUPATEN  TAHUN  JUMLAH_LONGSOR  JIWA_TERDAMPAK  \\\n",
       "0   1     KABUPATEN BOGOR   2021             225            2673   \n",
       "1   2  KABUPATEN SUKABUMI   2021             147             311   \n",
       "2   3   KABUPATEN CIANJUR   2021              27             227   \n",
       "3   4   KABUPATEN BANDUNG   2021              60             285   \n",
       "4   5     KABUPATEN GARUT   2021              42             294   \n",
       "\n",
       "   JIWA_MENINGGAL  RUSAK_TERDAMPAK  RUSAK_RINGAN  RUSAK_SEDANG  RUSAK_BERAT  \\\n",
       "0               0              405           213           143           49   \n",
       "1               3               82            24            39           19   \n",
       "2               1               48            14            24           10   \n",
       "3               3               44            17            13           14   \n",
       "4               0               17             1             6           10   \n",
       "\n",
       "   TERTIMBUN  LAHAN  BANGUNAN LAINNYA  SARANA PENDIDIKAN  FASILITAS UMUM  \\\n",
       "0          0      0                 9                  5              37   \n",
       "1         14     27                 4                  4              50   \n",
       "2          0    800                 2                  1              17   \n",
       "3         15     30                18                  1              15   \n",
       "4          2      6                 5                  4              20   \n",
       "\n",
       "   LATITUDE   LONGITUDE  \n",
       "0 -6.479036  106.824545  \n",
       "1 -6.988837  106.550721  \n",
       "2 -6.822804  107.139363  \n",
       "3 -7.021893  107.527727  \n",
       "4 -7.202182  107.887006  "
      ]
     },
     "execution_count": 538,
     "metadata": {},
     "output_type": "execute_result"
    }
   ],
   "source": [
    "df.head()"
   ]
  },
  {
   "cell_type": "code",
   "execution_count": null,
   "metadata": {},
   "outputs": [],
   "source": []
  },
  {
   "cell_type": "code",
   "execution_count": 539,
   "metadata": {},
   "outputs": [
    {
     "data": {
      "text/html": [
       "<div>\n",
       "<style scoped>\n",
       "    .dataframe tbody tr th:only-of-type {\n",
       "        vertical-align: middle;\n",
       "    }\n",
       "\n",
       "    .dataframe tbody tr th {\n",
       "        vertical-align: top;\n",
       "    }\n",
       "\n",
       "    .dataframe thead th {\n",
       "        text-align: right;\n",
       "    }\n",
       "</style>\n",
       "<table border=\"1\" class=\"dataframe\">\n",
       "  <thead>\n",
       "    <tr style=\"text-align: right;\">\n",
       "      <th></th>\n",
       "      <th>No</th>\n",
       "      <th>TAHUN</th>\n",
       "      <th>JUMLAH_LONGSOR</th>\n",
       "      <th>JIWA_TERDAMPAK</th>\n",
       "      <th>JIWA_MENINGGAL</th>\n",
       "      <th>RUSAK_TERDAMPAK</th>\n",
       "      <th>RUSAK_RINGAN</th>\n",
       "      <th>RUSAK_SEDANG</th>\n",
       "      <th>RUSAK_BERAT</th>\n",
       "      <th>TERTIMBUN</th>\n",
       "      <th>LAHAN</th>\n",
       "      <th>BANGUNAN LAINNYA</th>\n",
       "      <th>SARANA PENDIDIKAN</th>\n",
       "      <th>FASILITAS UMUM</th>\n",
       "      <th>LATITUDE</th>\n",
       "      <th>LONGITUDE</th>\n",
       "    </tr>\n",
       "  </thead>\n",
       "  <tbody>\n",
       "    <tr>\n",
       "      <th>count</th>\n",
       "      <td>81.000000</td>\n",
       "      <td>81.000000</td>\n",
       "      <td>81.000000</td>\n",
       "      <td>81.000000</td>\n",
       "      <td>81.000000</td>\n",
       "      <td>81.000000</td>\n",
       "      <td>81.000000</td>\n",
       "      <td>81.000000</td>\n",
       "      <td>81.000000</td>\n",
       "      <td>81.000000</td>\n",
       "      <td>81.000000</td>\n",
       "      <td>81.000000</td>\n",
       "      <td>81.000000</td>\n",
       "      <td>81.000000</td>\n",
       "      <td>81.000000</td>\n",
       "      <td>81.000000</td>\n",
       "    </tr>\n",
       "    <tr>\n",
       "      <th>mean</th>\n",
       "      <td>41.000000</td>\n",
       "      <td>2022.000000</td>\n",
       "      <td>25.197531</td>\n",
       "      <td>230.456790</td>\n",
       "      <td>1.185185</td>\n",
       "      <td>54.938272</td>\n",
       "      <td>23.543210</td>\n",
       "      <td>20.259259</td>\n",
       "      <td>11.296296</td>\n",
       "      <td>1.740741</td>\n",
       "      <td>11.358025</td>\n",
       "      <td>7.975309</td>\n",
       "      <td>1.320988</td>\n",
       "      <td>13.666667</td>\n",
       "      <td>-6.833017</td>\n",
       "      <td>107.686291</td>\n",
       "    </tr>\n",
       "    <tr>\n",
       "      <th>std</th>\n",
       "      <td>23.526581</td>\n",
       "      <td>0.821584</td>\n",
       "      <td>39.267805</td>\n",
       "      <td>465.188565</td>\n",
       "      <td>2.174345</td>\n",
       "      <td>98.367467</td>\n",
       "      <td>42.575242</td>\n",
       "      <td>40.441865</td>\n",
       "      <td>21.395353</td>\n",
       "      <td>7.383728</td>\n",
       "      <td>88.841053</td>\n",
       "      <td>13.064241</td>\n",
       "      <td>2.944602</td>\n",
       "      <td>20.409557</td>\n",
       "      <td>0.368131</td>\n",
       "      <td>0.630241</td>\n",
       "    </tr>\n",
       "    <tr>\n",
       "      <th>min</th>\n",
       "      <td>1.000000</td>\n",
       "      <td>2021.000000</td>\n",
       "      <td>0.000000</td>\n",
       "      <td>0.000000</td>\n",
       "      <td>0.000000</td>\n",
       "      <td>0.000000</td>\n",
       "      <td>0.000000</td>\n",
       "      <td>0.000000</td>\n",
       "      <td>0.000000</td>\n",
       "      <td>0.000000</td>\n",
       "      <td>0.000000</td>\n",
       "      <td>0.000000</td>\n",
       "      <td>0.000000</td>\n",
       "      <td>0.000000</td>\n",
       "      <td>-7.700090</td>\n",
       "      <td>106.550721</td>\n",
       "    </tr>\n",
       "    <tr>\n",
       "      <th>25%</th>\n",
       "      <td>21.000000</td>\n",
       "      <td>2021.000000</td>\n",
       "      <td>2.000000</td>\n",
       "      <td>5.000000</td>\n",
       "      <td>0.000000</td>\n",
       "      <td>2.000000</td>\n",
       "      <td>0.000000</td>\n",
       "      <td>1.000000</td>\n",
       "      <td>0.000000</td>\n",
       "      <td>0.000000</td>\n",
       "      <td>0.000000</td>\n",
       "      <td>0.000000</td>\n",
       "      <td>0.000000</td>\n",
       "      <td>1.000000</td>\n",
       "      <td>-7.021893</td>\n",
       "      <td>107.139363</td>\n",
       "    </tr>\n",
       "    <tr>\n",
       "      <th>50%</th>\n",
       "      <td>41.000000</td>\n",
       "      <td>2022.000000</td>\n",
       "      <td>8.000000</td>\n",
       "      <td>44.000000</td>\n",
       "      <td>0.000000</td>\n",
       "      <td>14.000000</td>\n",
       "      <td>5.000000</td>\n",
       "      <td>6.000000</td>\n",
       "      <td>2.000000</td>\n",
       "      <td>0.000000</td>\n",
       "      <td>0.000000</td>\n",
       "      <td>2.000000</td>\n",
       "      <td>0.000000</td>\n",
       "      <td>5.000000</td>\n",
       "      <td>-6.835020</td>\n",
       "      <td>107.609837</td>\n",
       "    </tr>\n",
       "    <tr>\n",
       "      <th>75%</th>\n",
       "      <td>61.000000</td>\n",
       "      <td>2023.000000</td>\n",
       "      <td>32.000000</td>\n",
       "      <td>283.000000</td>\n",
       "      <td>2.000000</td>\n",
       "      <td>63.000000</td>\n",
       "      <td>25.000000</td>\n",
       "      <td>20.000000</td>\n",
       "      <td>11.000000</td>\n",
       "      <td>0.000000</td>\n",
       "      <td>1.000000</td>\n",
       "      <td>8.000000</td>\n",
       "      <td>1.000000</td>\n",
       "      <td>20.000000</td>\n",
       "      <td>-6.557067</td>\n",
       "      <td>108.323123</td>\n",
       "    </tr>\n",
       "    <tr>\n",
       "      <th>max</th>\n",
       "      <td>81.000000</td>\n",
       "      <td>2023.000000</td>\n",
       "      <td>225.000000</td>\n",
       "      <td>2673.000000</td>\n",
       "      <td>12.000000</td>\n",
       "      <td>476.000000</td>\n",
       "      <td>213.000000</td>\n",
       "      <td>220.000000</td>\n",
       "      <td>132.000000</td>\n",
       "      <td>61.000000</td>\n",
       "      <td>800.000000</td>\n",
       "      <td>68.000000</td>\n",
       "      <td>18.000000</td>\n",
       "      <td>134.000000</td>\n",
       "      <td>-6.235769</td>\n",
       "      <td>108.563810</td>\n",
       "    </tr>\n",
       "  </tbody>\n",
       "</table>\n",
       "</div>"
      ],
      "text/plain": [
       "              No        TAHUN  JUMLAH_LONGSOR  JIWA_TERDAMPAK  JIWA_MENINGGAL  \\\n",
       "count  81.000000    81.000000       81.000000       81.000000       81.000000   \n",
       "mean   41.000000  2022.000000       25.197531      230.456790        1.185185   \n",
       "std    23.526581     0.821584       39.267805      465.188565        2.174345   \n",
       "min     1.000000  2021.000000        0.000000        0.000000        0.000000   \n",
       "25%    21.000000  2021.000000        2.000000        5.000000        0.000000   \n",
       "50%    41.000000  2022.000000        8.000000       44.000000        0.000000   \n",
       "75%    61.000000  2023.000000       32.000000      283.000000        2.000000   \n",
       "max    81.000000  2023.000000      225.000000     2673.000000       12.000000   \n",
       "\n",
       "       RUSAK_TERDAMPAK  RUSAK_RINGAN  RUSAK_SEDANG  RUSAK_BERAT  TERTIMBUN  \\\n",
       "count        81.000000     81.000000     81.000000    81.000000  81.000000   \n",
       "mean         54.938272     23.543210     20.259259    11.296296   1.740741   \n",
       "std          98.367467     42.575242     40.441865    21.395353   7.383728   \n",
       "min           0.000000      0.000000      0.000000     0.000000   0.000000   \n",
       "25%           2.000000      0.000000      1.000000     0.000000   0.000000   \n",
       "50%          14.000000      5.000000      6.000000     2.000000   0.000000   \n",
       "75%          63.000000     25.000000     20.000000    11.000000   0.000000   \n",
       "max         476.000000    213.000000    220.000000   132.000000  61.000000   \n",
       "\n",
       "            LAHAN  BANGUNAN LAINNYA  SARANA PENDIDIKAN  FASILITAS UMUM  \\\n",
       "count   81.000000         81.000000          81.000000       81.000000   \n",
       "mean    11.358025          7.975309           1.320988       13.666667   \n",
       "std     88.841053         13.064241           2.944602       20.409557   \n",
       "min      0.000000          0.000000           0.000000        0.000000   \n",
       "25%      0.000000          0.000000           0.000000        1.000000   \n",
       "50%      0.000000          2.000000           0.000000        5.000000   \n",
       "75%      1.000000          8.000000           1.000000       20.000000   \n",
       "max    800.000000         68.000000          18.000000      134.000000   \n",
       "\n",
       "        LATITUDE   LONGITUDE  \n",
       "count  81.000000   81.000000  \n",
       "mean   -6.833017  107.686291  \n",
       "std     0.368131    0.630241  \n",
       "min    -7.700090  106.550721  \n",
       "25%    -7.021893  107.139363  \n",
       "50%    -6.835020  107.609837  \n",
       "75%    -6.557067  108.323123  \n",
       "max    -6.235769  108.563810  "
      ]
     },
     "execution_count": 539,
     "metadata": {},
     "output_type": "execute_result"
    }
   ],
   "source": [
    "df.describe()"
   ]
  },
  {
   "cell_type": "code",
   "execution_count": 540,
   "metadata": {},
   "outputs": [
    {
     "data": {
      "text/html": [
       "<div>\n",
       "<style scoped>\n",
       "    .dataframe tbody tr th:only-of-type {\n",
       "        vertical-align: middle;\n",
       "    }\n",
       "\n",
       "    .dataframe tbody tr th {\n",
       "        vertical-align: top;\n",
       "    }\n",
       "\n",
       "    .dataframe thead th {\n",
       "        text-align: right;\n",
       "    }\n",
       "</style>\n",
       "<table border=\"1\" class=\"dataframe\">\n",
       "  <thead>\n",
       "    <tr style=\"text-align: right;\">\n",
       "      <th></th>\n",
       "      <th>No</th>\n",
       "      <th>KABUPATEN</th>\n",
       "      <th>TAHUN</th>\n",
       "      <th>JUMLAH_LONGSOR</th>\n",
       "      <th>JIWA_TERDAMPAK</th>\n",
       "      <th>JIWA_MENINGGAL</th>\n",
       "      <th>RUSAK_TERDAMPAK</th>\n",
       "      <th>RUSAK_RINGAN</th>\n",
       "      <th>RUSAK_SEDANG</th>\n",
       "      <th>RUSAK_BERAT</th>\n",
       "      <th>TERTIMBUN</th>\n",
       "      <th>LAHAN</th>\n",
       "      <th>BANGUNAN LAINNYA</th>\n",
       "      <th>SARANA PENDIDIKAN</th>\n",
       "      <th>FASILITAS UMUM</th>\n",
       "      <th>LATITUDE</th>\n",
       "      <th>LONGITUDE</th>\n",
       "    </tr>\n",
       "  </thead>\n",
       "  <tbody>\n",
       "    <tr>\n",
       "      <th>0</th>\n",
       "      <td>1</td>\n",
       "      <td>KABUPATEN BOGOR</td>\n",
       "      <td>2021</td>\n",
       "      <td>225</td>\n",
       "      <td>2673</td>\n",
       "      <td>0</td>\n",
       "      <td>405</td>\n",
       "      <td>213</td>\n",
       "      <td>143</td>\n",
       "      <td>49</td>\n",
       "      <td>0</td>\n",
       "      <td>0</td>\n",
       "      <td>9</td>\n",
       "      <td>5</td>\n",
       "      <td>37</td>\n",
       "      <td>-6.479036</td>\n",
       "      <td>106.824545</td>\n",
       "    </tr>\n",
       "    <tr>\n",
       "      <th>1</th>\n",
       "      <td>2</td>\n",
       "      <td>KABUPATEN SUKABUMI</td>\n",
       "      <td>2021</td>\n",
       "      <td>147</td>\n",
       "      <td>311</td>\n",
       "      <td>3</td>\n",
       "      <td>82</td>\n",
       "      <td>24</td>\n",
       "      <td>39</td>\n",
       "      <td>19</td>\n",
       "      <td>14</td>\n",
       "      <td>27</td>\n",
       "      <td>4</td>\n",
       "      <td>4</td>\n",
       "      <td>50</td>\n",
       "      <td>-6.988837</td>\n",
       "      <td>106.550721</td>\n",
       "    </tr>\n",
       "    <tr>\n",
       "      <th>2</th>\n",
       "      <td>3</td>\n",
       "      <td>KABUPATEN CIANJUR</td>\n",
       "      <td>2021</td>\n",
       "      <td>27</td>\n",
       "      <td>227</td>\n",
       "      <td>1</td>\n",
       "      <td>48</td>\n",
       "      <td>14</td>\n",
       "      <td>24</td>\n",
       "      <td>10</td>\n",
       "      <td>0</td>\n",
       "      <td>800</td>\n",
       "      <td>2</td>\n",
       "      <td>1</td>\n",
       "      <td>17</td>\n",
       "      <td>-6.822804</td>\n",
       "      <td>107.139363</td>\n",
       "    </tr>\n",
       "    <tr>\n",
       "      <th>3</th>\n",
       "      <td>4</td>\n",
       "      <td>KABUPATEN BANDUNG</td>\n",
       "      <td>2021</td>\n",
       "      <td>60</td>\n",
       "      <td>285</td>\n",
       "      <td>3</td>\n",
       "      <td>44</td>\n",
       "      <td>17</td>\n",
       "      <td>13</td>\n",
       "      <td>14</td>\n",
       "      <td>15</td>\n",
       "      <td>30</td>\n",
       "      <td>18</td>\n",
       "      <td>1</td>\n",
       "      <td>15</td>\n",
       "      <td>-7.021893</td>\n",
       "      <td>107.527727</td>\n",
       "    </tr>\n",
       "    <tr>\n",
       "      <th>4</th>\n",
       "      <td>5</td>\n",
       "      <td>KABUPATEN GARUT</td>\n",
       "      <td>2021</td>\n",
       "      <td>42</td>\n",
       "      <td>294</td>\n",
       "      <td>0</td>\n",
       "      <td>17</td>\n",
       "      <td>1</td>\n",
       "      <td>6</td>\n",
       "      <td>10</td>\n",
       "      <td>2</td>\n",
       "      <td>6</td>\n",
       "      <td>5</td>\n",
       "      <td>4</td>\n",
       "      <td>20</td>\n",
       "      <td>-7.202182</td>\n",
       "      <td>107.887006</td>\n",
       "    </tr>\n",
       "  </tbody>\n",
       "</table>\n",
       "</div>"
      ],
      "text/plain": [
       "   No           KABUPATEN  TAHUN  JUMLAH_LONGSOR  JIWA_TERDAMPAK  \\\n",
       "0   1     KABUPATEN BOGOR   2021             225            2673   \n",
       "1   2  KABUPATEN SUKABUMI   2021             147             311   \n",
       "2   3   KABUPATEN CIANJUR   2021              27             227   \n",
       "3   4   KABUPATEN BANDUNG   2021              60             285   \n",
       "4   5     KABUPATEN GARUT   2021              42             294   \n",
       "\n",
       "   JIWA_MENINGGAL  RUSAK_TERDAMPAK  RUSAK_RINGAN  RUSAK_SEDANG  RUSAK_BERAT  \\\n",
       "0               0              405           213           143           49   \n",
       "1               3               82            24            39           19   \n",
       "2               1               48            14            24           10   \n",
       "3               3               44            17            13           14   \n",
       "4               0               17             1             6           10   \n",
       "\n",
       "   TERTIMBUN  LAHAN  BANGUNAN LAINNYA  SARANA PENDIDIKAN  FASILITAS UMUM  \\\n",
       "0          0      0                 9                  5              37   \n",
       "1         14     27                 4                  4              50   \n",
       "2          0    800                 2                  1              17   \n",
       "3         15     30                18                  1              15   \n",
       "4          2      6                 5                  4              20   \n",
       "\n",
       "   LATITUDE   LONGITUDE  \n",
       "0 -6.479036  106.824545  \n",
       "1 -6.988837  106.550721  \n",
       "2 -6.822804  107.139363  \n",
       "3 -7.021893  107.527727  \n",
       "4 -7.202182  107.887006  "
      ]
     },
     "execution_count": 540,
     "metadata": {},
     "output_type": "execute_result"
    }
   ],
   "source": [
    "df.head()"
   ]
  },
  {
   "cell_type": "code",
   "execution_count": 541,
   "metadata": {},
   "outputs": [],
   "source": [
    "# Choose the column for the line chart\n",
    "selected_column = 'JUMLAH_LONGSOR'"
   ]
  },
  {
   "cell_type": "code",
   "execution_count": 542,
   "metadata": {},
   "outputs": [],
   "source": [
    "# Calculate quartiles\n",
    "quartiles = df[selected_column].quantile([0.25, 0.5, 0.75])"
   ]
  },
  {
   "cell_type": "code",
   "execution_count": 543,
   "metadata": {},
   "outputs": [
    {
     "data": {
      "application/vnd.plotly.v1+json": {
       "config": {
        "plotlyServerURL": "https://plot.ly"
       },
       "data": [
        {
         "hovertemplate": "index=%{x}<br>JUMLAH_LONGSOR=%{y}<extra></extra>",
         "legendgroup": "",
         "line": {
          "color": "#000001",
          "dash": "solid"
         },
         "marker": {
          "symbol": "circle"
         },
         "mode": "lines",
         "name": "",
         "orientation": "v",
         "showlegend": false,
         "type": "scatter",
         "x": [
          0,
          1,
          2,
          3,
          4,
          5,
          6,
          7,
          8,
          9,
          10,
          11,
          12,
          13,
          14,
          15,
          16,
          17,
          18,
          19,
          20,
          21,
          22,
          23,
          24,
          25,
          26,
          27,
          28,
          29,
          30,
          31,
          32,
          33,
          34,
          35,
          36,
          37,
          38,
          39,
          40,
          41,
          42,
          43,
          44,
          45,
          46,
          47,
          48,
          49,
          50,
          51,
          52,
          53,
          54,
          55,
          56,
          57,
          58,
          59,
          60,
          61,
          62,
          63,
          64,
          65,
          66,
          67,
          68,
          69,
          70,
          71,
          72,
          73,
          74,
          75,
          76,
          77,
          78,
          79,
          80
         ],
         "xaxis": "x",
         "y": [
          225,
          147,
          27,
          60,
          42,
          7,
          72,
          49,
          6,
          32,
          86,
          1,
          12,
          19,
          4,
          2,
          54,
          3,
          159,
          2,
          5,
          2,
          2,
          2,
          4,
          2,
          3,
          103,
          96,
          32,
          29,
          28,
          8,
          35,
          18,
          2,
          25,
          21,
          1,
          9,
          13,
          2,
          2,
          46,
          4,
          40,
          13,
          1,
          1,
          3,
          1,
          6,
          8,
          0,
          109,
          56,
          13,
          33,
          17,
          8,
          26,
          9,
          1,
          21,
          8,
          0,
          7,
          25,
          4,
          4,
          43,
          4,
          37,
          6,
          6,
          2,
          1,
          2,
          11,
          10,
          2
         ],
         "yaxis": "y"
        }
       ],
       "layout": {
        "height": 300,
        "legend": {
         "tracegroupgap": 0
        },
        "template": {
         "data": {
          "candlestick": [
           {
            "decreasing": {
             "line": {
              "color": "#000033"
             }
            },
            "increasing": {
             "line": {
              "color": "#000032"
             }
            },
            "type": "candlestick"
           }
          ],
          "contour": [
           {
            "colorscale": [
             [
              0,
              "#000011"
             ],
             [
              0.1111111111111111,
              "#000012"
             ],
             [
              0.2222222222222222,
              "#000013"
             ],
             [
              0.3333333333333333,
              "#000014"
             ],
             [
              0.4444444444444444,
              "#000015"
             ],
             [
              0.5555555555555556,
              "#000016"
             ],
             [
              0.6666666666666666,
              "#000017"
             ],
             [
              0.7777777777777778,
              "#000018"
             ],
             [
              0.8888888888888888,
              "#000019"
             ],
             [
              1,
              "#000020"
             ]
            ],
            "type": "contour"
           }
          ],
          "contourcarpet": [
           {
            "colorscale": [
             [
              0,
              "#000011"
             ],
             [
              0.1111111111111111,
              "#000012"
             ],
             [
              0.2222222222222222,
              "#000013"
             ],
             [
              0.3333333333333333,
              "#000014"
             ],
             [
              0.4444444444444444,
              "#000015"
             ],
             [
              0.5555555555555556,
              "#000016"
             ],
             [
              0.6666666666666666,
              "#000017"
             ],
             [
              0.7777777777777778,
              "#000018"
             ],
             [
              0.8888888888888888,
              "#000019"
             ],
             [
              1,
              "#000020"
             ]
            ],
            "type": "contourcarpet"
           }
          ],
          "heatmap": [
           {
            "colorscale": [
             [
              0,
              "#000011"
             ],
             [
              0.1111111111111111,
              "#000012"
             ],
             [
              0.2222222222222222,
              "#000013"
             ],
             [
              0.3333333333333333,
              "#000014"
             ],
             [
              0.4444444444444444,
              "#000015"
             ],
             [
              0.5555555555555556,
              "#000016"
             ],
             [
              0.6666666666666666,
              "#000017"
             ],
             [
              0.7777777777777778,
              "#000018"
             ],
             [
              0.8888888888888888,
              "#000019"
             ],
             [
              1,
              "#000020"
             ]
            ],
            "type": "heatmap"
           }
          ],
          "histogram2d": [
           {
            "colorscale": [
             [
              0,
              "#000011"
             ],
             [
              0.1111111111111111,
              "#000012"
             ],
             [
              0.2222222222222222,
              "#000013"
             ],
             [
              0.3333333333333333,
              "#000014"
             ],
             [
              0.4444444444444444,
              "#000015"
             ],
             [
              0.5555555555555556,
              "#000016"
             ],
             [
              0.6666666666666666,
              "#000017"
             ],
             [
              0.7777777777777778,
              "#000018"
             ],
             [
              0.8888888888888888,
              "#000019"
             ],
             [
              1,
              "#000020"
             ]
            ],
            "type": "histogram2d"
           }
          ],
          "icicle": [
           {
            "textfont": {
             "color": "white"
            },
            "type": "icicle"
           }
          ],
          "sankey": [
           {
            "textfont": {
             "color": "#000036"
            },
            "type": "sankey"
           }
          ],
          "scatter": [
           {
            "marker": {
             "line": {
              "width": 0
             }
            },
            "type": "scatter"
           }
          ],
          "table": [
           {
            "cells": {
             "fill": {
              "color": "#000038"
             },
             "font": {
              "color": "#000037"
             },
             "line": {
              "color": "#000039"
             }
            },
            "header": {
             "fill": {
              "color": "#000040"
             },
             "font": {
              "color": "#000036"
             },
             "line": {
              "color": "#000039"
             }
            },
            "type": "table"
           }
          ],
          "waterfall": [
           {
            "connector": {
             "line": {
              "color": "#000036",
              "width": 2
             }
            },
            "decreasing": {
             "marker": {
              "color": "#000033"
             }
            },
            "increasing": {
             "marker": {
              "color": "#000032"
             }
            },
            "totals": {
             "marker": {
              "color": "#000034"
             }
            },
            "type": "waterfall"
           }
          ]
         },
         "layout": {
          "coloraxis": {
           "colorscale": [
            [
             0,
             "#000011"
            ],
            [
             0.1111111111111111,
             "#000012"
            ],
            [
             0.2222222222222222,
             "#000013"
            ],
            [
             0.3333333333333333,
             "#000014"
            ],
            [
             0.4444444444444444,
             "#000015"
            ],
            [
             0.5555555555555556,
             "#000016"
            ],
            [
             0.6666666666666666,
             "#000017"
            ],
            [
             0.7777777777777778,
             "#000018"
            ],
            [
             0.8888888888888888,
             "#000019"
            ],
            [
             1,
             "#000020"
            ]
           ]
          },
          "colorscale": {
           "diverging": [
            [
             0,
             "#000021"
            ],
            [
             0.1,
             "#000022"
            ],
            [
             0.2,
             "#000023"
            ],
            [
             0.3,
             "#000024"
            ],
            [
             0.4,
             "#000025"
            ],
            [
             0.5,
             "#000026"
            ],
            [
             0.6,
             "#000027"
            ],
            [
             0.7,
             "#000028"
            ],
            [
             0.8,
             "#000029"
            ],
            [
             0.9,
             "#000030"
            ],
            [
             1,
             "#000031"
            ]
           ],
           "sequential": [
            [
             0,
             "#000011"
            ],
            [
             0.1111111111111111,
             "#000012"
            ],
            [
             0.2222222222222222,
             "#000013"
            ],
            [
             0.3333333333333333,
             "#000014"
            ],
            [
             0.4444444444444444,
             "#000015"
            ],
            [
             0.5555555555555556,
             "#000016"
            ],
            [
             0.6666666666666666,
             "#000017"
            ],
            [
             0.7777777777777778,
             "#000018"
            ],
            [
             0.8888888888888888,
             "#000019"
            ],
            [
             1,
             "#000020"
            ]
           ],
           "sequentialminus": [
            [
             0,
             "#000011"
            ],
            [
             0.1111111111111111,
             "#000012"
            ],
            [
             0.2222222222222222,
             "#000013"
            ],
            [
             0.3333333333333333,
             "#000014"
            ],
            [
             0.4444444444444444,
             "#000015"
            ],
            [
             0.5555555555555556,
             "#000016"
            ],
            [
             0.6666666666666666,
             "#000017"
            ],
            [
             0.7777777777777778,
             "#000018"
            ],
            [
             0.8888888888888888,
             "#000019"
            ],
            [
             1,
             "#000020"
            ]
           ]
          },
          "colorway": [
           "#000001",
           "#000002",
           "#000003",
           "#000004",
           "#000005",
           "#000006",
           "#000007",
           "#000008",
           "#000009",
           "#000010"
          ]
         }
        },
        "title": {
         "text": "Line Chart - 25th Percentile (Q1)"
        },
        "width": 400,
        "xaxis": {
         "anchor": "y",
         "domain": [
          0,
          1
         ],
         "title": {
          "text": "index"
         }
        },
        "yaxis": {
         "anchor": "x",
         "domain": [
          0,
          1
         ],
         "title": {
          "text": "JUMLAH_LONGSOR"
         }
        }
       }
      }
     },
     "metadata": {},
     "output_type": "display_data"
    },
    {
     "name": "stdout",
     "output_type": "stream",
     "text": [
      "- 0.25% Percentile (Q1): 2.0\n"
     ]
    }
   ],
   "source": [
    "# Create line chart for each quartile\n",
    "fig_q1 = px.line(df, x=df.index, y=selected_column, title=\"Line Chart - 25th Percentile (Q1)\")\n",
    "fig_q1.update_layout(height=300, width=400)  # Adjust the size\n",
    "fig_q1.show()\n",
    "\n",
    "\n",
    "\n",
    "# Print quartile information\n",
    "print(f\"- 0.25% Percentile (Q1): {quartiles[0.25]}\")\n"
   ]
  },
  {
   "cell_type": "code",
   "execution_count": 544,
   "metadata": {},
   "outputs": [
    {
     "data": {
      "application/vnd.plotly.v1+json": {
       "config": {
        "plotlyServerURL": "https://plot.ly"
       },
       "data": [
        {
         "hovertemplate": "index=%{x}<br>JUMLAH_LONGSOR=%{y}<extra></extra>",
         "legendgroup": "",
         "line": {
          "color": "#000001",
          "dash": "solid"
         },
         "marker": {
          "symbol": "circle"
         },
         "mode": "lines",
         "name": "",
         "orientation": "v",
         "showlegend": false,
         "type": "scatter",
         "x": [
          0,
          1,
          2,
          3,
          4,
          5,
          6,
          7,
          8,
          9,
          10,
          11,
          12,
          13,
          14,
          15,
          16,
          17,
          18,
          19,
          20,
          21,
          22,
          23,
          24,
          25,
          26,
          27,
          28,
          29,
          30,
          31,
          32,
          33,
          34,
          35,
          36,
          37,
          38,
          39,
          40,
          41,
          42,
          43,
          44,
          45,
          46,
          47,
          48,
          49,
          50,
          51,
          52,
          53,
          54,
          55,
          56,
          57,
          58,
          59,
          60,
          61,
          62,
          63,
          64,
          65,
          66,
          67,
          68,
          69,
          70,
          71,
          72,
          73,
          74,
          75,
          76,
          77,
          78,
          79,
          80
         ],
         "xaxis": "x",
         "y": [
          225,
          147,
          27,
          60,
          42,
          7,
          72,
          49,
          6,
          32,
          86,
          1,
          12,
          19,
          4,
          2,
          54,
          3,
          159,
          2,
          5,
          2,
          2,
          2,
          4,
          2,
          3,
          103,
          96,
          32,
          29,
          28,
          8,
          35,
          18,
          2,
          25,
          21,
          1,
          9,
          13,
          2,
          2,
          46,
          4,
          40,
          13,
          1,
          1,
          3,
          1,
          6,
          8,
          0,
          109,
          56,
          13,
          33,
          17,
          8,
          26,
          9,
          1,
          21,
          8,
          0,
          7,
          25,
          4,
          4,
          43,
          4,
          37,
          6,
          6,
          2,
          1,
          2,
          11,
          10,
          2
         ],
         "yaxis": "y"
        }
       ],
       "layout": {
        "height": 300,
        "legend": {
         "tracegroupgap": 0
        },
        "template": {
         "data": {
          "candlestick": [
           {
            "decreasing": {
             "line": {
              "color": "#000033"
             }
            },
            "increasing": {
             "line": {
              "color": "#000032"
             }
            },
            "type": "candlestick"
           }
          ],
          "contour": [
           {
            "colorscale": [
             [
              0,
              "#000011"
             ],
             [
              0.1111111111111111,
              "#000012"
             ],
             [
              0.2222222222222222,
              "#000013"
             ],
             [
              0.3333333333333333,
              "#000014"
             ],
             [
              0.4444444444444444,
              "#000015"
             ],
             [
              0.5555555555555556,
              "#000016"
             ],
             [
              0.6666666666666666,
              "#000017"
             ],
             [
              0.7777777777777778,
              "#000018"
             ],
             [
              0.8888888888888888,
              "#000019"
             ],
             [
              1,
              "#000020"
             ]
            ],
            "type": "contour"
           }
          ],
          "contourcarpet": [
           {
            "colorscale": [
             [
              0,
              "#000011"
             ],
             [
              0.1111111111111111,
              "#000012"
             ],
             [
              0.2222222222222222,
              "#000013"
             ],
             [
              0.3333333333333333,
              "#000014"
             ],
             [
              0.4444444444444444,
              "#000015"
             ],
             [
              0.5555555555555556,
              "#000016"
             ],
             [
              0.6666666666666666,
              "#000017"
             ],
             [
              0.7777777777777778,
              "#000018"
             ],
             [
              0.8888888888888888,
              "#000019"
             ],
             [
              1,
              "#000020"
             ]
            ],
            "type": "contourcarpet"
           }
          ],
          "heatmap": [
           {
            "colorscale": [
             [
              0,
              "#000011"
             ],
             [
              0.1111111111111111,
              "#000012"
             ],
             [
              0.2222222222222222,
              "#000013"
             ],
             [
              0.3333333333333333,
              "#000014"
             ],
             [
              0.4444444444444444,
              "#000015"
             ],
             [
              0.5555555555555556,
              "#000016"
             ],
             [
              0.6666666666666666,
              "#000017"
             ],
             [
              0.7777777777777778,
              "#000018"
             ],
             [
              0.8888888888888888,
              "#000019"
             ],
             [
              1,
              "#000020"
             ]
            ],
            "type": "heatmap"
           }
          ],
          "histogram2d": [
           {
            "colorscale": [
             [
              0,
              "#000011"
             ],
             [
              0.1111111111111111,
              "#000012"
             ],
             [
              0.2222222222222222,
              "#000013"
             ],
             [
              0.3333333333333333,
              "#000014"
             ],
             [
              0.4444444444444444,
              "#000015"
             ],
             [
              0.5555555555555556,
              "#000016"
             ],
             [
              0.6666666666666666,
              "#000017"
             ],
             [
              0.7777777777777778,
              "#000018"
             ],
             [
              0.8888888888888888,
              "#000019"
             ],
             [
              1,
              "#000020"
             ]
            ],
            "type": "histogram2d"
           }
          ],
          "icicle": [
           {
            "textfont": {
             "color": "white"
            },
            "type": "icicle"
           }
          ],
          "sankey": [
           {
            "textfont": {
             "color": "#000036"
            },
            "type": "sankey"
           }
          ],
          "scatter": [
           {
            "marker": {
             "line": {
              "width": 0
             }
            },
            "type": "scatter"
           }
          ],
          "table": [
           {
            "cells": {
             "fill": {
              "color": "#000038"
             },
             "font": {
              "color": "#000037"
             },
             "line": {
              "color": "#000039"
             }
            },
            "header": {
             "fill": {
              "color": "#000040"
             },
             "font": {
              "color": "#000036"
             },
             "line": {
              "color": "#000039"
             }
            },
            "type": "table"
           }
          ],
          "waterfall": [
           {
            "connector": {
             "line": {
              "color": "#000036",
              "width": 2
             }
            },
            "decreasing": {
             "marker": {
              "color": "#000033"
             }
            },
            "increasing": {
             "marker": {
              "color": "#000032"
             }
            },
            "totals": {
             "marker": {
              "color": "#000034"
             }
            },
            "type": "waterfall"
           }
          ]
         },
         "layout": {
          "coloraxis": {
           "colorscale": [
            [
             0,
             "#000011"
            ],
            [
             0.1111111111111111,
             "#000012"
            ],
            [
             0.2222222222222222,
             "#000013"
            ],
            [
             0.3333333333333333,
             "#000014"
            ],
            [
             0.4444444444444444,
             "#000015"
            ],
            [
             0.5555555555555556,
             "#000016"
            ],
            [
             0.6666666666666666,
             "#000017"
            ],
            [
             0.7777777777777778,
             "#000018"
            ],
            [
             0.8888888888888888,
             "#000019"
            ],
            [
             1,
             "#000020"
            ]
           ]
          },
          "colorscale": {
           "diverging": [
            [
             0,
             "#000021"
            ],
            [
             0.1,
             "#000022"
            ],
            [
             0.2,
             "#000023"
            ],
            [
             0.3,
             "#000024"
            ],
            [
             0.4,
             "#000025"
            ],
            [
             0.5,
             "#000026"
            ],
            [
             0.6,
             "#000027"
            ],
            [
             0.7,
             "#000028"
            ],
            [
             0.8,
             "#000029"
            ],
            [
             0.9,
             "#000030"
            ],
            [
             1,
             "#000031"
            ]
           ],
           "sequential": [
            [
             0,
             "#000011"
            ],
            [
             0.1111111111111111,
             "#000012"
            ],
            [
             0.2222222222222222,
             "#000013"
            ],
            [
             0.3333333333333333,
             "#000014"
            ],
            [
             0.4444444444444444,
             "#000015"
            ],
            [
             0.5555555555555556,
             "#000016"
            ],
            [
             0.6666666666666666,
             "#000017"
            ],
            [
             0.7777777777777778,
             "#000018"
            ],
            [
             0.8888888888888888,
             "#000019"
            ],
            [
             1,
             "#000020"
            ]
           ],
           "sequentialminus": [
            [
             0,
             "#000011"
            ],
            [
             0.1111111111111111,
             "#000012"
            ],
            [
             0.2222222222222222,
             "#000013"
            ],
            [
             0.3333333333333333,
             "#000014"
            ],
            [
             0.4444444444444444,
             "#000015"
            ],
            [
             0.5555555555555556,
             "#000016"
            ],
            [
             0.6666666666666666,
             "#000017"
            ],
            [
             0.7777777777777778,
             "#000018"
            ],
            [
             0.8888888888888888,
             "#000019"
            ],
            [
             1,
             "#000020"
            ]
           ]
          },
          "colorway": [
           "#000001",
           "#000002",
           "#000003",
           "#000004",
           "#000005",
           "#000006",
           "#000007",
           "#000008",
           "#000009",
           "#000010"
          ]
         }
        },
        "title": {
         "text": "Line Chart - 50th Percentile (Q2)"
        },
        "width": 400,
        "xaxis": {
         "anchor": "y",
         "domain": [
          0,
          1
         ],
         "title": {
          "text": "index"
         }
        },
        "yaxis": {
         "anchor": "x",
         "domain": [
          0,
          1
         ],
         "title": {
          "text": "JUMLAH_LONGSOR"
         }
        }
       }
      }
     },
     "metadata": {},
     "output_type": "display_data"
    },
    {
     "name": "stdout",
     "output_type": "stream",
     "text": [
      "- 50th Percentile (Q2): 8.0\n"
     ]
    }
   ],
   "source": [
    "fig_q2 = px.line(df, x=df.index, y=selected_column, title=\"Line Chart - 50th Percentile (Q2)\")\n",
    "fig_q2.update_layout(height=300, width=400)  # Adjust the size\n",
    "fig_q2.show()\n",
    "\n",
    "print(f\"- 50th Percentile (Q2): {quartiles[0.5]}\")\n"
   ]
  },
  {
   "cell_type": "code",
   "execution_count": 545,
   "metadata": {},
   "outputs": [
    {
     "data": {
      "application/vnd.plotly.v1+json": {
       "config": {
        "plotlyServerURL": "https://plot.ly"
       },
       "data": [
        {
         "hovertemplate": "index=%{x}<br>JUMLAH_LONGSOR=%{y}<extra></extra>",
         "legendgroup": "",
         "line": {
          "color": "#000001",
          "dash": "solid"
         },
         "marker": {
          "symbol": "circle"
         },
         "mode": "lines",
         "name": "",
         "orientation": "v",
         "showlegend": false,
         "type": "scatter",
         "x": [
          0,
          1,
          2,
          3,
          4,
          5,
          6,
          7,
          8,
          9,
          10,
          11,
          12,
          13,
          14,
          15,
          16,
          17,
          18,
          19,
          20,
          21,
          22,
          23,
          24,
          25,
          26,
          27,
          28,
          29,
          30,
          31,
          32,
          33,
          34,
          35,
          36,
          37,
          38,
          39,
          40,
          41,
          42,
          43,
          44,
          45,
          46,
          47,
          48,
          49,
          50,
          51,
          52,
          53,
          54,
          55,
          56,
          57,
          58,
          59,
          60,
          61,
          62,
          63,
          64,
          65,
          66,
          67,
          68,
          69,
          70,
          71,
          72,
          73,
          74,
          75,
          76,
          77,
          78,
          79,
          80
         ],
         "xaxis": "x",
         "y": [
          225,
          147,
          27,
          60,
          42,
          7,
          72,
          49,
          6,
          32,
          86,
          1,
          12,
          19,
          4,
          2,
          54,
          3,
          159,
          2,
          5,
          2,
          2,
          2,
          4,
          2,
          3,
          103,
          96,
          32,
          29,
          28,
          8,
          35,
          18,
          2,
          25,
          21,
          1,
          9,
          13,
          2,
          2,
          46,
          4,
          40,
          13,
          1,
          1,
          3,
          1,
          6,
          8,
          0,
          109,
          56,
          13,
          33,
          17,
          8,
          26,
          9,
          1,
          21,
          8,
          0,
          7,
          25,
          4,
          4,
          43,
          4,
          37,
          6,
          6,
          2,
          1,
          2,
          11,
          10,
          2
         ],
         "yaxis": "y"
        }
       ],
       "layout": {
        "height": 300,
        "legend": {
         "tracegroupgap": 0
        },
        "template": {
         "data": {
          "candlestick": [
           {
            "decreasing": {
             "line": {
              "color": "#000033"
             }
            },
            "increasing": {
             "line": {
              "color": "#000032"
             }
            },
            "type": "candlestick"
           }
          ],
          "contour": [
           {
            "colorscale": [
             [
              0,
              "#000011"
             ],
             [
              0.1111111111111111,
              "#000012"
             ],
             [
              0.2222222222222222,
              "#000013"
             ],
             [
              0.3333333333333333,
              "#000014"
             ],
             [
              0.4444444444444444,
              "#000015"
             ],
             [
              0.5555555555555556,
              "#000016"
             ],
             [
              0.6666666666666666,
              "#000017"
             ],
             [
              0.7777777777777778,
              "#000018"
             ],
             [
              0.8888888888888888,
              "#000019"
             ],
             [
              1,
              "#000020"
             ]
            ],
            "type": "contour"
           }
          ],
          "contourcarpet": [
           {
            "colorscale": [
             [
              0,
              "#000011"
             ],
             [
              0.1111111111111111,
              "#000012"
             ],
             [
              0.2222222222222222,
              "#000013"
             ],
             [
              0.3333333333333333,
              "#000014"
             ],
             [
              0.4444444444444444,
              "#000015"
             ],
             [
              0.5555555555555556,
              "#000016"
             ],
             [
              0.6666666666666666,
              "#000017"
             ],
             [
              0.7777777777777778,
              "#000018"
             ],
             [
              0.8888888888888888,
              "#000019"
             ],
             [
              1,
              "#000020"
             ]
            ],
            "type": "contourcarpet"
           }
          ],
          "heatmap": [
           {
            "colorscale": [
             [
              0,
              "#000011"
             ],
             [
              0.1111111111111111,
              "#000012"
             ],
             [
              0.2222222222222222,
              "#000013"
             ],
             [
              0.3333333333333333,
              "#000014"
             ],
             [
              0.4444444444444444,
              "#000015"
             ],
             [
              0.5555555555555556,
              "#000016"
             ],
             [
              0.6666666666666666,
              "#000017"
             ],
             [
              0.7777777777777778,
              "#000018"
             ],
             [
              0.8888888888888888,
              "#000019"
             ],
             [
              1,
              "#000020"
             ]
            ],
            "type": "heatmap"
           }
          ],
          "histogram2d": [
           {
            "colorscale": [
             [
              0,
              "#000011"
             ],
             [
              0.1111111111111111,
              "#000012"
             ],
             [
              0.2222222222222222,
              "#000013"
             ],
             [
              0.3333333333333333,
              "#000014"
             ],
             [
              0.4444444444444444,
              "#000015"
             ],
             [
              0.5555555555555556,
              "#000016"
             ],
             [
              0.6666666666666666,
              "#000017"
             ],
             [
              0.7777777777777778,
              "#000018"
             ],
             [
              0.8888888888888888,
              "#000019"
             ],
             [
              1,
              "#000020"
             ]
            ],
            "type": "histogram2d"
           }
          ],
          "icicle": [
           {
            "textfont": {
             "color": "white"
            },
            "type": "icicle"
           }
          ],
          "sankey": [
           {
            "textfont": {
             "color": "#000036"
            },
            "type": "sankey"
           }
          ],
          "scatter": [
           {
            "marker": {
             "line": {
              "width": 0
             }
            },
            "type": "scatter"
           }
          ],
          "table": [
           {
            "cells": {
             "fill": {
              "color": "#000038"
             },
             "font": {
              "color": "#000037"
             },
             "line": {
              "color": "#000039"
             }
            },
            "header": {
             "fill": {
              "color": "#000040"
             },
             "font": {
              "color": "#000036"
             },
             "line": {
              "color": "#000039"
             }
            },
            "type": "table"
           }
          ],
          "waterfall": [
           {
            "connector": {
             "line": {
              "color": "#000036",
              "width": 2
             }
            },
            "decreasing": {
             "marker": {
              "color": "#000033"
             }
            },
            "increasing": {
             "marker": {
              "color": "#000032"
             }
            },
            "totals": {
             "marker": {
              "color": "#000034"
             }
            },
            "type": "waterfall"
           }
          ]
         },
         "layout": {
          "coloraxis": {
           "colorscale": [
            [
             0,
             "#000011"
            ],
            [
             0.1111111111111111,
             "#000012"
            ],
            [
             0.2222222222222222,
             "#000013"
            ],
            [
             0.3333333333333333,
             "#000014"
            ],
            [
             0.4444444444444444,
             "#000015"
            ],
            [
             0.5555555555555556,
             "#000016"
            ],
            [
             0.6666666666666666,
             "#000017"
            ],
            [
             0.7777777777777778,
             "#000018"
            ],
            [
             0.8888888888888888,
             "#000019"
            ],
            [
             1,
             "#000020"
            ]
           ]
          },
          "colorscale": {
           "diverging": [
            [
             0,
             "#000021"
            ],
            [
             0.1,
             "#000022"
            ],
            [
             0.2,
             "#000023"
            ],
            [
             0.3,
             "#000024"
            ],
            [
             0.4,
             "#000025"
            ],
            [
             0.5,
             "#000026"
            ],
            [
             0.6,
             "#000027"
            ],
            [
             0.7,
             "#000028"
            ],
            [
             0.8,
             "#000029"
            ],
            [
             0.9,
             "#000030"
            ],
            [
             1,
             "#000031"
            ]
           ],
           "sequential": [
            [
             0,
             "#000011"
            ],
            [
             0.1111111111111111,
             "#000012"
            ],
            [
             0.2222222222222222,
             "#000013"
            ],
            [
             0.3333333333333333,
             "#000014"
            ],
            [
             0.4444444444444444,
             "#000015"
            ],
            [
             0.5555555555555556,
             "#000016"
            ],
            [
             0.6666666666666666,
             "#000017"
            ],
            [
             0.7777777777777778,
             "#000018"
            ],
            [
             0.8888888888888888,
             "#000019"
            ],
            [
             1,
             "#000020"
            ]
           ],
           "sequentialminus": [
            [
             0,
             "#000011"
            ],
            [
             0.1111111111111111,
             "#000012"
            ],
            [
             0.2222222222222222,
             "#000013"
            ],
            [
             0.3333333333333333,
             "#000014"
            ],
            [
             0.4444444444444444,
             "#000015"
            ],
            [
             0.5555555555555556,
             "#000016"
            ],
            [
             0.6666666666666666,
             "#000017"
            ],
            [
             0.7777777777777778,
             "#000018"
            ],
            [
             0.8888888888888888,
             "#000019"
            ],
            [
             1,
             "#000020"
            ]
           ]
          },
          "colorway": [
           "#000001",
           "#000002",
           "#000003",
           "#000004",
           "#000005",
           "#000006",
           "#000007",
           "#000008",
           "#000009",
           "#000010"
          ]
         }
        },
        "title": {
         "text": "Line Chart - 75th Percentile (Q3)"
        },
        "width": 400,
        "xaxis": {
         "anchor": "y",
         "domain": [
          0,
          1
         ],
         "title": {
          "text": "index"
         }
        },
        "yaxis": {
         "anchor": "x",
         "domain": [
          0,
          1
         ],
         "title": {
          "text": "JUMLAH_LONGSOR"
         }
        }
       }
      }
     },
     "metadata": {},
     "output_type": "display_data"
    },
    {
     "name": "stdout",
     "output_type": "stream",
     "text": [
      "- 75th Percentile (Q3): 32.0\n"
     ]
    }
   ],
   "source": [
    "\n",
    "fig_q3 = px.line(df, x=df.index, y=selected_column, title=\"Line Chart - 75th Percentile (Q3)\")\n",
    "fig_q3.update_layout(height=300, width=400)  # Adjust the size\n",
    "fig_q3.show()\n",
    "\n",
    "print(f\"- 75th Percentile (Q3): {quartiles[0.75]}\")\n"
   ]
  },
  {
   "cell_type": "code",
   "execution_count": 546,
   "metadata": {},
   "outputs": [],
   "source": [
    "# Exploring variables\n",
    "selected_features = [\n",
    "    'JUMLAH_LONGSOR',\n",
    "    'JIWA_TERDAMPAK',\n",
    "    'JIWA_MENINGGAL',\n",
    "    'RUSAK_TERDAMPAK',\n",
    "    'RUSAK_RINGAN',\n",
    "    'RUSAK_SEDANG',\n",
    "    'RUSAK_BERAT',\n",
    "    'TERTIMBUN',\n",
    "    'LATITUDE',\n",
    "    'LONGITUDE'\n",
    "]\n",
    "\n"
   ]
  },
  {
   "cell_type": "code",
   "execution_count": 547,
   "metadata": {},
   "outputs": [
    {
     "data": {
      "application/vnd.plotly.v1+json": {
       "config": {
        "plotlyServerURL": "https://plot.ly"
       },
       "data": [
        {
         "coloraxis": "coloraxis",
         "hovertemplate": "Features: %{x}<br>Features: %{y}<br>Correlation: %{z}<extra></extra>",
         "name": "0",
         "type": "heatmap",
         "x": [
          "JUMLAH_LONGSOR",
          "JIWA_TERDAMPAK",
          "JIWA_MENINGGAL",
          "RUSAK_TERDAMPAK",
          "RUSAK_RINGAN",
          "RUSAK_SEDANG",
          "RUSAK_BERAT",
          "TERTIMBUN",
          "LATITUDE",
          "LONGITUDE"
         ],
         "xaxis": "x",
         "y": [
          "JUMLAH_LONGSOR",
          "JIWA_TERDAMPAK",
          "JIWA_MENINGGAL",
          "RUSAK_TERDAMPAK",
          "RUSAK_RINGAN",
          "RUSAK_SEDANG",
          "RUSAK_BERAT",
          "TERTIMBUN",
          "LATITUDE",
          "LONGITUDE"
         ],
         "yaxis": "y",
         "z": [
          [
           1,
           0.799004984716814,
           0.2579644706480685,
           0.7344457420632773,
           0.7243929101306698,
           0.7313299016877128,
           0.5538791359906186,
           0.17736895407242562,
           0.03128262685511072,
           -0.39242420004135653
          ],
          [
           0.799004984716814,
           1,
           0.33580906169366076,
           0.9303210704136895,
           0.8980067210736455,
           0.9205845339188815,
           0.7540461122873914,
           0.16444280069659095,
           0.09652110431838895,
           -0.39311151878553685
          ],
          [
           0.2579644706480685,
           0.33580906169366076,
           1,
           0.35024254922153686,
           0.2650402801804416,
           0.38794622302958387,
           0.38250442069437174,
           0.3565052089297703,
           -0.03574589836198518,
           -0.31902914900260093
          ],
          [
           0.7344457420632773,
           0.9303210704136895,
           0.35024254922153686,
           1,
           0.9622262237821956,
           0.9620528115356312,
           0.8686568687992523,
           0.11339209773232656,
           0.062002634347663385,
           -0.3729798752344259
          ],
          [
           0.7243929101306698,
           0.8980067210736455,
           0.2650402801804416,
           0.9622262237821956,
           1,
           0.8835304920668254,
           0.7680344491332807,
           0.052145256611331285,
           0.011477211991785264,
           -0.2686963545201855
          ],
          [
           0.7313299016877128,
           0.9205845339188815,
           0.38794622302958387,
           0.9620528115356312,
           0.8835304920668254,
           1,
           0.7788595597844423,
           0.15033921555673632,
           0.09192788002494584,
           -0.41700797510336957
          ],
          [
           0.5538791359906186,
           0.7540461122873914,
           0.38250442069437174,
           0.8686568687992523,
           0.7680344491332807,
           0.7788595597844423,
           1,
           0.13231492816137186,
           0.0871234558766378,
           -0.3962686656748443
          ],
          [
           0.17736895407242562,
           0.16444280069659095,
           0.3565052089297703,
           0.11339209773232656,
           0.052145256611331285,
           0.15033921555673632,
           0.13231492816137186,
           1,
           0.014725496721184951,
           -0.22348055605403833
          ],
          [
           0.03128262685511072,
           0.09652110431838895,
           -0.03574589836198518,
           0.062002634347663385,
           0.011477211991785264,
           0.09192788002494584,
           0.0871234558766378,
           0.014725496721184951,
           1,
           -0.5050331755190274
          ],
          [
           -0.39242420004135653,
           -0.39311151878553685,
           -0.31902914900260093,
           -0.3729798752344259,
           -0.2686963545201855,
           -0.41700797510336957,
           -0.3962686656748443,
           -0.22348055605403833,
           -0.5050331755190274,
           1
          ]
         ]
        }
       ],
       "layout": {
        "coloraxis": {
         "colorbar": {
          "title": {
           "text": "Correlation"
          }
         },
         "colorscale": [
          [
           0,
           "#440154"
          ],
          [
           0.1111111111111111,
           "#482878"
          ],
          [
           0.2222222222222222,
           "#3e4989"
          ],
          [
           0.3333333333333333,
           "#31688e"
          ],
          [
           0.4444444444444444,
           "#26828e"
          ],
          [
           0.5555555555555556,
           "#1f9e89"
          ],
          [
           0.6666666666666666,
           "#35b779"
          ],
          [
           0.7777777777777778,
           "#6ece58"
          ],
          [
           0.8888888888888888,
           "#b5de2b"
          ],
          [
           1,
           "#fde725"
          ]
         ]
        },
        "template": {
         "data": {
          "candlestick": [
           {
            "decreasing": {
             "line": {
              "color": "#000033"
             }
            },
            "increasing": {
             "line": {
              "color": "#000032"
             }
            },
            "type": "candlestick"
           }
          ],
          "contour": [
           {
            "colorscale": [
             [
              0,
              "#000011"
             ],
             [
              0.1111111111111111,
              "#000012"
             ],
             [
              0.2222222222222222,
              "#000013"
             ],
             [
              0.3333333333333333,
              "#000014"
             ],
             [
              0.4444444444444444,
              "#000015"
             ],
             [
              0.5555555555555556,
              "#000016"
             ],
             [
              0.6666666666666666,
              "#000017"
             ],
             [
              0.7777777777777778,
              "#000018"
             ],
             [
              0.8888888888888888,
              "#000019"
             ],
             [
              1,
              "#000020"
             ]
            ],
            "type": "contour"
           }
          ],
          "contourcarpet": [
           {
            "colorscale": [
             [
              0,
              "#000011"
             ],
             [
              0.1111111111111111,
              "#000012"
             ],
             [
              0.2222222222222222,
              "#000013"
             ],
             [
              0.3333333333333333,
              "#000014"
             ],
             [
              0.4444444444444444,
              "#000015"
             ],
             [
              0.5555555555555556,
              "#000016"
             ],
             [
              0.6666666666666666,
              "#000017"
             ],
             [
              0.7777777777777778,
              "#000018"
             ],
             [
              0.8888888888888888,
              "#000019"
             ],
             [
              1,
              "#000020"
             ]
            ],
            "type": "contourcarpet"
           }
          ],
          "heatmap": [
           {
            "colorscale": [
             [
              0,
              "#000011"
             ],
             [
              0.1111111111111111,
              "#000012"
             ],
             [
              0.2222222222222222,
              "#000013"
             ],
             [
              0.3333333333333333,
              "#000014"
             ],
             [
              0.4444444444444444,
              "#000015"
             ],
             [
              0.5555555555555556,
              "#000016"
             ],
             [
              0.6666666666666666,
              "#000017"
             ],
             [
              0.7777777777777778,
              "#000018"
             ],
             [
              0.8888888888888888,
              "#000019"
             ],
             [
              1,
              "#000020"
             ]
            ],
            "type": "heatmap"
           }
          ],
          "histogram2d": [
           {
            "colorscale": [
             [
              0,
              "#000011"
             ],
             [
              0.1111111111111111,
              "#000012"
             ],
             [
              0.2222222222222222,
              "#000013"
             ],
             [
              0.3333333333333333,
              "#000014"
             ],
             [
              0.4444444444444444,
              "#000015"
             ],
             [
              0.5555555555555556,
              "#000016"
             ],
             [
              0.6666666666666666,
              "#000017"
             ],
             [
              0.7777777777777778,
              "#000018"
             ],
             [
              0.8888888888888888,
              "#000019"
             ],
             [
              1,
              "#000020"
             ]
            ],
            "type": "histogram2d"
           }
          ],
          "icicle": [
           {
            "textfont": {
             "color": "white"
            },
            "type": "icicle"
           }
          ],
          "sankey": [
           {
            "textfont": {
             "color": "#000036"
            },
            "type": "sankey"
           }
          ],
          "scatter": [
           {
            "marker": {
             "line": {
              "width": 0
             }
            },
            "type": "scatter"
           }
          ],
          "table": [
           {
            "cells": {
             "fill": {
              "color": "#000038"
             },
             "font": {
              "color": "#000037"
             },
             "line": {
              "color": "#000039"
             }
            },
            "header": {
             "fill": {
              "color": "#000040"
             },
             "font": {
              "color": "#000036"
             },
             "line": {
              "color": "#000039"
             }
            },
            "type": "table"
           }
          ],
          "waterfall": [
           {
            "connector": {
             "line": {
              "color": "#000036",
              "width": 2
             }
            },
            "decreasing": {
             "marker": {
              "color": "#000033"
             }
            },
            "increasing": {
             "marker": {
              "color": "#000032"
             }
            },
            "totals": {
             "marker": {
              "color": "#000034"
             }
            },
            "type": "waterfall"
           }
          ]
         },
         "layout": {
          "coloraxis": {
           "colorscale": [
            [
             0,
             "#000011"
            ],
            [
             0.1111111111111111,
             "#000012"
            ],
            [
             0.2222222222222222,
             "#000013"
            ],
            [
             0.3333333333333333,
             "#000014"
            ],
            [
             0.4444444444444444,
             "#000015"
            ],
            [
             0.5555555555555556,
             "#000016"
            ],
            [
             0.6666666666666666,
             "#000017"
            ],
            [
             0.7777777777777778,
             "#000018"
            ],
            [
             0.8888888888888888,
             "#000019"
            ],
            [
             1,
             "#000020"
            ]
           ]
          },
          "colorscale": {
           "diverging": [
            [
             0,
             "#000021"
            ],
            [
             0.1,
             "#000022"
            ],
            [
             0.2,
             "#000023"
            ],
            [
             0.3,
             "#000024"
            ],
            [
             0.4,
             "#000025"
            ],
            [
             0.5,
             "#000026"
            ],
            [
             0.6,
             "#000027"
            ],
            [
             0.7,
             "#000028"
            ],
            [
             0.8,
             "#000029"
            ],
            [
             0.9,
             "#000030"
            ],
            [
             1,
             "#000031"
            ]
           ],
           "sequential": [
            [
             0,
             "#000011"
            ],
            [
             0.1111111111111111,
             "#000012"
            ],
            [
             0.2222222222222222,
             "#000013"
            ],
            [
             0.3333333333333333,
             "#000014"
            ],
            [
             0.4444444444444444,
             "#000015"
            ],
            [
             0.5555555555555556,
             "#000016"
            ],
            [
             0.6666666666666666,
             "#000017"
            ],
            [
             0.7777777777777778,
             "#000018"
            ],
            [
             0.8888888888888888,
             "#000019"
            ],
            [
             1,
             "#000020"
            ]
           ],
           "sequentialminus": [
            [
             0,
             "#000011"
            ],
            [
             0.1111111111111111,
             "#000012"
            ],
            [
             0.2222222222222222,
             "#000013"
            ],
            [
             0.3333333333333333,
             "#000014"
            ],
            [
             0.4444444444444444,
             "#000015"
            ],
            [
             0.5555555555555556,
             "#000016"
            ],
            [
             0.6666666666666666,
             "#000017"
            ],
            [
             0.7777777777777778,
             "#000018"
            ],
            [
             0.8888888888888888,
             "#000019"
            ],
            [
             1,
             "#000020"
            ]
           ]
          },
          "colorway": [
           "#000001",
           "#000002",
           "#000003",
           "#000004",
           "#000005",
           "#000006",
           "#000007",
           "#000008",
           "#000009",
           "#000010"
          ]
         }
        },
        "title": {
         "text": "Heatmap Korelasi"
        },
        "xaxis": {
         "anchor": "y",
         "constrain": "domain",
         "domain": [
          0,
          1
         ],
         "scaleanchor": "y",
         "title": {
          "text": "Features"
         }
        },
        "yaxis": {
         "anchor": "x",
         "autorange": "reversed",
         "constrain": "domain",
         "domain": [
          0,
          1
         ],
         "title": {
          "text": "Features"
         }
        }
       }
      }
     },
     "metadata": {},
     "output_type": "display_data"
    },
    {
     "name": "stdout",
     "output_type": "stream",
     "text": [
      "Visualisasi ini memberikan gambaran distribusi univariat dari setiap variabel dalam dataset. Histogram menunjukkan sebaran nilai-nilai di setiap variabel, dan kernel density estimation (KDE) memberikan perkiraan kurva distribusi.\n"
     ]
    }
   ],
   "source": [
    "# Calculate correlation matrix\n",
    "correlation_matrix = df[selected_features].corr()\n",
    "\n",
    "# Plot heatmap using Plotly Express\n",
    "fig = px.imshow(correlation_matrix,\n",
    "                labels=dict(x=\"Features\", y=\"Features\", color=\"Correlation\"),\n",
    "                x=selected_features,\n",
    "                y=selected_features,\n",
    "                color_continuous_scale=\"viridis\",\n",
    "                title=\"Heatmap Korelasi\")\n",
    "\n",
    "fig.show()\n",
    "\n",
    "print(\"Visualisasi ini memberikan gambaran distribusi univariat dari setiap variabel dalam dataset. Histogram menunjukkan sebaran nilai-nilai di setiap variabel, dan kernel density estimation (KDE) memberikan perkiraan kurva distribusi.\")\n"
   ]
  },
  {
   "cell_type": "code",
   "execution_count": 548,
   "metadata": {},
   "outputs": [
    {
     "data": {
      "text/plain": [
       "No                   0\n",
       "KABUPATEN            0\n",
       "TAHUN                0\n",
       "JUMLAH_LONGSOR       0\n",
       "JIWA_TERDAMPAK       0\n",
       "JIWA_MENINGGAL       0\n",
       "RUSAK_TERDAMPAK      0\n",
       "RUSAK_RINGAN         0\n",
       "RUSAK_SEDANG         0\n",
       "RUSAK_BERAT          0\n",
       "TERTIMBUN            0\n",
       "LAHAN                0\n",
       "BANGUNAN LAINNYA     0\n",
       "SARANA PENDIDIKAN    0\n",
       "FASILITAS UMUM       0\n",
       "LATITUDE             0\n",
       "LONGITUDE            0\n",
       "dtype: int64"
      ]
     },
     "execution_count": 548,
     "metadata": {},
     "output_type": "execute_result"
    }
   ],
   "source": [
    "df.isnull().sum()\n"
   ]
  },
  {
   "cell_type": "code",
   "execution_count": 549,
   "metadata": {},
   "outputs": [
    {
     "data": {
      "text/html": [
       "<div>\n",
       "<style scoped>\n",
       "    .dataframe tbody tr th:only-of-type {\n",
       "        vertical-align: middle;\n",
       "    }\n",
       "\n",
       "    .dataframe tbody tr th {\n",
       "        vertical-align: top;\n",
       "    }\n",
       "\n",
       "    .dataframe thead th {\n",
       "        text-align: right;\n",
       "    }\n",
       "</style>\n",
       "<table border=\"1\" class=\"dataframe\">\n",
       "  <thead>\n",
       "    <tr style=\"text-align: right;\">\n",
       "      <th></th>\n",
       "      <th>count</th>\n",
       "      <th>mean</th>\n",
       "      <th>std</th>\n",
       "      <th>min</th>\n",
       "      <th>25%</th>\n",
       "      <th>50%</th>\n",
       "      <th>75%</th>\n",
       "      <th>max</th>\n",
       "    </tr>\n",
       "  </thead>\n",
       "  <tbody>\n",
       "    <tr>\n",
       "      <th>No</th>\n",
       "      <td>81.0</td>\n",
       "      <td>41.000000</td>\n",
       "      <td>23.526581</td>\n",
       "      <td>1.000000</td>\n",
       "      <td>21.000000</td>\n",
       "      <td>41.000000</td>\n",
       "      <td>61.000000</td>\n",
       "      <td>81.000000</td>\n",
       "    </tr>\n",
       "    <tr>\n",
       "      <th>TAHUN</th>\n",
       "      <td>81.0</td>\n",
       "      <td>2022.000000</td>\n",
       "      <td>0.821584</td>\n",
       "      <td>2021.000000</td>\n",
       "      <td>2021.000000</td>\n",
       "      <td>2022.000000</td>\n",
       "      <td>2023.000000</td>\n",
       "      <td>2023.000000</td>\n",
       "    </tr>\n",
       "    <tr>\n",
       "      <th>JUMLAH_LONGSOR</th>\n",
       "      <td>81.0</td>\n",
       "      <td>25.197531</td>\n",
       "      <td>39.267805</td>\n",
       "      <td>0.000000</td>\n",
       "      <td>2.000000</td>\n",
       "      <td>8.000000</td>\n",
       "      <td>32.000000</td>\n",
       "      <td>225.000000</td>\n",
       "    </tr>\n",
       "    <tr>\n",
       "      <th>JIWA_TERDAMPAK</th>\n",
       "      <td>81.0</td>\n",
       "      <td>230.456790</td>\n",
       "      <td>465.188565</td>\n",
       "      <td>0.000000</td>\n",
       "      <td>5.000000</td>\n",
       "      <td>44.000000</td>\n",
       "      <td>283.000000</td>\n",
       "      <td>2673.000000</td>\n",
       "    </tr>\n",
       "    <tr>\n",
       "      <th>JIWA_MENINGGAL</th>\n",
       "      <td>81.0</td>\n",
       "      <td>1.185185</td>\n",
       "      <td>2.174345</td>\n",
       "      <td>0.000000</td>\n",
       "      <td>0.000000</td>\n",
       "      <td>0.000000</td>\n",
       "      <td>2.000000</td>\n",
       "      <td>12.000000</td>\n",
       "    </tr>\n",
       "    <tr>\n",
       "      <th>RUSAK_TERDAMPAK</th>\n",
       "      <td>81.0</td>\n",
       "      <td>54.938272</td>\n",
       "      <td>98.367467</td>\n",
       "      <td>0.000000</td>\n",
       "      <td>2.000000</td>\n",
       "      <td>14.000000</td>\n",
       "      <td>63.000000</td>\n",
       "      <td>476.000000</td>\n",
       "    </tr>\n",
       "    <tr>\n",
       "      <th>RUSAK_RINGAN</th>\n",
       "      <td>81.0</td>\n",
       "      <td>23.543210</td>\n",
       "      <td>42.575242</td>\n",
       "      <td>0.000000</td>\n",
       "      <td>0.000000</td>\n",
       "      <td>5.000000</td>\n",
       "      <td>25.000000</td>\n",
       "      <td>213.000000</td>\n",
       "    </tr>\n",
       "    <tr>\n",
       "      <th>RUSAK_SEDANG</th>\n",
       "      <td>81.0</td>\n",
       "      <td>20.259259</td>\n",
       "      <td>40.441865</td>\n",
       "      <td>0.000000</td>\n",
       "      <td>1.000000</td>\n",
       "      <td>6.000000</td>\n",
       "      <td>20.000000</td>\n",
       "      <td>220.000000</td>\n",
       "    </tr>\n",
       "    <tr>\n",
       "      <th>RUSAK_BERAT</th>\n",
       "      <td>81.0</td>\n",
       "      <td>11.296296</td>\n",
       "      <td>21.395353</td>\n",
       "      <td>0.000000</td>\n",
       "      <td>0.000000</td>\n",
       "      <td>2.000000</td>\n",
       "      <td>11.000000</td>\n",
       "      <td>132.000000</td>\n",
       "    </tr>\n",
       "    <tr>\n",
       "      <th>TERTIMBUN</th>\n",
       "      <td>81.0</td>\n",
       "      <td>1.740741</td>\n",
       "      <td>7.383728</td>\n",
       "      <td>0.000000</td>\n",
       "      <td>0.000000</td>\n",
       "      <td>0.000000</td>\n",
       "      <td>0.000000</td>\n",
       "      <td>61.000000</td>\n",
       "    </tr>\n",
       "    <tr>\n",
       "      <th>LAHAN</th>\n",
       "      <td>81.0</td>\n",
       "      <td>11.358025</td>\n",
       "      <td>88.841053</td>\n",
       "      <td>0.000000</td>\n",
       "      <td>0.000000</td>\n",
       "      <td>0.000000</td>\n",
       "      <td>1.000000</td>\n",
       "      <td>800.000000</td>\n",
       "    </tr>\n",
       "    <tr>\n",
       "      <th>BANGUNAN LAINNYA</th>\n",
       "      <td>81.0</td>\n",
       "      <td>7.975309</td>\n",
       "      <td>13.064241</td>\n",
       "      <td>0.000000</td>\n",
       "      <td>0.000000</td>\n",
       "      <td>2.000000</td>\n",
       "      <td>8.000000</td>\n",
       "      <td>68.000000</td>\n",
       "    </tr>\n",
       "    <tr>\n",
       "      <th>SARANA PENDIDIKAN</th>\n",
       "      <td>81.0</td>\n",
       "      <td>1.320988</td>\n",
       "      <td>2.944602</td>\n",
       "      <td>0.000000</td>\n",
       "      <td>0.000000</td>\n",
       "      <td>0.000000</td>\n",
       "      <td>1.000000</td>\n",
       "      <td>18.000000</td>\n",
       "    </tr>\n",
       "    <tr>\n",
       "      <th>FASILITAS UMUM</th>\n",
       "      <td>81.0</td>\n",
       "      <td>13.666667</td>\n",
       "      <td>20.409557</td>\n",
       "      <td>0.000000</td>\n",
       "      <td>1.000000</td>\n",
       "      <td>5.000000</td>\n",
       "      <td>20.000000</td>\n",
       "      <td>134.000000</td>\n",
       "    </tr>\n",
       "    <tr>\n",
       "      <th>LATITUDE</th>\n",
       "      <td>81.0</td>\n",
       "      <td>-6.833017</td>\n",
       "      <td>0.368131</td>\n",
       "      <td>-7.700090</td>\n",
       "      <td>-7.021893</td>\n",
       "      <td>-6.835020</td>\n",
       "      <td>-6.557067</td>\n",
       "      <td>-6.235769</td>\n",
       "    </tr>\n",
       "    <tr>\n",
       "      <th>LONGITUDE</th>\n",
       "      <td>81.0</td>\n",
       "      <td>107.686291</td>\n",
       "      <td>0.630241</td>\n",
       "      <td>106.550721</td>\n",
       "      <td>107.139363</td>\n",
       "      <td>107.609837</td>\n",
       "      <td>108.323123</td>\n",
       "      <td>108.563810</td>\n",
       "    </tr>\n",
       "  </tbody>\n",
       "</table>\n",
       "</div>"
      ],
      "text/plain": [
       "                   count         mean         std          min          25%  \\\n",
       "No                  81.0    41.000000   23.526581     1.000000    21.000000   \n",
       "TAHUN               81.0  2022.000000    0.821584  2021.000000  2021.000000   \n",
       "JUMLAH_LONGSOR      81.0    25.197531   39.267805     0.000000     2.000000   \n",
       "JIWA_TERDAMPAK      81.0   230.456790  465.188565     0.000000     5.000000   \n",
       "JIWA_MENINGGAL      81.0     1.185185    2.174345     0.000000     0.000000   \n",
       "RUSAK_TERDAMPAK     81.0    54.938272   98.367467     0.000000     2.000000   \n",
       "RUSAK_RINGAN        81.0    23.543210   42.575242     0.000000     0.000000   \n",
       "RUSAK_SEDANG        81.0    20.259259   40.441865     0.000000     1.000000   \n",
       "RUSAK_BERAT         81.0    11.296296   21.395353     0.000000     0.000000   \n",
       "TERTIMBUN           81.0     1.740741    7.383728     0.000000     0.000000   \n",
       "LAHAN               81.0    11.358025   88.841053     0.000000     0.000000   \n",
       "BANGUNAN LAINNYA    81.0     7.975309   13.064241     0.000000     0.000000   \n",
       "SARANA PENDIDIKAN   81.0     1.320988    2.944602     0.000000     0.000000   \n",
       "FASILITAS UMUM      81.0    13.666667   20.409557     0.000000     1.000000   \n",
       "LATITUDE            81.0    -6.833017    0.368131    -7.700090    -7.021893   \n",
       "LONGITUDE           81.0   107.686291    0.630241   106.550721   107.139363   \n",
       "\n",
       "                           50%          75%          max  \n",
       "No                   41.000000    61.000000    81.000000  \n",
       "TAHUN              2022.000000  2023.000000  2023.000000  \n",
       "JUMLAH_LONGSOR        8.000000    32.000000   225.000000  \n",
       "JIWA_TERDAMPAK       44.000000   283.000000  2673.000000  \n",
       "JIWA_MENINGGAL        0.000000     2.000000    12.000000  \n",
       "RUSAK_TERDAMPAK      14.000000    63.000000   476.000000  \n",
       "RUSAK_RINGAN          5.000000    25.000000   213.000000  \n",
       "RUSAK_SEDANG          6.000000    20.000000   220.000000  \n",
       "RUSAK_BERAT           2.000000    11.000000   132.000000  \n",
       "TERTIMBUN             0.000000     0.000000    61.000000  \n",
       "LAHAN                 0.000000     1.000000   800.000000  \n",
       "BANGUNAN LAINNYA      2.000000     8.000000    68.000000  \n",
       "SARANA PENDIDIKAN     0.000000     1.000000    18.000000  \n",
       "FASILITAS UMUM        5.000000    20.000000   134.000000  \n",
       "LATITUDE             -6.835020    -6.557067    -6.235769  \n",
       "LONGITUDE           107.609837   108.323123   108.563810  "
      ]
     },
     "execution_count": 549,
     "metadata": {},
     "output_type": "execute_result"
    }
   ],
   "source": [
    "\n",
    "df.describe().T"
   ]
  },
  {
   "cell_type": "code",
   "execution_count": 550,
   "metadata": {},
   "outputs": [],
   "source": [
    "#menyiapkan features untuk di cluster\n",
    "X_ahc = df[['JUMLAH_LONGSOR', 'JIWA_TERDAMPAK', 'JIWA_MENINGGAL', 'RUSAK_TERDAMPAK', 'RUSAK_RINGAN', 'RUSAK_SEDANG', 'RUSAK_BERAT', 'TERTIMBUN']]"
   ]
  },
  {
   "cell_type": "code",
   "execution_count": 551,
   "metadata": {},
   "outputs": [],
   "source": [
    "# Menentukan jumlah cluster\n",
    "n_clusters = 3  # Gantilah ini dengan jumlah cluster yang Anda inginkan"
   ]
  },
  {
   "cell_type": "code",
   "execution_count": 552,
   "metadata": {},
   "outputs": [
    {
     "name": "stdout",
     "output_type": "stream",
     "text": [
      "Cophenetic Correlation Coefficient (CCC) untuk metode 'single': 0.9477343952269037\n"
     ]
    }
   ],
   "source": [
    "# Menghitung Linkage Matrix dan Cophenetic Correlation Coefficient untuk metode 'single'\n",
    "numeric_data = X_ahc[['JUMLAH_LONGSOR', 'JIWA_TERDAMPAK', 'JIWA_MENINGGAL', 'RUSAK_TERDAMPAK', 'RUSAK_RINGAN', 'RUSAK_SEDANG', 'RUSAK_BERAT', 'TERTIMBUN']]\n",
    "linkage_matrix_single = linkage(numeric_data, method='single')\n",
    "cophenet_matrix_single, _ = cophenet(linkage_matrix_single, pdist(numeric_data))\n",
    "ccc_single = cophenet_matrix_single.mean()\n",
    "print(\"Cophenetic Correlation Coefficient (CCC) untuk metode 'single':\", ccc_single)"
   ]
  },
  {
   "cell_type": "code",
   "execution_count": 553,
   "metadata": {},
   "outputs": [],
   "source": [
    "# Melakukan clustering menggunakan AgglomerativeClustering untuk metode 'single'\n",
    "clusterer_single = AgglomerativeClustering(n_clusters=n_clusters, linkage='single')\n",
    "X_ahc_single = X_ahc.copy()  # Buat salinan DataFrame untuk metode single\n",
    "X_ahc_single['cluster_single'] = clusterer_single.fit_predict(numeric_data)\n",
    "\n"
   ]
  },
  {
   "cell_type": "code",
   "execution_count": 554,
   "metadata": {},
   "outputs": [],
   "source": [
    "# Menghitung centroid untuk setiap cluster\n",
    "centroids_single = X_ahc_single.groupby('cluster_single')[['JUMLAH_LONGSOR']].mean()\n",
    "\n"
   ]
  },
  {
   "cell_type": "code",
   "execution_count": 555,
   "metadata": {},
   "outputs": [
    {
     "name": "stdout",
     "output_type": "stream",
     "text": [
      "   JUMLAH_LONGSOR  JIWA_TERDAMPAK  JIWA_MENINGGAL  RUSAK_TERDAMPAK  \\\n",
      "0             225            2673               0              405   \n",
      "1             147             311               3               82   \n",
      "2              27             227               1               48   \n",
      "3              60             285               3               44   \n",
      "4              42             294               0               17   \n",
      "\n",
      "   RUSAK_RINGAN  RUSAK_SEDANG  RUSAK_BERAT  TERTIMBUN  cluster_single  \\\n",
      "0           213           143           49          0               0   \n",
      "1            24            39           19         14               1   \n",
      "2            14            24           10          0               1   \n",
      "3            17            13           14         15               1   \n",
      "4             1             6           10          2               1   \n",
      "\n",
      "  Landslide Category Single  \n",
      "0      Tingkat Rawan Tinggi  \n",
      "1      Tingkat Rawan Rendah  \n",
      "2      Tingkat Rawan Rendah  \n",
      "3      Tingkat Rawan Rendah  \n",
      "4      Tingkat Rawan Rendah  \n"
     ]
    }
   ],
   "source": [
    "# Menentukan kategori kepadatan berdasarkan nilai centroid untuk metode 'single'\n",
    "threshold_low_single = 20  # Contoh threshold untuk \"tidak padat\"\n",
    "threshold_high_single = 50  # Contoh threshold untuk \"padat\"\n",
    "X_ahc_single['Landslide Category Single'] = X_ahc_single['cluster_single'].map(lambda cluster: \n",
    "    'Tingkat Rawan Rendah' if centroids_single.loc[cluster].mean() < threshold_low_single else (\n",
    "    'Tingkat Rawan Sedang' if centroids_single.loc[cluster].mean() < threshold_high_single else \n",
    "    'Tingkat Rawan Tinggi'))\n",
    "\n",
    "print(X_ahc_single.head())\n",
    "\n"
   ]
  },
  {
   "cell_type": "code",
   "execution_count": 556,
   "metadata": {},
   "outputs": [
    {
     "data": {
      "application/vnd.plotly.v1+json": {
       "config": {
        "plotlyServerURL": "https://plot.ly"
       },
       "data": [
        {
         "hoverinfo": "text",
         "marker": {
          "color": "rgb(61,153,112)"
         },
         "mode": "lines",
         "type": "scatter",
         "x": [
          25,
          25,
          35,
          35
         ],
         "xaxis": "x",
         "y": [
          0,
          34.449326228131156,
          34.449326228131156,
          0
         ],
         "yaxis": "y"
        },
        {
         "hoverinfo": "text",
         "marker": {
          "color": "rgb(61,153,112)"
         },
         "mode": "lines",
         "type": "scatter",
         "x": [
          15,
          15,
          30,
          30
         ],
         "xaxis": "x",
         "y": [
          0,
          172.61266654880242,
          172.61266654880242,
          34.449326228131156
         ],
         "yaxis": "y"
        },
        {
         "hoverinfo": "text",
         "marker": {
          "color": "rgb(61,153,112)"
         },
         "mode": "lines",
         "type": "scatter",
         "x": [
          45,
          45,
          55,
          55
         ],
         "xaxis": "x",
         "y": [
          0,
          83.2281279802528,
          83.2281279802528,
          0
         ],
         "yaxis": "y"
        },
        {
         "hoverinfo": "text",
         "marker": {
          "color": "rgb(61,153,112)"
         },
         "mode": "lines",
         "type": "scatter",
         "x": [
          85,
          85,
          95,
          95
         ],
         "xaxis": "x",
         "y": [
          0,
          8.319709297974379,
          8.319709297974379,
          0
         ],
         "yaxis": "y"
        },
        {
         "hoverinfo": "text",
         "marker": {
          "color": "rgb(61,153,112)"
         },
         "mode": "lines",
         "type": "scatter",
         "x": [
          75,
          75,
          90,
          90
         ],
         "xaxis": "x",
         "y": [
          0,
          11.445523142259598,
          11.445523142259598,
          8.319709297974379
         ],
         "yaxis": "y"
        },
        {
         "hoverinfo": "text",
         "marker": {
          "color": "rgb(61,153,112)"
         },
         "mode": "lines",
         "type": "scatter",
         "x": [
          105,
          105,
          115,
          115
         ],
         "xaxis": "x",
         "y": [
          0,
          18.2208671582886,
          18.2208671582886,
          0
         ],
         "yaxis": "y"
        },
        {
         "hoverinfo": "text",
         "marker": {
          "color": "rgb(61,153,112)"
         },
         "mode": "lines",
         "type": "scatter",
         "x": [
          82.5,
          82.5,
          110,
          110
         ],
         "xaxis": "x",
         "y": [
          11.445523142259598,
          22.38302928559939,
          22.38302928559939,
          18.2208671582886
         ],
         "yaxis": "y"
        },
        {
         "hoverinfo": "text",
         "marker": {
          "color": "rgb(61,153,112)"
         },
         "mode": "lines",
         "type": "scatter",
         "x": [
          125,
          125,
          135,
          135
         ],
         "xaxis": "x",
         "y": [
          0,
          23.051924079274297,
          23.051924079274297,
          0
         ],
         "yaxis": "y"
        },
        {
         "hoverinfo": "text",
         "marker": {
          "color": "rgb(61,153,112)"
         },
         "mode": "lines",
         "type": "scatter",
         "x": [
          165,
          165,
          175,
          175
         ],
         "xaxis": "x",
         "y": [
          0,
          12.386545098520545,
          12.386545098520545,
          0
         ],
         "yaxis": "y"
        },
        {
         "hoverinfo": "text",
         "marker": {
          "color": "rgb(61,153,112)"
         },
         "mode": "lines",
         "type": "scatter",
         "x": [
          155,
          155,
          170,
          170
         ],
         "xaxis": "x",
         "y": [
          0,
          20.42057785666214,
          20.42057785666214,
          12.386545098520545
         ],
         "yaxis": "y"
        },
        {
         "hoverinfo": "text",
         "marker": {
          "color": "rgb(61,153,112)"
         },
         "mode": "lines",
         "type": "scatter",
         "x": [
          145,
          145,
          162.5,
          162.5
         ],
         "xaxis": "x",
         "y": [
          0,
          31.511902513177464,
          31.511902513177464,
          20.42057785666214
         ],
         "yaxis": "y"
        },
        {
         "hoverinfo": "text",
         "marker": {
          "color": "rgb(61,153,112)"
         },
         "mode": "lines",
         "type": "scatter",
         "x": [
          130,
          130,
          153.75,
          153.75
         ],
         "xaxis": "x",
         "y": [
          23.051924079274297,
          50.774009099144415,
          50.774009099144415,
          31.511902513177464
         ],
         "yaxis": "y"
        },
        {
         "hoverinfo": "text",
         "marker": {
          "color": "rgb(61,153,112)"
         },
         "mode": "lines",
         "type": "scatter",
         "x": [
          96.25,
          96.25,
          141.875,
          141.875
         ],
         "xaxis": "x",
         "y": [
          22.38302928559939,
          52.67100331273864,
          52.67100331273864,
          50.774009099144415
         ],
         "yaxis": "y"
        },
        {
         "hoverinfo": "text",
         "marker": {
          "color": "rgb(61,153,112)"
         },
         "mode": "lines",
         "type": "scatter",
         "x": [
          65,
          65,
          119.0625,
          119.0625
         ],
         "xaxis": "x",
         "y": [
          0,
          153.50570021989412,
          153.50570021989412,
          52.67100331273864
         ],
         "yaxis": "y"
        },
        {
         "hoverinfo": "text",
         "marker": {
          "color": "rgb(61,153,112)"
         },
         "mode": "lines",
         "type": "scatter",
         "x": [
          195,
          195,
          205,
          205
         ],
         "xaxis": "x",
         "y": [
          0,
          8.860636247297592,
          8.860636247297592,
          0
         ],
         "yaxis": "y"
        },
        {
         "hoverinfo": "text",
         "marker": {
          "color": "rgb(61,153,112)"
         },
         "mode": "lines",
         "type": "scatter",
         "x": [
          215,
          215,
          225,
          225
         ],
         "xaxis": "x",
         "y": [
          0,
          16.593923256030376,
          16.593923256030376,
          0
         ],
         "yaxis": "y"
        },
        {
         "hoverinfo": "text",
         "marker": {
          "color": "rgb(61,153,112)"
         },
         "mode": "lines",
         "type": "scatter",
         "x": [
          200,
          200,
          220,
          220
         ],
         "xaxis": "x",
         "y": [
          8.860636247297592,
          19.37274016610198,
          19.37274016610198,
          16.593923256030376
         ],
         "yaxis": "y"
        },
        {
         "hoverinfo": "text",
         "marker": {
          "color": "rgb(61,153,112)"
         },
         "mode": "lines",
         "type": "scatter",
         "x": [
          245,
          245,
          255,
          255
         ],
         "xaxis": "x",
         "y": [
          0,
          2.4745006941811813,
          2.4745006941811813,
          0
         ],
         "yaxis": "y"
        },
        {
         "hoverinfo": "text",
         "marker": {
          "color": "rgb(61,153,112)"
         },
         "mode": "lines",
         "type": "scatter",
         "x": [
          235,
          235,
          250,
          250
         ],
         "xaxis": "x",
         "y": [
          0,
          26.965575432626913,
          26.965575432626913,
          2.4745006941811813
         ],
         "yaxis": "y"
        },
        {
         "hoverinfo": "text",
         "marker": {
          "color": "rgb(61,153,112)"
         },
         "mode": "lines",
         "type": "scatter",
         "x": [
          210,
          210,
          242.5,
          242.5
         ],
         "xaxis": "x",
         "y": [
          19.37274016610198,
          46.21501749119007,
          46.21501749119007,
          26.965575432626913
         ],
         "yaxis": "y"
        },
        {
         "hoverinfo": "text",
         "marker": {
          "color": "rgb(61,153,112)"
         },
         "mode": "lines",
         "type": "scatter",
         "x": [
          185,
          185,
          226.25,
          226.25
         ],
         "xaxis": "x",
         "y": [
          0,
          52.68799710002202,
          52.68799710002202,
          46.21501749119007
         ],
         "yaxis": "y"
        },
        {
         "hoverinfo": "text",
         "marker": {
          "color": "rgb(61,153,112)"
         },
         "mode": "lines",
         "type": "scatter",
         "x": [
          265,
          265,
          275,
          275
         ],
         "xaxis": "x",
         "y": [
          0,
          27.678454425243917,
          27.678454425243917,
          0
         ],
         "yaxis": "y"
        },
        {
         "hoverinfo": "text",
         "marker": {
          "color": "rgb(61,153,112)"
         },
         "mode": "lines",
         "type": "scatter",
         "x": [
          305,
          305,
          315,
          315
         ],
         "xaxis": "x",
         "y": [
          0,
          5.656854249492381,
          5.656854249492381,
          0
         ],
         "yaxis": "y"
        },
        {
         "hoverinfo": "text",
         "marker": {
          "color": "rgb(61,153,112)"
         },
         "mode": "lines",
         "type": "scatter",
         "x": [
          295,
          295,
          310,
          310
         ],
         "xaxis": "x",
         "y": [
          0,
          10.583005244258363,
          10.583005244258363,
          5.656854249492381
         ],
         "yaxis": "y"
        },
        {
         "hoverinfo": "text",
         "marker": {
          "color": "rgb(61,153,112)"
         },
         "mode": "lines",
         "type": "scatter",
         "x": [
          285,
          285,
          302.5,
          302.5
         ],
         "xaxis": "x",
         "y": [
          0,
          14.65925227123987,
          14.65925227123987,
          10.583005244258363
         ],
         "yaxis": "y"
        },
        {
         "hoverinfo": "text",
         "marker": {
          "color": "rgb(61,153,112)"
         },
         "mode": "lines",
         "type": "scatter",
         "x": [
          325,
          325,
          335,
          335
         ],
         "xaxis": "x",
         "y": [
          0,
          10.496264710612715,
          10.496264710612715,
          0
         ],
         "yaxis": "y"
        },
        {
         "hoverinfo": "text",
         "marker": {
          "color": "rgb(61,153,112)"
         },
         "mode": "lines",
         "type": "scatter",
         "x": [
          345,
          345,
          355,
          355
         ],
         "xaxis": "x",
         "y": [
          0,
          10.806414908659898,
          10.806414908659898,
          0
         ],
         "yaxis": "y"
        },
        {
         "hoverinfo": "text",
         "marker": {
          "color": "rgb(61,153,112)"
         },
         "mode": "lines",
         "type": "scatter",
         "x": [
          330,
          330,
          350,
          350
         ],
         "xaxis": "x",
         "y": [
          10.496264710612715,
          18.020926412056752,
          18.020926412056752,
          10.806414908659898
         ],
         "yaxis": "y"
        },
        {
         "hoverinfo": "text",
         "marker": {
          "color": "rgb(61,153,112)"
         },
         "mode": "lines",
         "type": "scatter",
         "x": [
          385,
          385,
          395,
          395
         ],
         "xaxis": "x",
         "y": [
          0,
          4.242640687119285,
          4.242640687119285,
          0
         ],
         "yaxis": "y"
        },
        {
         "hoverinfo": "text",
         "marker": {
          "color": "rgb(61,153,112)"
         },
         "mode": "lines",
         "type": "scatter",
         "x": [
          375,
          375,
          390,
          390
         ],
         "xaxis": "x",
         "y": [
          0,
          14.138611357890085,
          14.138611357890085,
          4.242640687119285
         ],
         "yaxis": "y"
        },
        {
         "hoverinfo": "text",
         "marker": {
          "color": "rgb(61,153,112)"
         },
         "mode": "lines",
         "type": "scatter",
         "x": [
          365,
          365,
          382.5,
          382.5
         ],
         "xaxis": "x",
         "y": [
          0,
          19.836996025365888,
          19.836996025365888,
          14.138611357890085
         ],
         "yaxis": "y"
        },
        {
         "hoverinfo": "text",
         "marker": {
          "color": "rgb(61,153,112)"
         },
         "mode": "lines",
         "type": "scatter",
         "x": [
          340,
          340,
          373.75,
          373.75
         ],
         "xaxis": "x",
         "y": [
          18.020926412056752,
          33.070764198603925,
          33.070764198603925,
          19.836996025365888
         ],
         "yaxis": "y"
        },
        {
         "hoverinfo": "text",
         "marker": {
          "color": "rgb(61,153,112)"
         },
         "mode": "lines",
         "type": "scatter",
         "x": [
          293.75,
          293.75,
          356.875,
          356.875
         ],
         "xaxis": "x",
         "y": [
          14.65925227123987,
          45.50886707638455,
          45.50886707638455,
          33.070764198603925
         ],
         "yaxis": "y"
        },
        {
         "hoverinfo": "text",
         "marker": {
          "color": "rgb(61,153,112)"
         },
         "mode": "lines",
         "type": "scatter",
         "x": [
          270,
          270,
          325.3125,
          325.3125
         ],
         "xaxis": "x",
         "y": [
          27.678454425243917,
          59.52913910792466,
          59.52913910792466,
          45.50886707638455
         ],
         "yaxis": "y"
        },
        {
         "hoverinfo": "text",
         "marker": {
          "color": "rgb(61,153,112)"
         },
         "mode": "lines",
         "type": "scatter",
         "x": [
          205.625,
          205.625,
          297.65625,
          297.65625
         ],
         "xaxis": "x",
         "y": [
          52.68799710002202,
          86.23820041903704,
          86.23820041903704,
          59.52913910792466
         ],
         "yaxis": "y"
        },
        {
         "hoverinfo": "text",
         "marker": {
          "color": "rgb(61,153,112)"
         },
         "mode": "lines",
         "type": "scatter",
         "x": [
          415,
          415,
          425,
          425
         ],
         "xaxis": "x",
         "y": [
          0,
          7.29728416097926,
          7.29728416097926,
          0
         ],
         "yaxis": "y"
        },
        {
         "hoverinfo": "text",
         "marker": {
          "color": "rgb(61,153,112)"
         },
         "mode": "lines",
         "type": "scatter",
         "x": [
          405,
          405,
          420,
          420
         ],
         "xaxis": "x",
         "y": [
          0,
          10.934092259287906,
          10.934092259287906,
          7.29728416097926
         ],
         "yaxis": "y"
        },
        {
         "hoverinfo": "text",
         "marker": {
          "color": "rgb(61,153,112)"
         },
         "mode": "lines",
         "type": "scatter",
         "x": [
          435,
          435,
          445,
          445
         ],
         "xaxis": "x",
         "y": [
          0,
          5.385164807134504,
          5.385164807134504,
          0
         ],
         "yaxis": "y"
        },
        {
         "hoverinfo": "text",
         "marker": {
          "color": "rgb(61,153,112)"
         },
         "mode": "lines",
         "type": "scatter",
         "x": [
          465,
          465,
          475,
          475
         ],
         "xaxis": "x",
         "y": [
          0,
          4.185058975183197,
          4.185058975183197,
          0
         ],
         "yaxis": "y"
        },
        {
         "hoverinfo": "text",
         "marker": {
          "color": "rgb(61,153,112)"
         },
         "mode": "lines",
         "type": "scatter",
         "x": [
          455,
          455,
          470,
          470
         ],
         "xaxis": "x",
         "y": [
          0,
          11.51150375171556,
          11.51150375171556,
          4.185058975183197
         ],
         "yaxis": "y"
        },
        {
         "hoverinfo": "text",
         "marker": {
          "color": "rgb(61,153,112)"
         },
         "mode": "lines",
         "type": "scatter",
         "x": [
          440,
          440,
          462.5,
          462.5
         ],
         "xaxis": "x",
         "y": [
          5.385164807134504,
          16.82560609649571,
          16.82560609649571,
          11.51150375171556
         ],
         "yaxis": "y"
        },
        {
         "hoverinfo": "text",
         "marker": {
          "color": "rgb(61,153,112)"
         },
         "mode": "lines",
         "type": "scatter",
         "x": [
          412.5,
          412.5,
          451.25,
          451.25
         ],
         "xaxis": "x",
         "y": [
          10.934092259287906,
          29.85243043750054,
          29.85243043750054,
          16.82560609649571
         ],
         "yaxis": "y"
        },
        {
         "hoverinfo": "text",
         "marker": {
          "color": "rgb(61,153,112)"
         },
         "mode": "lines",
         "type": "scatter",
         "x": [
          495,
          495,
          505,
          505
         ],
         "xaxis": "x",
         "y": [
          0,
          4.9631983875171555,
          4.9631983875171555,
          0
         ],
         "yaxis": "y"
        },
        {
         "hoverinfo": "text",
         "marker": {
          "color": "rgb(61,153,112)"
         },
         "mode": "lines",
         "type": "scatter",
         "x": [
          485,
          485,
          500,
          500
         ],
         "xaxis": "x",
         "y": [
          0,
          14.162493110452264,
          14.162493110452264,
          4.9631983875171555
         ],
         "yaxis": "y"
        },
        {
         "hoverinfo": "text",
         "marker": {
          "color": "rgb(61,153,112)"
         },
         "mode": "lines",
         "type": "scatter",
         "x": [
          535,
          535,
          545,
          545
         ],
         "xaxis": "x",
         "y": [
          0,
          10.88144672910929,
          10.88144672910929,
          0
         ],
         "yaxis": "y"
        },
        {
         "hoverinfo": "text",
         "marker": {
          "color": "rgb(61,153,112)"
         },
         "mode": "lines",
         "type": "scatter",
         "x": [
          525,
          525,
          540,
          540
         ],
         "xaxis": "x",
         "y": [
          0,
          18.79975480208045,
          18.79975480208045,
          10.88144672910929
         ],
         "yaxis": "y"
        },
        {
         "hoverinfo": "text",
         "marker": {
          "color": "rgb(61,153,112)"
         },
         "mode": "lines",
         "type": "scatter",
         "x": [
          515,
          515,
          532.5,
          532.5
         ],
         "xaxis": "x",
         "y": [
          0,
          30.842925925564334,
          30.842925925564334,
          18.79975480208045
         ],
         "yaxis": "y"
        },
        {
         "hoverinfo": "text",
         "marker": {
          "color": "rgb(61,153,112)"
         },
         "mode": "lines",
         "type": "scatter",
         "x": [
          492.5,
          492.5,
          523.75,
          523.75
         ],
         "xaxis": "x",
         "y": [
          14.162493110452264,
          35.46329561762839,
          35.46329561762839,
          30.842925925564334
         ],
         "yaxis": "y"
        },
        {
         "hoverinfo": "text",
         "marker": {
          "color": "rgb(61,153,112)"
         },
         "mode": "lines",
         "type": "scatter",
         "x": [
          431.875,
          431.875,
          508.125,
          508.125
         ],
         "xaxis": "x",
         "y": [
          29.85243043750054,
          52.537749400037114,
          52.537749400037114,
          35.46329561762839
         ],
         "yaxis": "y"
        },
        {
         "hoverinfo": "text",
         "marker": {
          "color": "rgb(61,153,112)"
         },
         "mode": "lines",
         "type": "scatter",
         "x": [
          555,
          555,
          565,
          565
         ],
         "xaxis": "x",
         "y": [
          0,
          14.204598488344766,
          14.204598488344766,
          0
         ],
         "yaxis": "y"
        },
        {
         "hoverinfo": "text",
         "marker": {
          "color": "rgb(61,153,112)"
         },
         "mode": "lines",
         "type": "scatter",
         "x": [
          585,
          585,
          595,
          595
         ],
         "xaxis": "x",
         "y": [
          0,
          11.006014074932578,
          11.006014074932578,
          0
         ],
         "yaxis": "y"
        },
        {
         "hoverinfo": "text",
         "marker": {
          "color": "rgb(61,153,112)"
         },
         "mode": "lines",
         "type": "scatter",
         "x": [
          575,
          575,
          590,
          590
         ],
         "xaxis": "x",
         "y": [
          0,
          27.055641776924755,
          27.055641776924755,
          11.006014074932578
         ],
         "yaxis": "y"
        },
        {
         "hoverinfo": "text",
         "marker": {
          "color": "rgb(61,153,112)"
         },
         "mode": "lines",
         "type": "scatter",
         "x": [
          560,
          560,
          582.5,
          582.5
         ],
         "xaxis": "x",
         "y": [
          14.204598488344766,
          45.19247238464202,
          45.19247238464202,
          27.055641776924755
         ],
         "yaxis": "y"
        },
        {
         "hoverinfo": "text",
         "marker": {
          "color": "rgb(61,153,112)"
         },
         "mode": "lines",
         "type": "scatter",
         "x": [
          625,
          625,
          635,
          635
         ],
         "xaxis": "x",
         "y": [
          0,
          13.457984744334063,
          13.457984744334063,
          0
         ],
         "yaxis": "y"
        },
        {
         "hoverinfo": "text",
         "marker": {
          "color": "rgb(61,153,112)"
         },
         "mode": "lines",
         "type": "scatter",
         "x": [
          615,
          615,
          630,
          630
         ],
         "xaxis": "x",
         "y": [
          0,
          19.681765056408256,
          19.681765056408256,
          13.457984744334063
         ],
         "yaxis": "y"
        },
        {
         "hoverinfo": "text",
         "marker": {
          "color": "rgb(61,153,112)"
         },
         "mode": "lines",
         "type": "scatter",
         "x": [
          605,
          605,
          622.5,
          622.5
         ],
         "xaxis": "x",
         "y": [
          0,
          51.75546845467925,
          51.75546845467925,
          19.681765056408256
         ],
         "yaxis": "y"
        },
        {
         "hoverinfo": "text",
         "marker": {
          "color": "rgb(61,153,112)"
         },
         "mode": "lines",
         "type": "scatter",
         "x": [
          571.25,
          571.25,
          613.75,
          613.75
         ],
         "xaxis": "x",
         "y": [
          45.19247238464202,
          71.5128419049281,
          71.5128419049281,
          51.75546845467925
         ],
         "yaxis": "y"
        },
        {
         "hoverinfo": "text",
         "marker": {
          "color": "rgb(61,153,112)"
         },
         "mode": "lines",
         "type": "scatter",
         "x": [
          470,
          470,
          592.5,
          592.5
         ],
         "xaxis": "x",
         "y": [
          52.537749400037114,
          89.96534827234225,
          89.96534827234225,
          71.5128419049281
         ],
         "yaxis": "y"
        },
        {
         "hoverinfo": "text",
         "marker": {
          "color": "rgb(61,153,112)"
         },
         "mode": "lines",
         "type": "scatter",
         "x": [
          251.640625,
          251.640625,
          531.25,
          531.25
         ],
         "xaxis": "x",
         "y": [
          86.23820041903704,
          114.18896051621483,
          114.18896051621483,
          89.96534827234225
         ],
         "yaxis": "y"
        },
        {
         "hoverinfo": "text",
         "marker": {
          "color": "rgb(61,153,112)"
         },
         "mode": "lines",
         "type": "scatter",
         "x": [
          645,
          645,
          655,
          655
         ],
         "xaxis": "x",
         "y": [
          0,
          13.65901488002891,
          13.65901488002891,
          0
         ],
         "yaxis": "y"
        },
        {
         "hoverinfo": "text",
         "marker": {
          "color": "rgb(61,153,112)"
         },
         "mode": "lines",
         "type": "scatter",
         "x": [
          665,
          665,
          675,
          675
         ],
         "xaxis": "x",
         "y": [
          0,
          9.661471219610968,
          9.661471219610968,
          0
         ],
         "yaxis": "y"
        },
        {
         "hoverinfo": "text",
         "marker": {
          "color": "rgb(61,153,112)"
         },
         "mode": "lines",
         "type": "scatter",
         "x": [
          685,
          685,
          695,
          695
         ],
         "xaxis": "x",
         "y": [
          0,
          6.597555410275475,
          6.597555410275475,
          0
         ],
         "yaxis": "y"
        },
        {
         "hoverinfo": "text",
         "marker": {
          "color": "rgb(61,153,112)"
         },
         "mode": "lines",
         "type": "scatter",
         "x": [
          705,
          705,
          715,
          715
         ],
         "xaxis": "x",
         "y": [
          0,
          13.413315867565343,
          13.413315867565343,
          0
         ],
         "yaxis": "y"
        },
        {
         "hoverinfo": "text",
         "marker": {
          "color": "rgb(61,153,112)"
         },
         "mode": "lines",
         "type": "scatter",
         "x": [
          690,
          690,
          710,
          710
         ],
         "xaxis": "x",
         "y": [
          6.597555410275475,
          28.72380391577687,
          28.72380391577687,
          13.413315867565343
         ],
         "yaxis": "y"
        },
        {
         "hoverinfo": "text",
         "marker": {
          "color": "rgb(61,153,112)"
         },
         "mode": "lines",
         "type": "scatter",
         "x": [
          670,
          670,
          700,
          700
         ],
         "xaxis": "x",
         "y": [
          9.661471219610968,
          48.50457790025076,
          48.50457790025076,
          28.72380391577687
         ],
         "yaxis": "y"
        },
        {
         "hoverinfo": "text",
         "marker": {
          "color": "rgb(61,153,112)"
         },
         "mode": "lines",
         "type": "scatter",
         "x": [
          650,
          650,
          685,
          685
         ],
         "xaxis": "x",
         "y": [
          13.65901488002891,
          67.37294100405455,
          67.37294100405455,
          48.50457790025076
         ],
         "yaxis": "y"
        },
        {
         "hoverinfo": "text",
         "marker": {
          "color": "rgb(61,153,112)"
         },
         "mode": "lines",
         "type": "scatter",
         "x": [
          725,
          725,
          735,
          735
         ],
         "xaxis": "x",
         "y": [
          0,
          8.321385777388139,
          8.321385777388139,
          0
         ],
         "yaxis": "y"
        },
        {
         "hoverinfo": "text",
         "marker": {
          "color": "rgb(61,153,112)"
         },
         "mode": "lines",
         "type": "scatter",
         "x": [
          745,
          745,
          755,
          755
         ],
         "xaxis": "x",
         "y": [
          0,
          12.185664659978183,
          12.185664659978183,
          0
         ],
         "yaxis": "y"
        },
        {
         "hoverinfo": "text",
         "marker": {
          "color": "rgb(61,153,112)"
         },
         "mode": "lines",
         "type": "scatter",
         "x": [
          730,
          730,
          750,
          750
         ],
         "xaxis": "x",
         "y": [
          8.321385777388139,
          37.38636529149118,
          37.38636529149118,
          12.185664659978183
         ],
         "yaxis": "y"
        },
        {
         "hoverinfo": "text",
         "marker": {
          "color": "rgb(61,153,112)"
         },
         "mode": "lines",
         "type": "scatter",
         "x": [
          765,
          765,
          775,
          775
         ],
         "xaxis": "x",
         "y": [
          0,
          13.341736124024766,
          13.341736124024766,
          0
         ],
         "yaxis": "y"
        },
        {
         "hoverinfo": "text",
         "marker": {
          "color": "rgb(61,153,112)"
         },
         "mode": "lines",
         "type": "scatter",
         "x": [
          785,
          785,
          795,
          795
         ],
         "xaxis": "x",
         "y": [
          0,
          17.064012337552057,
          17.064012337552057,
          0
         ],
         "yaxis": "y"
        },
        {
         "hoverinfo": "text",
         "marker": {
          "color": "rgb(61,153,112)"
         },
         "mode": "lines",
         "type": "scatter",
         "x": [
          770,
          770,
          790,
          790
         ],
         "xaxis": "x",
         "y": [
          13.341736124024766,
          47.439592627595566,
          47.439592627595566,
          17.064012337552057
         ],
         "yaxis": "y"
        },
        {
         "hoverinfo": "text",
         "marker": {
          "color": "rgb(61,153,112)"
         },
         "mode": "lines",
         "type": "scatter",
         "x": [
          740,
          740,
          780,
          780
         ],
         "xaxis": "x",
         "y": [
          37.38636529149118,
          71.1633284497073,
          71.1633284497073,
          47.439592627595566
         ],
         "yaxis": "y"
        },
        {
         "hoverinfo": "text",
         "marker": {
          "color": "rgb(61,153,112)"
         },
         "mode": "lines",
         "type": "scatter",
         "x": [
          667.5,
          667.5,
          760,
          760
         ],
         "xaxis": "x",
         "y": [
          67.37294100405455,
          158.46775477985557,
          158.46775477985557,
          71.1633284497073
         ],
         "yaxis": "y"
        },
        {
         "hoverinfo": "text",
         "marker": {
          "color": "rgb(61,153,112)"
         },
         "mode": "lines",
         "type": "scatter",
         "x": [
          391.4453125,
          391.4453125,
          713.75,
          713.75
         ],
         "xaxis": "x",
         "y": [
          114.18896051621483,
          163.7194015529009,
          163.7194015529009,
          158.46775477985557
         ],
         "yaxis": "y"
        },
        {
         "hoverinfo": "text",
         "marker": {
          "color": "rgb(61,153,112)"
         },
         "mode": "lines",
         "type": "scatter",
         "x": [
          92.03125,
          92.03125,
          552.59765625,
          552.59765625
         ],
         "xaxis": "x",
         "y": [
          153.50570021989412,
          203.41323549087562,
          203.41323549087562,
          163.7194015529009
         ],
         "yaxis": "y"
        },
        {
         "hoverinfo": "text",
         "marker": {
          "color": "rgb(61,153,112)"
         },
         "mode": "lines",
         "type": "scatter",
         "x": [
          50,
          50,
          322.314453125,
          322.314453125
         ],
         "xaxis": "x",
         "y": [
          83.2281279802528,
          266.0919450432833,
          266.0919450432833,
          203.41323549087562
         ],
         "yaxis": "y"
        },
        {
         "hoverinfo": "text",
         "marker": {
          "color": "rgb(61,153,112)"
         },
         "mode": "lines",
         "type": "scatter",
         "x": [
          22.5,
          22.5,
          186.1572265625,
          186.1572265625
         ],
         "xaxis": "x",
         "y": [
          172.61266654880242,
          498.2971001320397,
          498.2971001320397,
          266.0919450432833
         ],
         "yaxis": "y"
        },
        {
         "hoverinfo": "text",
         "marker": {
          "color": "rgb(0,116,217)"
         },
         "mode": "lines",
         "type": "scatter",
         "x": [
          5,
          5,
          104.32861328125,
          104.32861328125
         ],
         "xaxis": "x",
         "y": [
          0,
          873.491270706239,
          873.491270706239,
          498.2971001320397
         ],
         "yaxis": "y"
        }
       ],
       "layout": {
        "autosize": false,
        "height": 500,
        "hovermode": "closest",
        "showlegend": false,
        "template": {
         "data": {
          "candlestick": [
           {
            "decreasing": {
             "line": {
              "color": "#000033"
             }
            },
            "increasing": {
             "line": {
              "color": "#000032"
             }
            },
            "type": "candlestick"
           }
          ],
          "contour": [
           {
            "colorscale": [
             [
              0,
              "#000011"
             ],
             [
              0.1111111111111111,
              "#000012"
             ],
             [
              0.2222222222222222,
              "#000013"
             ],
             [
              0.3333333333333333,
              "#000014"
             ],
             [
              0.4444444444444444,
              "#000015"
             ],
             [
              0.5555555555555556,
              "#000016"
             ],
             [
              0.6666666666666666,
              "#000017"
             ],
             [
              0.7777777777777778,
              "#000018"
             ],
             [
              0.8888888888888888,
              "#000019"
             ],
             [
              1,
              "#000020"
             ]
            ],
            "type": "contour"
           }
          ],
          "contourcarpet": [
           {
            "colorscale": [
             [
              0,
              "#000011"
             ],
             [
              0.1111111111111111,
              "#000012"
             ],
             [
              0.2222222222222222,
              "#000013"
             ],
             [
              0.3333333333333333,
              "#000014"
             ],
             [
              0.4444444444444444,
              "#000015"
             ],
             [
              0.5555555555555556,
              "#000016"
             ],
             [
              0.6666666666666666,
              "#000017"
             ],
             [
              0.7777777777777778,
              "#000018"
             ],
             [
              0.8888888888888888,
              "#000019"
             ],
             [
              1,
              "#000020"
             ]
            ],
            "type": "contourcarpet"
           }
          ],
          "heatmap": [
           {
            "colorscale": [
             [
              0,
              "#000011"
             ],
             [
              0.1111111111111111,
              "#000012"
             ],
             [
              0.2222222222222222,
              "#000013"
             ],
             [
              0.3333333333333333,
              "#000014"
             ],
             [
              0.4444444444444444,
              "#000015"
             ],
             [
              0.5555555555555556,
              "#000016"
             ],
             [
              0.6666666666666666,
              "#000017"
             ],
             [
              0.7777777777777778,
              "#000018"
             ],
             [
              0.8888888888888888,
              "#000019"
             ],
             [
              1,
              "#000020"
             ]
            ],
            "type": "heatmap"
           }
          ],
          "histogram2d": [
           {
            "colorscale": [
             [
              0,
              "#000011"
             ],
             [
              0.1111111111111111,
              "#000012"
             ],
             [
              0.2222222222222222,
              "#000013"
             ],
             [
              0.3333333333333333,
              "#000014"
             ],
             [
              0.4444444444444444,
              "#000015"
             ],
             [
              0.5555555555555556,
              "#000016"
             ],
             [
              0.6666666666666666,
              "#000017"
             ],
             [
              0.7777777777777778,
              "#000018"
             ],
             [
              0.8888888888888888,
              "#000019"
             ],
             [
              1,
              "#000020"
             ]
            ],
            "type": "histogram2d"
           }
          ],
          "icicle": [
           {
            "textfont": {
             "color": "white"
            },
            "type": "icicle"
           }
          ],
          "sankey": [
           {
            "textfont": {
             "color": "#000036"
            },
            "type": "sankey"
           }
          ],
          "scatter": [
           {
            "marker": {
             "line": {
              "width": 0
             }
            },
            "type": "scatter"
           }
          ],
          "table": [
           {
            "cells": {
             "fill": {
              "color": "#000038"
             },
             "font": {
              "color": "#000037"
             },
             "line": {
              "color": "#000039"
             }
            },
            "header": {
             "fill": {
              "color": "#000040"
             },
             "font": {
              "color": "#000036"
             },
             "line": {
              "color": "#000039"
             }
            },
            "type": "table"
           }
          ],
          "waterfall": [
           {
            "connector": {
             "line": {
              "color": "#000036",
              "width": 2
             }
            },
            "decreasing": {
             "marker": {
              "color": "#000033"
             }
            },
            "increasing": {
             "marker": {
              "color": "#000032"
             }
            },
            "totals": {
             "marker": {
              "color": "#000034"
             }
            },
            "type": "waterfall"
           }
          ]
         },
         "layout": {
          "coloraxis": {
           "colorscale": [
            [
             0,
             "#000011"
            ],
            [
             0.1111111111111111,
             "#000012"
            ],
            [
             0.2222222222222222,
             "#000013"
            ],
            [
             0.3333333333333333,
             "#000014"
            ],
            [
             0.4444444444444444,
             "#000015"
            ],
            [
             0.5555555555555556,
             "#000016"
            ],
            [
             0.6666666666666666,
             "#000017"
            ],
            [
             0.7777777777777778,
             "#000018"
            ],
            [
             0.8888888888888888,
             "#000019"
            ],
            [
             1,
             "#000020"
            ]
           ]
          },
          "colorscale": {
           "diverging": [
            [
             0,
             "#000021"
            ],
            [
             0.1,
             "#000022"
            ],
            [
             0.2,
             "#000023"
            ],
            [
             0.3,
             "#000024"
            ],
            [
             0.4,
             "#000025"
            ],
            [
             0.5,
             "#000026"
            ],
            [
             0.6,
             "#000027"
            ],
            [
             0.7,
             "#000028"
            ],
            [
             0.8,
             "#000029"
            ],
            [
             0.9,
             "#000030"
            ],
            [
             1,
             "#000031"
            ]
           ],
           "sequential": [
            [
             0,
             "#000011"
            ],
            [
             0.1111111111111111,
             "#000012"
            ],
            [
             0.2222222222222222,
             "#000013"
            ],
            [
             0.3333333333333333,
             "#000014"
            ],
            [
             0.4444444444444444,
             "#000015"
            ],
            [
             0.5555555555555556,
             "#000016"
            ],
            [
             0.6666666666666666,
             "#000017"
            ],
            [
             0.7777777777777778,
             "#000018"
            ],
            [
             0.8888888888888888,
             "#000019"
            ],
            [
             1,
             "#000020"
            ]
           ],
           "sequentialminus": [
            [
             0,
             "#000011"
            ],
            [
             0.1111111111111111,
             "#000012"
            ],
            [
             0.2222222222222222,
             "#000013"
            ],
            [
             0.3333333333333333,
             "#000014"
            ],
            [
             0.4444444444444444,
             "#000015"
            ],
            [
             0.5555555555555556,
             "#000016"
            ],
            [
             0.6666666666666666,
             "#000017"
            ],
            [
             0.7777777777777778,
             "#000018"
            ],
            [
             0.8888888888888888,
             "#000019"
            ],
            [
             1,
             "#000020"
            ]
           ]
          },
          "colorway": [
           "#000001",
           "#000002",
           "#000003",
           "#000004",
           "#000005",
           "#000006",
           "#000007",
           "#000008",
           "#000009",
           "#000010"
          ]
         }
        },
        "title": {
         "text": "Dendrogram (Single Linkage)"
        },
        "width": 800,
        "xaxis": {
         "mirror": "allticks",
         "rangemode": "tozero",
         "showgrid": false,
         "showline": true,
         "showticklabels": true,
         "tickmode": "array",
         "ticks": "outside",
         "ticktext": [
          "79",
          "76",
          "77",
          "78",
          "74",
          "75",
          "73",
          "1",
          "27",
          "38",
          "3",
          "15",
          "49",
          "54",
          "48",
          "0",
          "17",
          "41",
          "50",
          "11",
          "18",
          "22",
          "28",
          "44",
          "36",
          "37",
          "51",
          "60",
          "35",
          "2",
          "19",
          "25",
          "5",
          "7",
          "21",
          "39",
          "13",
          "23",
          "8",
          "9",
          "20",
          "26",
          "31",
          "4",
          "6",
          "10",
          "12",
          "14",
          "40",
          "30",
          "32",
          "33",
          "29",
          "16",
          "24",
          "62",
          "63",
          "53",
          "45",
          "46",
          "58",
          "43",
          "34",
          "42",
          "61",
          "64",
          "56",
          "59",
          "55",
          "57",
          "47",
          "52",
          "65",
          "66",
          "70",
          "71",
          "69",
          "72",
          "67",
          "68"
         ],
         "tickvals": [
          5,
          15,
          25,
          35,
          45,
          55,
          65,
          75,
          85,
          95,
          105,
          115,
          125,
          135,
          145,
          155,
          165,
          175,
          185,
          195,
          205,
          215,
          225,
          235,
          245,
          255,
          265,
          275,
          285,
          295,
          305,
          315,
          325,
          335,
          345,
          355,
          365,
          375,
          385,
          395,
          405,
          415,
          425,
          435,
          445,
          455,
          465,
          475,
          485,
          495,
          505,
          515,
          525,
          535,
          545,
          555,
          565,
          575,
          585,
          595,
          605,
          615,
          625,
          635,
          645,
          655,
          665,
          675,
          685,
          695,
          705,
          715,
          725,
          735,
          745,
          755,
          765,
          775,
          785,
          795
         ],
         "title": {
          "text": "Sample index"
         },
         "type": "linear",
         "zeroline": false
        },
        "yaxis": {
         "mirror": "allticks",
         "rangemode": "tozero",
         "showgrid": false,
         "showline": true,
         "showticklabels": true,
         "ticks": "outside",
         "title": {
          "text": "Distance"
         },
         "type": "linear",
         "zeroline": false
        }
       }
      }
     },
     "metadata": {},
     "output_type": "display_data"
    }
   ],
   "source": [
    "# Menampilkan dendrogram menggunakan Plotly untuk metode 'single'\n",
    "fig_single = ff.create_dendrogram(linkage_matrix_single)\n",
    "fig_single.update_layout(title='Dendrogram (Single Linkage)',\n",
    "                         xaxis_title='Sample index',\n",
    "                         yaxis_title='Distance',\n",
    "                         width=800, height=500)\n",
    "fig_single.show()"
   ]
  },
  {
   "cell_type": "code",
   "execution_count": null,
   "metadata": {},
   "outputs": [],
   "source": [
    "\n",
    "\n",
    "\n"
   ]
  },
  {
   "cell_type": "code",
   "execution_count": 557,
   "metadata": {},
   "outputs": [
    {
     "name": "stdout",
     "output_type": "stream",
     "text": [
      "Cophenetic Correlation Coefficient (CCC) untuk metode 'average': 0.9578231722612747\n"
     ]
    }
   ],
   "source": [
    "# Menghitung Linkage Matrix dan Cophenetic Correlation Coefficient untuk metode 'average'\n",
    "linkage_matrix_average = linkage(numeric_data, method='average')\n",
    "cophenet_matrix_average, _ = cophenet(linkage_matrix_average, pdist(numeric_data))\n",
    "ccc_average = cophenet_matrix_average.mean()\n",
    "print(\"Cophenetic Correlation Coefficient (CCC) untuk metode 'average':\", ccc_average)\n"
   ]
  },
  {
   "cell_type": "code",
   "execution_count": 558,
   "metadata": {},
   "outputs": [],
   "source": [
    "# Melakukan clustering menggunakan AgglomerativeClustering untuk metode 'average'\n",
    "clusterer_average = AgglomerativeClustering(n_clusters=n_clusters, linkage='average')\n",
    "X_ahc_average = X_ahc.copy()  # Buat salinan DataFrame untuk metode average\n",
    "X_ahc_average['cluster_average'] = clusterer_average.fit_predict(numeric_data)"
   ]
  },
  {
   "cell_type": "code",
   "execution_count": 559,
   "metadata": {},
   "outputs": [],
   "source": [
    "# Menghitung centroid untuk setiap cluster\n",
    "centroids_average = X_ahc_average.groupby('cluster_average')[['JUMLAH_LONGSOR']].mean()"
   ]
  },
  {
   "cell_type": "code",
   "execution_count": 560,
   "metadata": {},
   "outputs": [
    {
     "name": "stdout",
     "output_type": "stream",
     "text": [
      "   JUMLAH_LONGSOR  JIWA_TERDAMPAK  JIWA_MENINGGAL  RUSAK_TERDAMPAK  \\\n",
      "0             225            2673               0              405   \n",
      "1             147             311               3               82   \n",
      "2              27             227               1               48   \n",
      "3              60             285               3               44   \n",
      "4              42             294               0               17   \n",
      "\n",
      "   RUSAK_RINGAN  RUSAK_SEDANG  RUSAK_BERAT  TERTIMBUN  cluster_average  \\\n",
      "0           213           143           49          0                0   \n",
      "1            24            39           19         14                1   \n",
      "2            14            24           10          0                1   \n",
      "3            17            13           14         15                1   \n",
      "4             1             6           10          2                1   \n",
      "\n",
      "  Landslide Category Average  \n",
      "0       Tingkat Rawan Tinggi  \n",
      "1       Tingkat Rawan Rendah  \n",
      "2       Tingkat Rawan Rendah  \n",
      "3       Tingkat Rawan Rendah  \n",
      "4       Tingkat Rawan Rendah  \n"
     ]
    }
   ],
   "source": [
    "# Menentukan kategori kepadatan berdasarkan nilai centroid untuk metode 'average'\n",
    "threshold_low_average = 20  # Contoh threshold untuk \"tidak padat\"\n",
    "threshold_high_average = 50  # Contoh threshold untuk \"padat\"\n",
    "X_ahc_average['Landslide Category Average'] = X_ahc_average['cluster_average'].map(lambda cluster: \n",
    "    'Tingkat Rawan Rendah' if centroids_average.loc[cluster].mean() < threshold_low_average else (\n",
    "    'Tingkat Rawan Sedang' if centroids_average.loc[cluster].mean() < threshold_high_average else \n",
    "    'Tingkat Rawan Tinggi'))\n",
    "\n",
    "print(X_ahc_average.head())"
   ]
  },
  {
   "cell_type": "code",
   "execution_count": 561,
   "metadata": {},
   "outputs": [
    {
     "data": {
      "application/vnd.plotly.v1+json": {
       "config": {
        "plotlyServerURL": "https://plot.ly"
       },
       "data": [
        {
         "hoverinfo": "text",
         "marker": {
          "color": "rgb(61,153,112)"
         },
         "mode": "lines",
         "type": "scatter",
         "x": [
          25,
          25,
          35,
          35
         ],
         "xaxis": "x",
         "y": [
          0,
          178.99485856917653,
          178.99485856917653,
          0
         ],
         "yaxis": "y"
        },
        {
         "hoverinfo": "text",
         "marker": {
          "color": "rgb(61,153,112)"
         },
         "mode": "lines",
         "type": "scatter",
         "x": [
          15,
          15,
          30,
          30
         ],
         "xaxis": "x",
         "y": [
          0,
          316.8815762531114,
          316.8815762531114,
          178.99485856917653
         ],
         "yaxis": "y"
        },
        {
         "hoverinfo": "text",
         "marker": {
          "color": "rgb(61,153,112)"
         },
         "mode": "lines",
         "type": "scatter",
         "x": [
          65,
          65,
          75,
          75
         ],
         "xaxis": "x",
         "y": [
          0,
          105.3755592562607,
          105.3755592562607,
          0
         ],
         "yaxis": "y"
        },
        {
         "hoverinfo": "text",
         "marker": {
          "color": "rgb(61,153,112)"
         },
         "mode": "lines",
         "type": "scatter",
         "x": [
          55,
          55,
          70,
          70
         ],
         "xaxis": "x",
         "y": [
          0,
          144.01588653963032,
          144.01588653963032,
          105.3755592562607
         ],
         "yaxis": "y"
        },
        {
         "hoverinfo": "text",
         "marker": {
          "color": "rgb(61,153,112)"
         },
         "mode": "lines",
         "type": "scatter",
         "x": [
          45,
          45,
          62.5,
          62.5
         ],
         "xaxis": "x",
         "y": [
          0,
          215.69544267792082,
          215.69544267792082,
          144.01588653963032
         ],
         "yaxis": "y"
        },
        {
         "hoverinfo": "text",
         "marker": {
          "color": "rgb(61,153,112)"
         },
         "mode": "lines",
         "type": "scatter",
         "x": [
          85,
          85,
          95,
          95
         ],
         "xaxis": "x",
         "y": [
          0,
          15.938599737896674,
          15.938599737896674,
          0
         ],
         "yaxis": "y"
        },
        {
         "hoverinfo": "text",
         "marker": {
          "color": "rgb(61,153,112)"
         },
         "mode": "lines",
         "type": "scatter",
         "x": [
          105,
          105,
          115,
          115
         ],
         "xaxis": "x",
         "y": [
          0,
          6.178314727759813,
          6.178314727759813,
          0
         ],
         "yaxis": "y"
        },
        {
         "hoverinfo": "text",
         "marker": {
          "color": "rgb(61,153,112)"
         },
         "mode": "lines",
         "type": "scatter",
         "x": [
          135,
          135,
          145,
          145
         ],
         "xaxis": "x",
         "y": [
          0,
          4.766250428052884,
          4.766250428052884,
          0
         ],
         "yaxis": "y"
        },
        {
         "hoverinfo": "text",
         "marker": {
          "color": "rgb(61,153,112)"
         },
         "mode": "lines",
         "type": "scatter",
         "x": [
          125,
          125,
          140,
          140
         ],
         "xaxis": "x",
         "y": [
          0,
          12.89026160660348,
          12.89026160660348,
          4.766250428052884
         ],
         "yaxis": "y"
        },
        {
         "hoverinfo": "text",
         "marker": {
          "color": "rgb(61,153,112)"
         },
         "mode": "lines",
         "type": "scatter",
         "x": [
          110,
          110,
          132.5,
          132.5
         ],
         "xaxis": "x",
         "y": [
          6.178314727759813,
          17.72289537616339,
          17.72289537616339,
          12.89026160660348
         ],
         "yaxis": "y"
        },
        {
         "hoverinfo": "text",
         "marker": {
          "color": "rgb(61,153,112)"
         },
         "mode": "lines",
         "type": "scatter",
         "x": [
          165,
          165,
          175,
          175
         ],
         "xaxis": "x",
         "y": [
          0,
          9.405410593950734,
          9.405410593950734,
          0
         ],
         "yaxis": "y"
        },
        {
         "hoverinfo": "text",
         "marker": {
          "color": "rgb(61,153,112)"
         },
         "mode": "lines",
         "type": "scatter",
         "x": [
          155,
          155,
          170,
          170
         ],
         "xaxis": "x",
         "y": [
          0,
          19.98530786354671,
          19.98530786354671,
          9.405410593950734
         ],
         "yaxis": "y"
        },
        {
         "hoverinfo": "text",
         "marker": {
          "color": "rgb(61,153,112)"
         },
         "mode": "lines",
         "type": "scatter",
         "x": [
          121.25,
          121.25,
          162.5,
          162.5
         ],
         "xaxis": "x",
         "y": [
          17.72289537616339,
          28.452362141978213,
          28.452362141978213,
          19.98530786354671
         ],
         "yaxis": "y"
        },
        {
         "hoverinfo": "text",
         "marker": {
          "color": "rgb(61,153,112)"
         },
         "mode": "lines",
         "type": "scatter",
         "x": [
          90,
          90,
          141.875,
          141.875
         ],
         "xaxis": "x",
         "y": [
          15.938599737896674,
          48.142825821645395,
          48.142825821645395,
          28.452362141978213
         ],
         "yaxis": "y"
        },
        {
         "hoverinfo": "text",
         "marker": {
          "color": "rgb(61,153,112)"
         },
         "mode": "lines",
         "type": "scatter",
         "x": [
          205,
          205,
          215,
          215
         ],
         "xaxis": "x",
         "y": [
          0,
          5.656854249492381,
          5.656854249492381,
          0
         ],
         "yaxis": "y"
        },
        {
         "hoverinfo": "text",
         "marker": {
          "color": "rgb(61,153,112)"
         },
         "mode": "lines",
         "type": "scatter",
         "x": [
          195,
          195,
          210,
          210
         ],
         "xaxis": "x",
         "y": [
          0,
          10.583005244258363,
          10.583005244258363,
          5.656854249492381
         ],
         "yaxis": "y"
        },
        {
         "hoverinfo": "text",
         "marker": {
          "color": "rgb(61,153,112)"
         },
         "mode": "lines",
         "type": "scatter",
         "x": [
          185,
          185,
          202.5,
          202.5
         ],
         "xaxis": "x",
         "y": [
          0,
          14.65925227123987,
          14.65925227123987,
          10.583005244258363
         ],
         "yaxis": "y"
        },
        {
         "hoverinfo": "text",
         "marker": {
          "color": "rgb(61,153,112)"
         },
         "mode": "lines",
         "type": "scatter",
         "x": [
          225,
          225,
          235,
          235
         ],
         "xaxis": "x",
         "y": [
          0,
          27.678454425243917,
          27.678454425243917,
          0
         ],
         "yaxis": "y"
        },
        {
         "hoverinfo": "text",
         "marker": {
          "color": "rgb(61,153,112)"
         },
         "mode": "lines",
         "type": "scatter",
         "x": [
          193.75,
          193.75,
          230,
          230
         ],
         "xaxis": "x",
         "y": [
          14.65925227123987,
          48.979587585033826,
          48.979587585033826,
          27.678454425243917
         ],
         "yaxis": "y"
        },
        {
         "hoverinfo": "text",
         "marker": {
          "color": "rgb(61,153,112)"
         },
         "mode": "lines",
         "type": "scatter",
         "x": [
          115.9375,
          115.9375,
          211.875,
          211.875
         ],
         "xaxis": "x",
         "y": [
          48.142825821645395,
          76.94492806697,
          76.94492806697,
          48.979587585033826
         ],
         "yaxis": "y"
        },
        {
         "hoverinfo": "text",
         "marker": {
          "color": "rgb(61,153,112)"
         },
         "mode": "lines",
         "type": "scatter",
         "x": [
          255,
          255,
          265,
          265
         ],
         "xaxis": "x",
         "y": [
          0,
          23.051924079274297,
          23.051924079274297,
          0
         ],
         "yaxis": "y"
        },
        {
         "hoverinfo": "text",
         "marker": {
          "color": "rgb(61,153,112)"
         },
         "mode": "lines",
         "type": "scatter",
         "x": [
          245,
          245,
          260,
          260
         ],
         "xaxis": "x",
         "y": [
          0,
          50.39163559953203,
          50.39163559953203,
          23.051924079274297
         ],
         "yaxis": "y"
        },
        {
         "hoverinfo": "text",
         "marker": {
          "color": "rgb(61,153,112)"
         },
         "mode": "lines",
         "type": "scatter",
         "x": [
          295,
          295,
          305,
          305
         ],
         "xaxis": "x",
         "y": [
          0,
          12.386545098520545,
          12.386545098520545,
          0
         ],
         "yaxis": "y"
        },
        {
         "hoverinfo": "text",
         "marker": {
          "color": "rgb(61,153,112)"
         },
         "mode": "lines",
         "type": "scatter",
         "x": [
          285,
          285,
          300,
          300
         ],
         "xaxis": "x",
         "y": [
          0,
          20.42057785666214,
          20.42057785666214,
          12.386545098520545
         ],
         "yaxis": "y"
        },
        {
         "hoverinfo": "text",
         "marker": {
          "color": "rgb(61,153,112)"
         },
         "mode": "lines",
         "type": "scatter",
         "x": [
          275,
          275,
          292.5,
          292.5
         ],
         "xaxis": "x",
         "y": [
          0,
          31.511902513177464,
          31.511902513177464,
          20.42057785666214
         ],
         "yaxis": "y"
        },
        {
         "hoverinfo": "text",
         "marker": {
          "color": "rgb(61,153,112)"
         },
         "mode": "lines",
         "type": "scatter",
         "x": [
          325,
          325,
          335,
          335
         ],
         "xaxis": "x",
         "y": [
          0,
          6.708203932499369,
          6.708203932499369,
          0
         ],
         "yaxis": "y"
        },
        {
         "hoverinfo": "text",
         "marker": {
          "color": "rgb(61,153,112)"
         },
         "mode": "lines",
         "type": "scatter",
         "x": [
          315,
          315,
          330,
          330
         ],
         "xaxis": "x",
         "y": [
          0,
          17.204650534085253,
          17.204650534085253,
          6.708203932499369
         ],
         "yaxis": "y"
        },
        {
         "hoverinfo": "text",
         "marker": {
          "color": "rgb(61,153,112)"
         },
         "mode": "lines",
         "type": "scatter",
         "x": [
          365,
          365,
          375,
          375
         ],
         "xaxis": "x",
         "y": [
          0,
          8.319709297974379,
          8.319709297974379,
          0
         ],
         "yaxis": "y"
        },
        {
         "hoverinfo": "text",
         "marker": {
          "color": "rgb(61,153,112)"
         },
         "mode": "lines",
         "type": "scatter",
         "x": [
          355,
          355,
          370,
          370
         ],
         "xaxis": "x",
         "y": [
          0,
          11.445523142259598,
          11.445523142259598,
          8.319709297974379
         ],
         "yaxis": "y"
        },
        {
         "hoverinfo": "text",
         "marker": {
          "color": "rgb(61,153,112)"
         },
         "mode": "lines",
         "type": "scatter",
         "x": [
          345,
          345,
          362.5,
          362.5
         ],
         "xaxis": "x",
         "y": [
          0,
          19.91859823276475,
          19.91859823276475,
          11.445523142259598
         ],
         "yaxis": "y"
        },
        {
         "hoverinfo": "text",
         "marker": {
          "color": "rgb(61,153,112)"
         },
         "mode": "lines",
         "type": "scatter",
         "x": [
          322.5,
          322.5,
          353.75,
          353.75
         ],
         "xaxis": "x",
         "y": [
          17.204650534085253,
          32.0046420644195,
          32.0046420644195,
          19.91859823276475
         ],
         "yaxis": "y"
        },
        {
         "hoverinfo": "text",
         "marker": {
          "color": "rgb(61,153,112)"
         },
         "mode": "lines",
         "type": "scatter",
         "x": [
          283.75,
          283.75,
          338.125,
          338.125
         ],
         "xaxis": "x",
         "y": [
          31.511902513177464,
          53.48848960389941,
          53.48848960389941,
          32.0046420644195
         ],
         "yaxis": "y"
        },
        {
         "hoverinfo": "text",
         "marker": {
          "color": "rgb(61,153,112)"
         },
         "mode": "lines",
         "type": "scatter",
         "x": [
          252.5,
          252.5,
          310.9375,
          310.9375
         ],
         "xaxis": "x",
         "y": [
          50.39163559953203,
          81.7251491280377,
          81.7251491280377,
          53.48848960389941
         ],
         "yaxis": "y"
        },
        {
         "hoverinfo": "text",
         "marker": {
          "color": "rgb(61,153,112)"
         },
         "mode": "lines",
         "type": "scatter",
         "x": [
          163.90625,
          163.90625,
          281.71875,
          281.71875
         ],
         "xaxis": "x",
         "y": [
          76.94492806697,
          101.85224966121577,
          101.85224966121577,
          81.7251491280377
         ],
         "yaxis": "y"
        },
        {
         "hoverinfo": "text",
         "marker": {
          "color": "rgb(61,153,112)"
         },
         "mode": "lines",
         "type": "scatter",
         "x": [
          385,
          385,
          395,
          395
         ],
         "xaxis": "x",
         "y": [
          0,
          73.28841214896164,
          73.28841214896164,
          0
         ],
         "yaxis": "y"
        },
        {
         "hoverinfo": "text",
         "marker": {
          "color": "rgb(61,153,112)"
         },
         "mode": "lines",
         "type": "scatter",
         "x": [
          415,
          415,
          425,
          425
         ],
         "xaxis": "x",
         "y": [
          0,
          33.93242913978458,
          33.93242913978458,
          0
         ],
         "yaxis": "y"
        },
        {
         "hoverinfo": "text",
         "marker": {
          "color": "rgb(61,153,112)"
         },
         "mode": "lines",
         "type": "scatter",
         "x": [
          405,
          405,
          420,
          420
         ],
         "xaxis": "x",
         "y": [
          0,
          86.78029431916704,
          86.78029431916704,
          33.93242913978458
         ],
         "yaxis": "y"
        },
        {
         "hoverinfo": "text",
         "marker": {
          "color": "rgb(61,153,112)"
         },
         "mode": "lines",
         "type": "scatter",
         "x": [
          390,
          390,
          412.5,
          412.5
         ],
         "xaxis": "x",
         "y": [
          73.28841214896164,
          130.4068625492638,
          130.4068625492638,
          86.78029431916704
         ],
         "yaxis": "y"
        },
        {
         "hoverinfo": "text",
         "marker": {
          "color": "rgb(61,153,112)"
         },
         "mode": "lines",
         "type": "scatter",
         "x": [
          445,
          445,
          455,
          455
         ],
         "xaxis": "x",
         "y": [
          0,
          10.806160035001808,
          10.806160035001808,
          0
         ],
         "yaxis": "y"
        },
        {
         "hoverinfo": "text",
         "marker": {
          "color": "rgb(61,153,112)"
         },
         "mode": "lines",
         "type": "scatter",
         "x": [
          435,
          435,
          450,
          450
         ],
         "xaxis": "x",
         "y": [
          0,
          50.77094852188891,
          50.77094852188891,
          10.806160035001808
         ],
         "yaxis": "y"
        },
        {
         "hoverinfo": "text",
         "marker": {
          "color": "rgb(61,153,112)"
         },
         "mode": "lines",
         "type": "scatter",
         "x": [
          465,
          465,
          475,
          475
         ],
         "xaxis": "x",
         "y": [
          0,
          15.400371027122285,
          15.400371027122285,
          0
         ],
         "yaxis": "y"
        },
        {
         "hoverinfo": "text",
         "marker": {
          "color": "rgb(61,153,112)"
         },
         "mode": "lines",
         "type": "scatter",
         "x": [
          495,
          495,
          505,
          505
         ],
         "xaxis": "x",
         "y": [
          0,
          13.747270290554118,
          13.747270290554118,
          0
         ],
         "yaxis": "y"
        },
        {
         "hoverinfo": "text",
         "marker": {
          "color": "rgb(61,153,112)"
         },
         "mode": "lines",
         "type": "scatter",
         "x": [
          485,
          485,
          500,
          500
         ],
         "xaxis": "x",
         "y": [
          0,
          23.85342960660375,
          23.85342960660375,
          13.747270290554118
         ],
         "yaxis": "y"
        },
        {
         "hoverinfo": "text",
         "marker": {
          "color": "rgb(61,153,112)"
         },
         "mode": "lines",
         "type": "scatter",
         "x": [
          470,
          470,
          492.5,
          492.5
         ],
         "xaxis": "x",
         "y": [
          15.400371027122285,
          54.32945353001062,
          54.32945353001062,
          23.85342960660375
         ],
         "yaxis": "y"
        },
        {
         "hoverinfo": "text",
         "marker": {
          "color": "rgb(61,153,112)"
         },
         "mode": "lines",
         "type": "scatter",
         "x": [
          442.5,
          442.5,
          481.25,
          481.25
         ],
         "xaxis": "x",
         "y": [
          50.77094852188891,
          87.85024275581657,
          87.85024275581657,
          54.32945353001062
         ],
         "yaxis": "y"
        },
        {
         "hoverinfo": "text",
         "marker": {
          "color": "rgb(61,153,112)"
         },
         "mode": "lines",
         "type": "scatter",
         "x": [
          525,
          525,
          535,
          535
         ],
         "xaxis": "x",
         "y": [
          0,
          20.34307757297589,
          20.34307757297589,
          0
         ],
         "yaxis": "y"
        },
        {
         "hoverinfo": "text",
         "marker": {
          "color": "rgb(61,153,112)"
         },
         "mode": "lines",
         "type": "scatter",
         "x": [
          515,
          515,
          530,
          530
         ],
         "xaxis": "x",
         "y": [
          0,
          44.74462155661228,
          44.74462155661228,
          20.34307757297589
         ],
         "yaxis": "y"
        },
        {
         "hoverinfo": "text",
         "marker": {
          "color": "rgb(61,153,112)"
         },
         "mode": "lines",
         "type": "scatter",
         "x": [
          545,
          545,
          555,
          555
         ],
         "xaxis": "x",
         "y": [
          0,
          15.33216700691306,
          15.33216700691306,
          0
         ],
         "yaxis": "y"
        },
        {
         "hoverinfo": "text",
         "marker": {
          "color": "rgb(61,153,112)"
         },
         "mode": "lines",
         "type": "scatter",
         "x": [
          585,
          585,
          595,
          595
         ],
         "xaxis": "x",
         "y": [
          0,
          7.9301017972120045,
          7.9301017972120045,
          0
         ],
         "yaxis": "y"
        },
        {
         "hoverinfo": "text",
         "marker": {
          "color": "rgb(61,153,112)"
         },
         "mode": "lines",
         "type": "scatter",
         "x": [
          575,
          575,
          590,
          590
         ],
         "xaxis": "x",
         "y": [
          0,
          14.6945946734947,
          14.6945946734947,
          7.9301017972120045
         ],
         "yaxis": "y"
        },
        {
         "hoverinfo": "text",
         "marker": {
          "color": "rgb(61,153,112)"
         },
         "mode": "lines",
         "type": "scatter",
         "x": [
          565,
          565,
          582.5,
          582.5
         ],
         "xaxis": "x",
         "y": [
          0,
          27.73643708568662,
          27.73643708568662,
          14.6945946734947
         ],
         "yaxis": "y"
        },
        {
         "hoverinfo": "text",
         "marker": {
          "color": "rgb(61,153,112)"
         },
         "mode": "lines",
         "type": "scatter",
         "x": [
          550,
          550,
          573.75,
          573.75
         ],
         "xaxis": "x",
         "y": [
          15.33216700691306,
          52.500982553035904,
          52.500982553035904,
          27.73643708568662
         ],
         "yaxis": "y"
        },
        {
         "hoverinfo": "text",
         "marker": {
          "color": "rgb(61,153,112)"
         },
         "mode": "lines",
         "type": "scatter",
         "x": [
          522.5,
          522.5,
          561.875,
          561.875
         ],
         "xaxis": "x",
         "y": [
          44.74462155661228,
          68.99352121275618,
          68.99352121275618,
          52.500982553035904
         ],
         "yaxis": "y"
        },
        {
         "hoverinfo": "text",
         "marker": {
          "color": "rgb(61,153,112)"
         },
         "mode": "lines",
         "type": "scatter",
         "x": [
          615,
          615,
          625,
          625
         ],
         "xaxis": "x",
         "y": [
          0,
          7.348517718948791,
          7.348517718948791,
          0
         ],
         "yaxis": "y"
        },
        {
         "hoverinfo": "text",
         "marker": {
          "color": "rgb(61,153,112)"
         },
         "mode": "lines",
         "type": "scatter",
         "x": [
          605,
          605,
          620,
          620
         ],
         "xaxis": "x",
         "y": [
          0,
          10.399930338391892,
          10.399930338391892,
          7.348517718948791
         ],
         "yaxis": "y"
        },
        {
         "hoverinfo": "text",
         "marker": {
          "color": "rgb(61,153,112)"
         },
         "mode": "lines",
         "type": "scatter",
         "x": [
          645,
          645,
          655,
          655
         ],
         "xaxis": "x",
         "y": [
          0,
          6.795995666397009,
          6.795995666397009,
          0
         ],
         "yaxis": "y"
        },
        {
         "hoverinfo": "text",
         "marker": {
          "color": "rgb(61,153,112)"
         },
         "mode": "lines",
         "type": "scatter",
         "x": [
          635,
          635,
          650,
          650
         ],
         "xaxis": "x",
         "y": [
          0,
          17.233701708469162,
          17.233701708469162,
          6.795995666397009
         ],
         "yaxis": "y"
        },
        {
         "hoverinfo": "text",
         "marker": {
          "color": "rgb(61,153,112)"
         },
         "mode": "lines",
         "type": "scatter",
         "x": [
          612.5,
          612.5,
          642.5,
          642.5
         ],
         "xaxis": "x",
         "y": [
          10.399930338391892,
          26.999621141558325,
          26.999621141558325,
          17.233701708469162
         ],
         "yaxis": "y"
        },
        {
         "hoverinfo": "text",
         "marker": {
          "color": "rgb(61,153,112)"
         },
         "mode": "lines",
         "type": "scatter",
         "x": [
          685,
          685,
          695,
          695
         ],
         "xaxis": "x",
         "y": [
          0,
          3.0261946897921,
          3.0261946897921,
          0
         ],
         "yaxis": "y"
        },
        {
         "hoverinfo": "text",
         "marker": {
          "color": "rgb(61,153,112)"
         },
         "mode": "lines",
         "type": "scatter",
         "x": [
          705,
          705,
          715,
          715
         ],
         "xaxis": "x",
         "y": [
          0,
          4.61495932927015,
          4.61495932927015,
          0
         ],
         "yaxis": "y"
        },
        {
         "hoverinfo": "text",
         "marker": {
          "color": "rgb(61,153,112)"
         },
         "mode": "lines",
         "type": "scatter",
         "x": [
          690,
          690,
          710,
          710
         ],
         "xaxis": "x",
         "y": [
          3.0261946897921,
          7.357846365014202,
          7.357846365014202,
          4.61495932927015
         ],
         "yaxis": "y"
        },
        {
         "hoverinfo": "text",
         "marker": {
          "color": "rgb(61,153,112)"
         },
         "mode": "lines",
         "type": "scatter",
         "x": [
          675,
          675,
          700,
          700
         ],
         "xaxis": "x",
         "y": [
          0,
          14.726952860520582,
          14.726952860520582,
          7.357846365014202
         ],
         "yaxis": "y"
        },
        {
         "hoverinfo": "text",
         "marker": {
          "color": "rgb(61,153,112)"
         },
         "mode": "lines",
         "type": "scatter",
         "x": [
          665,
          665,
          687.5,
          687.5
         ],
         "xaxis": "x",
         "y": [
          0,
          17.322774819019287,
          17.322774819019287,
          14.726952860520582
         ],
         "yaxis": "y"
        },
        {
         "hoverinfo": "text",
         "marker": {
          "color": "rgb(61,153,112)"
         },
         "mode": "lines",
         "type": "scatter",
         "x": [
          735,
          735,
          745,
          745
         ],
         "xaxis": "x",
         "y": [
          0,
          6.264308910682552,
          6.264308910682552,
          0
         ],
         "yaxis": "y"
        },
        {
         "hoverinfo": "text",
         "marker": {
          "color": "rgb(61,153,112)"
         },
         "mode": "lines",
         "type": "scatter",
         "x": [
          725,
          725,
          740,
          740
         ],
         "xaxis": "x",
         "y": [
          0,
          11.820829945341991,
          11.820829945341991,
          6.264308910682552
         ],
         "yaxis": "y"
        },
        {
         "hoverinfo": "text",
         "marker": {
          "color": "rgb(61,153,112)"
         },
         "mode": "lines",
         "type": "scatter",
         "x": [
          755,
          755,
          765,
          765
         ],
         "xaxis": "x",
         "y": [
          0,
          14.353954763458521,
          14.353954763458521,
          0
         ],
         "yaxis": "y"
        },
        {
         "hoverinfo": "text",
         "marker": {
          "color": "rgb(61,153,112)"
         },
         "mode": "lines",
         "type": "scatter",
         "x": [
          732.5,
          732.5,
          760,
          760
         ],
         "xaxis": "x",
         "y": [
          11.820829945341991,
          26.311369807673216,
          26.311369807673216,
          14.353954763458521
         ],
         "yaxis": "y"
        },
        {
         "hoverinfo": "text",
         "marker": {
          "color": "rgb(61,153,112)"
         },
         "mode": "lines",
         "type": "scatter",
         "x": [
          676.25,
          676.25,
          746.25,
          746.25
         ],
         "xaxis": "x",
         "y": [
          17.322774819019287,
          38.204216361150735,
          38.204216361150735,
          26.311369807673216
         ],
         "yaxis": "y"
        },
        {
         "hoverinfo": "text",
         "marker": {
          "color": "rgb(61,153,112)"
         },
         "mode": "lines",
         "type": "scatter",
         "x": [
          627.5,
          627.5,
          711.25,
          711.25
         ],
         "xaxis": "x",
         "y": [
          26.999621141558325,
          48.166711858565016,
          48.166711858565016,
          38.204216361150735
         ],
         "yaxis": "y"
        },
        {
         "hoverinfo": "text",
         "marker": {
          "color": "rgb(61,153,112)"
         },
         "mode": "lines",
         "type": "scatter",
         "x": [
          785,
          785,
          795,
          795
         ],
         "xaxis": "x",
         "y": [
          0,
          24.95097262743928,
          24.95097262743928,
          0
         ],
         "yaxis": "y"
        },
        {
         "hoverinfo": "text",
         "marker": {
          "color": "rgb(61,153,112)"
         },
         "mode": "lines",
         "type": "scatter",
         "x": [
          775,
          775,
          790,
          790
         ],
         "xaxis": "x",
         "y": [
          0,
          50.0548736225736,
          50.0548736225736,
          24.95097262743928
         ],
         "yaxis": "y"
        },
        {
         "hoverinfo": "text",
         "marker": {
          "color": "rgb(61,153,112)"
         },
         "mode": "lines",
         "type": "scatter",
         "x": [
          669.375,
          669.375,
          782.5,
          782.5
         ],
         "xaxis": "x",
         "y": [
          48.166711858565016,
          83.18402452582593,
          83.18402452582593,
          50.0548736225736
         ],
         "yaxis": "y"
        },
        {
         "hoverinfo": "text",
         "marker": {
          "color": "rgb(61,153,112)"
         },
         "mode": "lines",
         "type": "scatter",
         "x": [
          542.1875,
          542.1875,
          725.9375,
          725.9375
         ],
         "xaxis": "x",
         "y": [
          68.99352121275618,
          121.69374681161474,
          121.69374681161474,
          83.18402452582593
         ],
         "yaxis": "y"
        },
        {
         "hoverinfo": "text",
         "marker": {
          "color": "rgb(61,153,112)"
         },
         "mode": "lines",
         "type": "scatter",
         "x": [
          461.875,
          461.875,
          634.0625,
          634.0625
         ],
         "xaxis": "x",
         "y": [
          87.85024275581657,
          160.43860951166135,
          160.43860951166135,
          121.69374681161474
         ],
         "yaxis": "y"
        },
        {
         "hoverinfo": "text",
         "marker": {
          "color": "rgb(61,153,112)"
         },
         "mode": "lines",
         "type": "scatter",
         "x": [
          401.25,
          401.25,
          547.96875,
          547.96875
         ],
         "xaxis": "x",
         "y": [
          130.4068625492638,
          188.19709327206283,
          188.19709327206283,
          160.43860951166135
         ],
         "yaxis": "y"
        },
        {
         "hoverinfo": "text",
         "marker": {
          "color": "rgb(61,153,112)"
         },
         "mode": "lines",
         "type": "scatter",
         "x": [
          222.8125,
          222.8125,
          474.609375,
          474.609375
         ],
         "xaxis": "x",
         "y": [
          101.85224966121577,
          218.74437427507718,
          218.74437427507718,
          188.19709327206283
         ],
         "yaxis": "y"
        },
        {
         "hoverinfo": "text",
         "marker": {
          "color": "rgb(61,153,112)"
         },
         "mode": "lines",
         "type": "scatter",
         "x": [
          53.75,
          53.75,
          348.7109375,
          348.7109375
         ],
         "xaxis": "x",
         "y": [
          215.69544267792082,
          385.6814660429966,
          385.6814660429966,
          218.74437427507718
         ],
         "yaxis": "y"
        },
        {
         "hoverinfo": "text",
         "marker": {
          "color": "rgb(61,153,112)"
         },
         "mode": "lines",
         "type": "scatter",
         "x": [
          22.5,
          22.5,
          201.23046875,
          201.23046875
         ],
         "xaxis": "x",
         "y": [
          316.8815762531114,
          851.7595304056073,
          851.7595304056073,
          385.6814660429966
         ],
         "yaxis": "y"
        },
        {
         "hoverinfo": "text",
         "marker": {
          "color": "rgb(0,116,217)"
         },
         "mode": "lines",
         "type": "scatter",
         "x": [
          5,
          5,
          111.865234375,
          111.865234375
         ],
         "xaxis": "x",
         "y": [
          0,
          2006.1202511784115,
          2006.1202511784115,
          851.7595304056073
         ],
         "yaxis": "y"
        }
       ],
       "layout": {
        "autosize": false,
        "height": 500,
        "hovermode": "closest",
        "showlegend": false,
        "template": {
         "data": {
          "candlestick": [
           {
            "decreasing": {
             "line": {
              "color": "#000033"
             }
            },
            "increasing": {
             "line": {
              "color": "#000032"
             }
            },
            "type": "candlestick"
           }
          ],
          "contour": [
           {
            "colorscale": [
             [
              0,
              "#000011"
             ],
             [
              0.1111111111111111,
              "#000012"
             ],
             [
              0.2222222222222222,
              "#000013"
             ],
             [
              0.3333333333333333,
              "#000014"
             ],
             [
              0.4444444444444444,
              "#000015"
             ],
             [
              0.5555555555555556,
              "#000016"
             ],
             [
              0.6666666666666666,
              "#000017"
             ],
             [
              0.7777777777777778,
              "#000018"
             ],
             [
              0.8888888888888888,
              "#000019"
             ],
             [
              1,
              "#000020"
             ]
            ],
            "type": "contour"
           }
          ],
          "contourcarpet": [
           {
            "colorscale": [
             [
              0,
              "#000011"
             ],
             [
              0.1111111111111111,
              "#000012"
             ],
             [
              0.2222222222222222,
              "#000013"
             ],
             [
              0.3333333333333333,
              "#000014"
             ],
             [
              0.4444444444444444,
              "#000015"
             ],
             [
              0.5555555555555556,
              "#000016"
             ],
             [
              0.6666666666666666,
              "#000017"
             ],
             [
              0.7777777777777778,
              "#000018"
             ],
             [
              0.8888888888888888,
              "#000019"
             ],
             [
              1,
              "#000020"
             ]
            ],
            "type": "contourcarpet"
           }
          ],
          "heatmap": [
           {
            "colorscale": [
             [
              0,
              "#000011"
             ],
             [
              0.1111111111111111,
              "#000012"
             ],
             [
              0.2222222222222222,
              "#000013"
             ],
             [
              0.3333333333333333,
              "#000014"
             ],
             [
              0.4444444444444444,
              "#000015"
             ],
             [
              0.5555555555555556,
              "#000016"
             ],
             [
              0.6666666666666666,
              "#000017"
             ],
             [
              0.7777777777777778,
              "#000018"
             ],
             [
              0.8888888888888888,
              "#000019"
             ],
             [
              1,
              "#000020"
             ]
            ],
            "type": "heatmap"
           }
          ],
          "histogram2d": [
           {
            "colorscale": [
             [
              0,
              "#000011"
             ],
             [
              0.1111111111111111,
              "#000012"
             ],
             [
              0.2222222222222222,
              "#000013"
             ],
             [
              0.3333333333333333,
              "#000014"
             ],
             [
              0.4444444444444444,
              "#000015"
             ],
             [
              0.5555555555555556,
              "#000016"
             ],
             [
              0.6666666666666666,
              "#000017"
             ],
             [
              0.7777777777777778,
              "#000018"
             ],
             [
              0.8888888888888888,
              "#000019"
             ],
             [
              1,
              "#000020"
             ]
            ],
            "type": "histogram2d"
           }
          ],
          "icicle": [
           {
            "textfont": {
             "color": "white"
            },
            "type": "icicle"
           }
          ],
          "sankey": [
           {
            "textfont": {
             "color": "#000036"
            },
            "type": "sankey"
           }
          ],
          "scatter": [
           {
            "marker": {
             "line": {
              "width": 0
             }
            },
            "type": "scatter"
           }
          ],
          "table": [
           {
            "cells": {
             "fill": {
              "color": "#000038"
             },
             "font": {
              "color": "#000037"
             },
             "line": {
              "color": "#000039"
             }
            },
            "header": {
             "fill": {
              "color": "#000040"
             },
             "font": {
              "color": "#000036"
             },
             "line": {
              "color": "#000039"
             }
            },
            "type": "table"
           }
          ],
          "waterfall": [
           {
            "connector": {
             "line": {
              "color": "#000036",
              "width": 2
             }
            },
            "decreasing": {
             "marker": {
              "color": "#000033"
             }
            },
            "increasing": {
             "marker": {
              "color": "#000032"
             }
            },
            "totals": {
             "marker": {
              "color": "#000034"
             }
            },
            "type": "waterfall"
           }
          ]
         },
         "layout": {
          "coloraxis": {
           "colorscale": [
            [
             0,
             "#000011"
            ],
            [
             0.1111111111111111,
             "#000012"
            ],
            [
             0.2222222222222222,
             "#000013"
            ],
            [
             0.3333333333333333,
             "#000014"
            ],
            [
             0.4444444444444444,
             "#000015"
            ],
            [
             0.5555555555555556,
             "#000016"
            ],
            [
             0.6666666666666666,
             "#000017"
            ],
            [
             0.7777777777777778,
             "#000018"
            ],
            [
             0.8888888888888888,
             "#000019"
            ],
            [
             1,
             "#000020"
            ]
           ]
          },
          "colorscale": {
           "diverging": [
            [
             0,
             "#000021"
            ],
            [
             0.1,
             "#000022"
            ],
            [
             0.2,
             "#000023"
            ],
            [
             0.3,
             "#000024"
            ],
            [
             0.4,
             "#000025"
            ],
            [
             0.5,
             "#000026"
            ],
            [
             0.6,
             "#000027"
            ],
            [
             0.7,
             "#000028"
            ],
            [
             0.8,
             "#000029"
            ],
            [
             0.9,
             "#000030"
            ],
            [
             1,
             "#000031"
            ]
           ],
           "sequential": [
            [
             0,
             "#000011"
            ],
            [
             0.1111111111111111,
             "#000012"
            ],
            [
             0.2222222222222222,
             "#000013"
            ],
            [
             0.3333333333333333,
             "#000014"
            ],
            [
             0.4444444444444444,
             "#000015"
            ],
            [
             0.5555555555555556,
             "#000016"
            ],
            [
             0.6666666666666666,
             "#000017"
            ],
            [
             0.7777777777777778,
             "#000018"
            ],
            [
             0.8888888888888888,
             "#000019"
            ],
            [
             1,
             "#000020"
            ]
           ],
           "sequentialminus": [
            [
             0,
             "#000011"
            ],
            [
             0.1111111111111111,
             "#000012"
            ],
            [
             0.2222222222222222,
             "#000013"
            ],
            [
             0.3333333333333333,
             "#000014"
            ],
            [
             0.4444444444444444,
             "#000015"
            ],
            [
             0.5555555555555556,
             "#000016"
            ],
            [
             0.6666666666666666,
             "#000017"
            ],
            [
             0.7777777777777778,
             "#000018"
            ],
            [
             0.8888888888888888,
             "#000019"
            ],
            [
             1,
             "#000020"
            ]
           ]
          },
          "colorway": [
           "#000001",
           "#000002",
           "#000003",
           "#000004",
           "#000005",
           "#000006",
           "#000007",
           "#000008",
           "#000009",
           "#000010"
          ]
         }
        },
        "title": {
         "text": "Dendrogram (Average Linkage)"
        },
        "width": 800,
        "xaxis": {
         "mirror": "allticks",
         "rangemode": "tozero",
         "showgrid": false,
         "showline": true,
         "showticklabels": true,
         "tickmode": "array",
         "ticks": "outside",
         "ticktext": [
          "79",
          "78",
          "76",
          "77",
          "75",
          "74",
          "72",
          "73",
          "24",
          "29",
          "4",
          "6",
          "35",
          "7",
          "19",
          "21",
          "8",
          "16",
          "30",
          "2",
          "17",
          "23",
          "48",
          "54",
          "61",
          "47",
          "51",
          "44",
          "0",
          "15",
          "37",
          "33",
          "3",
          "10",
          "13",
          "1",
          "26",
          "34",
          "64",
          "70",
          "71",
          "65",
          "69",
          "66",
          "67",
          "68",
          "52",
          "55",
          "63",
          "59",
          "62",
          "60",
          "46",
          "53",
          "57",
          "58",
          "50",
          "45",
          "42",
          "43",
          "32",
          "38",
          "39",
          "27",
          "22",
          "28",
          "5",
          "20",
          "9",
          "11",
          "12",
          "14",
          "18",
          "25",
          "31",
          "36",
          "41",
          "56",
          "40",
          "49"
         ],
         "tickvals": [
          5,
          15,
          25,
          35,
          45,
          55,
          65,
          75,
          85,
          95,
          105,
          115,
          125,
          135,
          145,
          155,
          165,
          175,
          185,
          195,
          205,
          215,
          225,
          235,
          245,
          255,
          265,
          275,
          285,
          295,
          305,
          315,
          325,
          335,
          345,
          355,
          365,
          375,
          385,
          395,
          405,
          415,
          425,
          435,
          445,
          455,
          465,
          475,
          485,
          495,
          505,
          515,
          525,
          535,
          545,
          555,
          565,
          575,
          585,
          595,
          605,
          615,
          625,
          635,
          645,
          655,
          665,
          675,
          685,
          695,
          705,
          715,
          725,
          735,
          745,
          755,
          765,
          775,
          785,
          795
         ],
         "title": {
          "text": "Sample index"
         },
         "type": "linear",
         "zeroline": false
        },
        "yaxis": {
         "mirror": "allticks",
         "rangemode": "tozero",
         "showgrid": false,
         "showline": true,
         "showticklabels": true,
         "ticks": "outside",
         "title": {
          "text": "Distance"
         },
         "type": "linear",
         "zeroline": false
        }
       }
      }
     },
     "metadata": {},
     "output_type": "display_data"
    }
   ],
   "source": [
    "# Menampilkan dendrogram menggunakan Plotly untuk metode 'average'\n",
    "fig_average = ff.create_dendrogram(linkage_matrix_average)\n",
    "fig_average.update_layout(title='Dendrogram (Average Linkage)',\n",
    "                          xaxis_title='Sample index',\n",
    "                          yaxis_title='Distance',\n",
    "                          width=800, height=500)\n",
    "fig_average.show()"
   ]
  },
  {
   "cell_type": "code",
   "execution_count": 562,
   "metadata": {},
   "outputs": [
    {
     "name": "stdout",
     "output_type": "stream",
     "text": [
      "Cophenetic Correlation Coefficient (CCC) untuk metode 'complete': 0.9580124034579465\n"
     ]
    }
   ],
   "source": [
    "# Menampilkan Linkage Matrix dan Cophenetic Correlation Coefficient untuk metode 'complete'\n",
    "linkage_matrix_complete = linkage(numeric_data, method='complete')\n",
    "cophenet_matrix_complete, _ = cophenet(linkage_matrix_complete, pdist(numeric_data))\n",
    "ccc_complete = cophenet_matrix_complete.mean()\n",
    "print(\"Cophenetic Correlation Coefficient (CCC) untuk metode 'complete':\", ccc_complete)\n"
   ]
  },
  {
   "cell_type": "code",
   "execution_count": 563,
   "metadata": {},
   "outputs": [],
   "source": [
    "\n",
    "# Melakukan clustering menggunakan AgglomerativeClustering untuk metode 'complete'\n",
    "clusterer_complete = AgglomerativeClustering(n_clusters=n_clusters, linkage='complete')\n",
    "X_ahc_complete = X_ahc.copy()  # Buat salinan DataFrame untuk metode complete\n",
    "X_ahc_complete['cluster_complete'] = clusterer_complete.fit_predict(numeric_data)\n"
   ]
  },
  {
   "cell_type": "code",
   "execution_count": 564,
   "metadata": {},
   "outputs": [],
   "source": [
    "# Menghitung centroid untuk setiap cluster\n",
    "centroids_complete = X_ahc_complete.groupby('cluster_complete')[['JUMLAH_LONGSOR']].mean()\n"
   ]
  },
  {
   "cell_type": "code",
   "execution_count": 565,
   "metadata": {},
   "outputs": [
    {
     "name": "stdout",
     "output_type": "stream",
     "text": [
      "   JUMLAH_LONGSOR  JIWA_TERDAMPAK  JIWA_MENINGGAL  RUSAK_TERDAMPAK  \\\n",
      "0             225            2673               0              405   \n",
      "1             147             311               3               82   \n",
      "2              27             227               1               48   \n",
      "3              60             285               3               44   \n",
      "4              42             294               0               17   \n",
      "\n",
      "   RUSAK_RINGAN  RUSAK_SEDANG  RUSAK_BERAT  TERTIMBUN  cluster_complete  \\\n",
      "0           213           143           49          0                 0   \n",
      "1            24            39           19         14                 1   \n",
      "2            14            24           10          0                 1   \n",
      "3            17            13           14         15                 1   \n",
      "4             1             6           10          2                 1   \n",
      "\n",
      "  Landslide Category Complete  \n",
      "0        Tingkat Rawan Tinggi  \n",
      "1        Tingkat Rawan Rendah  \n",
      "2        Tingkat Rawan Rendah  \n",
      "3        Tingkat Rawan Rendah  \n",
      "4        Tingkat Rawan Rendah  \n"
     ]
    }
   ],
   "source": [
    "# Menentukan kategori kepadatan berdasarkan nilai centroid untuk metode 'complete'\n",
    "threshold_low_complete = 20  # Contoh threshold untuk \"tidak padat\"\n",
    "threshold_high_complete = 50  # Contoh threshold untuk \"padat\"\n",
    "X_ahc_complete['Landslide Category Complete'] = X_ahc_complete['cluster_complete'].map(lambda cluster: \n",
    "    'Tingkat Rawan Rendah' if centroids_complete.loc[cluster].mean() < threshold_low_complete else (\n",
    "    'Tingkat Rawan Sedang' if centroids_complete.loc[cluster].mean() < threshold_high_complete else \n",
    "    'Tingkat Rawan Tinggi'))\n",
    "\n",
    "print(X_ahc_complete.head())\n"
   ]
  },
  {
   "cell_type": "code",
   "execution_count": 566,
   "metadata": {},
   "outputs": [
    {
     "data": {
      "application/vnd.plotly.v1+json": {
       "config": {
        "plotlyServerURL": "https://plot.ly"
       },
       "data": [
        {
         "hoverinfo": "text",
         "marker": {
          "color": "rgb(61,153,112)"
         },
         "mode": "lines",
         "type": "scatter",
         "x": [
          45,
          45,
          55,
          55
         ],
         "xaxis": "x",
         "y": [
          0,
          75.77448347760502,
          75.77448347760502,
          0
         ],
         "yaxis": "y"
        },
        {
         "hoverinfo": "text",
         "marker": {
          "color": "rgb(61,153,112)"
         },
         "mode": "lines",
         "type": "scatter",
         "x": [
          35,
          35,
          50,
          50
         ],
         "xaxis": "x",
         "y": [
          0,
          127.40598664780008,
          127.40598664780008,
          75.77448347760502
         ],
         "yaxis": "y"
        },
        {
         "hoverinfo": "text",
         "marker": {
          "color": "rgb(61,153,112)"
         },
         "mode": "lines",
         "type": "scatter",
         "x": [
          25,
          25,
          42.5,
          42.5
         ],
         "xaxis": "x",
         "y": [
          0,
          175.4721881984094,
          175.4721881984094,
          127.40598664780008
         ],
         "yaxis": "y"
        },
        {
         "hoverinfo": "text",
         "marker": {
          "color": "rgb(61,153,112)"
         },
         "mode": "lines",
         "type": "scatter",
         "x": [
          15,
          15,
          33.75,
          33.75
         ],
         "xaxis": "x",
         "y": [
          0,
          241.55809633160834,
          241.55809633160834,
          175.4721881984094
         ],
         "yaxis": "y"
        },
        {
         "hoverinfo": "text",
         "marker": {
          "color": "rgb(61,153,112)"
         },
         "mode": "lines",
         "type": "scatter",
         "x": [
          85,
          85,
          95,
          95
         ],
         "xaxis": "x",
         "y": [
          0,
          4.543527513063514,
          4.543527513063514,
          0
         ],
         "yaxis": "y"
        },
        {
         "hoverinfo": "text",
         "marker": {
          "color": "rgb(61,153,112)"
         },
         "mode": "lines",
         "type": "scatter",
         "x": [
          75,
          75,
          90,
          90
         ],
         "xaxis": "x",
         "y": [
          0,
          14.609031175663159,
          14.609031175663159,
          4.543527513063514
         ],
         "yaxis": "y"
        },
        {
         "hoverinfo": "text",
         "marker": {
          "color": "rgb(61,153,112)"
         },
         "mode": "lines",
         "type": "scatter",
         "x": [
          65,
          65,
          82.5,
          82.5
         ],
         "xaxis": "x",
         "y": [
          0,
          46.49787102123961,
          46.49787102123961,
          14.609031175663159
         ],
         "yaxis": "y"
        },
        {
         "hoverinfo": "text",
         "marker": {
          "color": "rgb(61,153,112)"
         },
         "mode": "lines",
         "type": "scatter",
         "x": [
          105,
          105,
          115,
          115
         ],
         "xaxis": "x",
         "y": [
          0,
          55.93683319157806,
          55.93683319157806,
          0
         ],
         "yaxis": "y"
        },
        {
         "hoverinfo": "text",
         "marker": {
          "color": "rgb(61,153,112)"
         },
         "mode": "lines",
         "type": "scatter",
         "x": [
          73.75,
          73.75,
          110,
          110
         ],
         "xaxis": "x",
         "y": [
          46.49787102123961,
          114.13571006576863,
          114.13571006576863,
          55.93683319157806
         ],
         "yaxis": "y"
        },
        {
         "hoverinfo": "text",
         "marker": {
          "color": "rgb(61,153,112)"
         },
         "mode": "lines",
         "type": "scatter",
         "x": [
          135,
          135,
          145,
          145
         ],
         "xaxis": "x",
         "y": [
          0,
          61.34749341800543,
          61.34749341800543,
          0
         ],
         "yaxis": "y"
        },
        {
         "hoverinfo": "text",
         "marker": {
          "color": "rgb(61,153,112)"
         },
         "mode": "lines",
         "type": "scatter",
         "x": [
          125,
          125,
          140,
          140
         ],
         "xaxis": "x",
         "y": [
          0,
          77.50765632439402,
          77.50765632439402,
          61.34749341800543
         ],
         "yaxis": "y"
        },
        {
         "hoverinfo": "text",
         "marker": {
          "color": "rgb(61,153,112)"
         },
         "mode": "lines",
         "type": "scatter",
         "x": [
          155,
          155,
          165,
          165
         ],
         "xaxis": "x",
         "y": [
          0,
          38.28639586192975,
          38.28639586192975,
          0
         ],
         "yaxis": "y"
        },
        {
         "hoverinfo": "text",
         "marker": {
          "color": "rgb(61,153,112)"
         },
         "mode": "lines",
         "type": "scatter",
         "x": [
          175,
          175,
          185,
          185
         ],
         "xaxis": "x",
         "y": [
          0,
          15.364723456433396,
          15.364723456433396,
          0
         ],
         "yaxis": "y"
        },
        {
         "hoverinfo": "text",
         "marker": {
          "color": "rgb(61,153,112)"
         },
         "mode": "lines",
         "type": "scatter",
         "x": [
          195,
          195,
          205,
          205
         ],
         "xaxis": "x",
         "y": [
          0,
          15.626026926009178,
          15.626026926009178,
          0
         ],
         "yaxis": "y"
        },
        {
         "hoverinfo": "text",
         "marker": {
          "color": "rgb(61,153,112)"
         },
         "mode": "lines",
         "type": "scatter",
         "x": [
          180,
          180,
          200,
          200
         ],
         "xaxis": "x",
         "y": [
          15.364723456433396,
          51.98445811035947,
          51.98445811035947,
          15.626026926009178
         ],
         "yaxis": "y"
        },
        {
         "hoverinfo": "text",
         "marker": {
          "color": "rgb(61,153,112)"
         },
         "mode": "lines",
         "type": "scatter",
         "x": [
          160,
          160,
          190,
          190
         ],
         "xaxis": "x",
         "y": [
          38.28639586192975,
          94.35559492995536,
          94.35559492995536,
          51.98445811035947
         ],
         "yaxis": "y"
        },
        {
         "hoverinfo": "text",
         "marker": {
          "color": "rgb(61,153,112)"
         },
         "mode": "lines",
         "type": "scatter",
         "x": [
          132.5,
          132.5,
          175,
          175
         ],
         "xaxis": "x",
         "y": [
          77.50765632439402,
          138.07303982717713,
          138.07303982717713,
          94.35559492995536
         ],
         "yaxis": "y"
        },
        {
         "hoverinfo": "text",
         "marker": {
          "color": "rgb(61,153,112)"
         },
         "mode": "lines",
         "type": "scatter",
         "x": [
          235,
          235,
          245,
          245
         ],
         "xaxis": "x",
         "y": [
          0,
          18.137821433131588,
          18.137821433131588,
          0
         ],
         "yaxis": "y"
        },
        {
         "hoverinfo": "text",
         "marker": {
          "color": "rgb(61,153,112)"
         },
         "mode": "lines",
         "type": "scatter",
         "x": [
          225,
          225,
          240,
          240
         ],
         "xaxis": "x",
         "y": [
          0,
          36.46070747268647,
          36.46070747268647,
          18.137821433131588
         ],
         "yaxis": "y"
        },
        {
         "hoverinfo": "text",
         "marker": {
          "color": "rgb(61,153,112)"
         },
         "mode": "lines",
         "type": "scatter",
         "x": [
          215,
          215,
          232.5,
          232.5
         ],
         "xaxis": "x",
         "y": [
          0,
          54.66799988940494,
          54.66799988940494,
          36.46070747268647
         ],
         "yaxis": "y"
        },
        {
         "hoverinfo": "text",
         "marker": {
          "color": "rgb(61,153,112)"
         },
         "mode": "lines",
         "type": "scatter",
         "x": [
          265,
          265,
          275,
          275
         ],
         "xaxis": "x",
         "y": [
          0,
          3.9827006924946406,
          3.9827006924946406,
          0
         ],
         "yaxis": "y"
        },
        {
         "hoverinfo": "text",
         "marker": {
          "color": "rgb(61,153,112)"
         },
         "mode": "lines",
         "type": "scatter",
         "x": [
          255,
          255,
          270,
          270
         ],
         "xaxis": "x",
         "y": [
          0,
          16.017575141533907,
          16.017575141533907,
          3.9827006924946406
         ],
         "yaxis": "y"
        },
        {
         "hoverinfo": "text",
         "marker": {
          "color": "rgb(61,153,112)"
         },
         "mode": "lines",
         "type": "scatter",
         "x": [
          295,
          295,
          305,
          305
         ],
         "xaxis": "x",
         "y": [
          0,
          9.630231572241545,
          9.630231572241545,
          0
         ],
         "yaxis": "y"
        },
        {
         "hoverinfo": "text",
         "marker": {
          "color": "rgb(61,153,112)"
         },
         "mode": "lines",
         "type": "scatter",
         "x": [
          285,
          285,
          300,
          300
         ],
         "xaxis": "x",
         "y": [
          0,
          13.547952210450678,
          13.547952210450678,
          9.630231572241545
         ],
         "yaxis": "y"
        },
        {
         "hoverinfo": "text",
         "marker": {
          "color": "rgb(61,153,112)"
         },
         "mode": "lines",
         "type": "scatter",
         "x": [
          335,
          335,
          345,
          345
         ],
         "xaxis": "x",
         "y": [
          0,
          7.268699299839227,
          7.268699299839227,
          0
         ],
         "yaxis": "y"
        },
        {
         "hoverinfo": "text",
         "marker": {
          "color": "rgb(61,153,112)"
         },
         "mode": "lines",
         "type": "scatter",
         "x": [
          325,
          325,
          340,
          340
         ],
         "xaxis": "x",
         "y": [
          0,
          9.015940720684558,
          9.015940720684558,
          7.268699299839227
         ],
         "yaxis": "y"
        },
        {
         "hoverinfo": "text",
         "marker": {
          "color": "rgb(61,153,112)"
         },
         "mode": "lines",
         "type": "scatter",
         "x": [
          315,
          315,
          332.5,
          332.5
         ],
         "xaxis": "x",
         "y": [
          0,
          15.233902873844395,
          15.233902873844395,
          9.015940720684558
         ],
         "yaxis": "y"
        },
        {
         "hoverinfo": "text",
         "marker": {
          "color": "rgb(61,153,112)"
         },
         "mode": "lines",
         "type": "scatter",
         "x": [
          292.5,
          292.5,
          323.75,
          323.75
         ],
         "xaxis": "x",
         "y": [
          13.547952210450678,
          23.173490015578516,
          23.173490015578516,
          15.233902873844395
         ],
         "yaxis": "y"
        },
        {
         "hoverinfo": "text",
         "marker": {
          "color": "rgb(61,153,112)"
         },
         "mode": "lines",
         "type": "scatter",
         "x": [
          262.5,
          262.5,
          308.125,
          308.125
         ],
         "xaxis": "x",
         "y": [
          16.017575141533907,
          36.29049462324811,
          36.29049462324811,
          23.173490015578516
         ],
         "yaxis": "y"
        },
        {
         "hoverinfo": "text",
         "marker": {
          "color": "rgb(61,153,112)"
         },
         "mode": "lines",
         "type": "scatter",
         "x": [
          355,
          355,
          365,
          365
         ],
         "xaxis": "x",
         "y": [
          0,
          14.395823605670216,
          14.395823605670216,
          0
         ],
         "yaxis": "y"
        },
        {
         "hoverinfo": "text",
         "marker": {
          "color": "rgb(61,153,112)"
         },
         "mode": "lines",
         "type": "scatter",
         "x": [
          385,
          385,
          395,
          395
         ],
         "xaxis": "x",
         "y": [
          0,
          8.236492607743251,
          8.236492607743251,
          0
         ],
         "yaxis": "y"
        },
        {
         "hoverinfo": "text",
         "marker": {
          "color": "rgb(61,153,112)"
         },
         "mode": "lines",
         "type": "scatter",
         "x": [
          375,
          375,
          390,
          390
         ],
         "xaxis": "x",
         "y": [
          0,
          18.817227518867448,
          18.817227518867448,
          8.236492607743251
         ],
         "yaxis": "y"
        },
        {
         "hoverinfo": "text",
         "marker": {
          "color": "rgb(61,153,112)"
         },
         "mode": "lines",
         "type": "scatter",
         "x": [
          360,
          360,
          382.5,
          382.5
         ],
         "xaxis": "x",
         "y": [
          14.395823605670216,
          24.16858142232817,
          24.16858142232817,
          18.817227518867448
         ],
         "yaxis": "y"
        },
        {
         "hoverinfo": "text",
         "marker": {
          "color": "rgb(61,153,112)"
         },
         "mode": "lines",
         "type": "scatter",
         "x": [
          405,
          405,
          415,
          415
         ],
         "xaxis": "x",
         "y": [
          0,
          26.61876640371422,
          26.61876640371422,
          0
         ],
         "yaxis": "y"
        },
        {
         "hoverinfo": "text",
         "marker": {
          "color": "rgb(61,153,112)"
         },
         "mode": "lines",
         "type": "scatter",
         "x": [
          371.25,
          371.25,
          410,
          410
         ],
         "xaxis": "x",
         "y": [
          24.16858142232817,
          44.11043909545476,
          44.11043909545476,
          26.61876640371422
         ],
         "yaxis": "y"
        },
        {
         "hoverinfo": "text",
         "marker": {
          "color": "rgb(61,153,112)"
         },
         "mode": "lines",
         "type": "scatter",
         "x": [
          285.3125,
          285.3125,
          390.625,
          390.625
         ],
         "xaxis": "x",
         "y": [
          36.29049462324811,
          66.2754938885455,
          66.2754938885455,
          44.11043909545476
         ],
         "yaxis": "y"
        },
        {
         "hoverinfo": "text",
         "marker": {
          "color": "rgb(61,153,112)"
         },
         "mode": "lines",
         "type": "scatter",
         "x": [
          223.75,
          223.75,
          337.96875,
          337.96875
         ],
         "xaxis": "x",
         "y": [
          54.66799988940494,
          93.46965833496611,
          93.46965833496611,
          66.2754938885455
         ],
         "yaxis": "y"
        },
        {
         "hoverinfo": "text",
         "marker": {
          "color": "rgb(61,153,112)"
         },
         "mode": "lines",
         "type": "scatter",
         "x": [
          435,
          435,
          445,
          445
         ],
         "xaxis": "x",
         "y": [
          0,
          12.386545098520545,
          12.386545098520545,
          0
         ],
         "yaxis": "y"
        },
        {
         "hoverinfo": "text",
         "marker": {
          "color": "rgb(61,153,112)"
         },
         "mode": "lines",
         "type": "scatter",
         "x": [
          425,
          425,
          440,
          440
         ],
         "xaxis": "x",
         "y": [
          0,
          20.42057785666214,
          20.42057785666214,
          12.386545098520545
         ],
         "yaxis": "y"
        },
        {
         "hoverinfo": "text",
         "marker": {
          "color": "rgb(61,153,112)"
         },
         "mode": "lines",
         "type": "scatter",
         "x": [
          465,
          465,
          475,
          475
         ],
         "xaxis": "x",
         "y": [
          0,
          8.319709297974379,
          8.319709297974379,
          0
         ],
         "yaxis": "y"
        },
        {
         "hoverinfo": "text",
         "marker": {
          "color": "rgb(61,153,112)"
         },
         "mode": "lines",
         "type": "scatter",
         "x": [
          455,
          455,
          470,
          470
         ],
         "xaxis": "x",
         "y": [
          0,
          11.445523142259598,
          11.445523142259598,
          8.319709297974379
         ],
         "yaxis": "y"
        },
        {
         "hoverinfo": "text",
         "marker": {
          "color": "rgb(61,153,112)"
         },
         "mode": "lines",
         "type": "scatter",
         "x": [
          485,
          485,
          495,
          495
         ],
         "xaxis": "x",
         "y": [
          0,
          18.2208671582886,
          18.2208671582886,
          0
         ],
         "yaxis": "y"
        },
        {
         "hoverinfo": "text",
         "marker": {
          "color": "rgb(61,153,112)"
         },
         "mode": "lines",
         "type": "scatter",
         "x": [
          462.5,
          462.5,
          490,
          490
         ],
         "xaxis": "x",
         "y": [
          11.445523142259598,
          22.38302928559939,
          22.38302928559939,
          18.2208671582886
         ],
         "yaxis": "y"
        },
        {
         "hoverinfo": "text",
         "marker": {
          "color": "rgb(61,153,112)"
         },
         "mode": "lines",
         "type": "scatter",
         "x": [
          432.5,
          432.5,
          476.25,
          476.25
         ],
         "xaxis": "x",
         "y": [
          20.42057785666214,
          39.408120990476064,
          39.408120990476064,
          22.38302928559939
         ],
         "yaxis": "y"
        },
        {
         "hoverinfo": "text",
         "marker": {
          "color": "rgb(61,153,112)"
         },
         "mode": "lines",
         "type": "scatter",
         "x": [
          505,
          505,
          515,
          515
         ],
         "xaxis": "x",
         "y": [
          0,
          13.69641309582499,
          13.69641309582499,
          0
         ],
         "yaxis": "y"
        },
        {
         "hoverinfo": "text",
         "marker": {
          "color": "rgb(61,153,112)"
         },
         "mode": "lines",
         "type": "scatter",
         "x": [
          525,
          525,
          535,
          535
         ],
         "xaxis": "x",
         "y": [
          0,
          24.7351099506824,
          24.7351099506824,
          0
         ],
         "yaxis": "y"
        },
        {
         "hoverinfo": "text",
         "marker": {
          "color": "rgb(61,153,112)"
         },
         "mode": "lines",
         "type": "scatter",
         "x": [
          510,
          510,
          530,
          530
         ],
         "xaxis": "x",
         "y": [
          13.69641309582499,
          44.64333807166748,
          44.64333807166748,
          24.7351099506824
         ],
         "yaxis": "y"
        },
        {
         "hoverinfo": "text",
         "marker": {
          "color": "rgb(61,153,112)"
         },
         "mode": "lines",
         "type": "scatter",
         "x": [
          454.375,
          454.375,
          520,
          520
         ],
         "xaxis": "x",
         "y": [
          39.408120990476064,
          52.67100331273864,
          52.67100331273864,
          44.64333807166748
         ],
         "yaxis": "y"
        },
        {
         "hoverinfo": "text",
         "marker": {
          "color": "rgb(61,153,112)"
         },
         "mode": "lines",
         "type": "scatter",
         "x": [
          555,
          555,
          565,
          565
         ],
         "xaxis": "x",
         "y": [
          0,
          12.793349131462488,
          12.793349131462488,
          0
         ],
         "yaxis": "y"
        },
        {
         "hoverinfo": "text",
         "marker": {
          "color": "rgb(61,153,112)"
         },
         "mode": "lines",
         "type": "scatter",
         "x": [
          545,
          545,
          560,
          560
         ],
         "xaxis": "x",
         "y": [
          0,
          24.79695551808982,
          24.79695551808982,
          12.793349131462488
         ],
         "yaxis": "y"
        },
        {
         "hoverinfo": "text",
         "marker": {
          "color": "rgb(61,153,112)"
         },
         "mode": "lines",
         "type": "scatter",
         "x": [
          595,
          595,
          605,
          605
         ],
         "xaxis": "x",
         "y": [
          0,
          12.00605941016295,
          12.00605941016295,
          0
         ],
         "yaxis": "y"
        },
        {
         "hoverinfo": "text",
         "marker": {
          "color": "rgb(61,153,112)"
         },
         "mode": "lines",
         "type": "scatter",
         "x": [
          585,
          585,
          600,
          600
         ],
         "xaxis": "x",
         "y": [
          0,
          18.34609839891033,
          18.34609839891033,
          12.00605941016295
         ],
         "yaxis": "y"
        },
        {
         "hoverinfo": "text",
         "marker": {
          "color": "rgb(61,153,112)"
         },
         "mode": "lines",
         "type": "scatter",
         "x": [
          575,
          575,
          592.5,
          592.5
         ],
         "xaxis": "x",
         "y": [
          0,
          28.06592128657757,
          28.06592128657757,
          18.34609839891033
         ],
         "yaxis": "y"
        },
        {
         "hoverinfo": "text",
         "marker": {
          "color": "rgb(61,153,112)"
         },
         "mode": "lines",
         "type": "scatter",
         "x": [
          552.5,
          552.5,
          583.75,
          583.75
         ],
         "xaxis": "x",
         "y": [
          24.79695551808982,
          56.21539347422269,
          56.21539347422269,
          28.06592128657757
         ],
         "yaxis": "y"
        },
        {
         "hoverinfo": "text",
         "marker": {
          "color": "rgb(61,153,112)"
         },
         "mode": "lines",
         "type": "scatter",
         "x": [
          615,
          615,
          625,
          625
         ],
         "xaxis": "x",
         "y": [
          0,
          27.678454425243917,
          27.678454425243917,
          0
         ],
         "yaxis": "y"
        },
        {
         "hoverinfo": "text",
         "marker": {
          "color": "rgb(61,153,112)"
         },
         "mode": "lines",
         "type": "scatter",
         "x": [
          655,
          655,
          665,
          665
         ],
         "xaxis": "x",
         "y": [
          0,
          5.656854249492381,
          5.656854249492381,
          0
         ],
         "yaxis": "y"
        },
        {
         "hoverinfo": "text",
         "marker": {
          "color": "rgb(61,153,112)"
         },
         "mode": "lines",
         "type": "scatter",
         "x": [
          645,
          645,
          660,
          660
         ],
         "xaxis": "x",
         "y": [
          0,
          10.583005244258363,
          10.583005244258363,
          5.656854249492381
         ],
         "yaxis": "y"
        },
        {
         "hoverinfo": "text",
         "marker": {
          "color": "rgb(61,153,112)"
         },
         "mode": "lines",
         "type": "scatter",
         "x": [
          635,
          635,
          652.5,
          652.5
         ],
         "xaxis": "x",
         "y": [
          0,
          14.65925227123987,
          14.65925227123987,
          10.583005244258363
         ],
         "yaxis": "y"
        },
        {
         "hoverinfo": "text",
         "marker": {
          "color": "rgb(61,153,112)"
         },
         "mode": "lines",
         "type": "scatter",
         "x": [
          675,
          675,
          685,
          685
         ],
         "xaxis": "x",
         "y": [
          0,
          6.679036180497244,
          6.679036180497244,
          0
         ],
         "yaxis": "y"
        },
        {
         "hoverinfo": "text",
         "marker": {
          "color": "rgb(61,153,112)"
         },
         "mode": "lines",
         "type": "scatter",
         "x": [
          705,
          705,
          715,
          715
         ],
         "xaxis": "x",
         "y": [
          0,
          4.249203230018639,
          4.249203230018639,
          0
         ],
         "yaxis": "y"
        },
        {
         "hoverinfo": "text",
         "marker": {
          "color": "rgb(61,153,112)"
         },
         "mode": "lines",
         "type": "scatter",
         "x": [
          695,
          695,
          710,
          710
         ],
         "xaxis": "x",
         "y": [
          0,
          12.690372289649215,
          12.690372289649215,
          4.249203230018639
         ],
         "yaxis": "y"
        },
        {
         "hoverinfo": "text",
         "marker": {
          "color": "rgb(61,153,112)"
         },
         "mode": "lines",
         "type": "scatter",
         "x": [
          680,
          680,
          702.5,
          702.5
         ],
         "xaxis": "x",
         "y": [
          6.679036180497244,
          17.74885205904449,
          17.74885205904449,
          12.690372289649215
         ],
         "yaxis": "y"
        },
        {
         "hoverinfo": "text",
         "marker": {
          "color": "rgb(61,153,112)"
         },
         "mode": "lines",
         "type": "scatter",
         "x": [
          735,
          735,
          745,
          745
         ],
         "xaxis": "x",
         "y": [
          0,
          5.247465901257696,
          5.247465901257696,
          0
         ],
         "yaxis": "y"
        },
        {
         "hoverinfo": "text",
         "marker": {
          "color": "rgb(61,153,112)"
         },
         "mode": "lines",
         "type": "scatter",
         "x": [
          725,
          725,
          740,
          740
         ],
         "xaxis": "x",
         "y": [
          0,
          6.411007761220824,
          6.411007761220824,
          5.247465901257696
         ],
         "yaxis": "y"
        },
        {
         "hoverinfo": "text",
         "marker": {
          "color": "rgb(61,153,112)"
         },
         "mode": "lines",
         "type": "scatter",
         "x": [
          755,
          755,
          765,
          765
         ],
         "xaxis": "x",
         "y": [
          0,
          10.806414908659898,
          10.806414908659898,
          0
         ],
         "yaxis": "y"
        },
        {
         "hoverinfo": "text",
         "marker": {
          "color": "rgb(61,153,112)"
         },
         "mode": "lines",
         "type": "scatter",
         "x": [
          732.5,
          732.5,
          760,
          760
         ],
         "xaxis": "x",
         "y": [
          6.411007761220824,
          20.53575280195285,
          20.53575280195285,
          10.806414908659898
         ],
         "yaxis": "y"
        },
        {
         "hoverinfo": "text",
         "marker": {
          "color": "rgb(61,153,112)"
         },
         "mode": "lines",
         "type": "scatter",
         "x": [
          691.25,
          691.25,
          746.25,
          746.25
         ],
         "xaxis": "x",
         "y": [
          17.74885205904449,
          30.943734723296757,
          30.943734723296757,
          20.53575280195285
         ],
         "yaxis": "y"
        },
        {
         "hoverinfo": "text",
         "marker": {
          "color": "rgb(61,153,112)"
         },
         "mode": "lines",
         "type": "scatter",
         "x": [
          643.75,
          643.75,
          718.75,
          718.75
         ],
         "xaxis": "x",
         "y": [
          14.65925227123987,
          43.8640280602867,
          43.8640280602867,
          30.943734723296757
         ],
         "yaxis": "y"
        },
        {
         "hoverinfo": "text",
         "marker": {
          "color": "rgb(61,153,112)"
         },
         "mode": "lines",
         "type": "scatter",
         "x": [
          620,
          620,
          681.25,
          681.25
         ],
         "xaxis": "x",
         "y": [
          27.678454425243917,
          59.578627622983085,
          59.578627622983085,
          43.8640280602867
         ],
         "yaxis": "y"
        },
        {
         "hoverinfo": "text",
         "marker": {
          "color": "rgb(61,153,112)"
         },
         "mode": "lines",
         "type": "scatter",
         "x": [
          568.125,
          568.125,
          650.625,
          650.625
         ],
         "xaxis": "x",
         "y": [
          56.21539347422269,
          76.94927630187496,
          76.94927630187496,
          59.578627622983085
         ],
         "yaxis": "y"
        },
        {
         "hoverinfo": "text",
         "marker": {
          "color": "rgb(61,153,112)"
         },
         "mode": "lines",
         "type": "scatter",
         "x": [
          487.1875,
          487.1875,
          609.375,
          609.375
         ],
         "xaxis": "x",
         "y": [
          52.67100331273864,
          117.01212136183833,
          117.01212136183833,
          76.94927630187496
         ],
         "yaxis": "y"
        },
        {
         "hoverinfo": "text",
         "marker": {
          "color": "rgb(61,153,112)"
         },
         "mode": "lines",
         "type": "scatter",
         "x": [
          280.859375,
          280.859375,
          548.28125,
          548.28125
         ],
         "xaxis": "x",
         "y": [
          93.46965833496611,
          174.84745019245713,
          174.84745019245713,
          117.01212136183833
         ],
         "yaxis": "y"
        },
        {
         "hoverinfo": "text",
         "marker": {
          "color": "rgb(61,153,112)"
         },
         "mode": "lines",
         "type": "scatter",
         "x": [
          153.75,
          153.75,
          414.5703125,
          414.5703125
         ],
         "xaxis": "x",
         "y": [
          138.07303982717713,
          188.88356201639147,
          188.88356201639147,
          174.84745019245713
         ],
         "yaxis": "y"
        },
        {
         "hoverinfo": "text",
         "marker": {
          "color": "rgb(61,153,112)"
         },
         "mode": "lines",
         "type": "scatter",
         "x": [
          91.875,
          91.875,
          284.16015625,
          284.16015625
         ],
         "xaxis": "x",
         "y": [
          114.13571006576863,
          275.8971049768968,
          275.8971049768968,
          188.88356201639147
         ],
         "yaxis": "y"
        },
        {
         "hoverinfo": "text",
         "marker": {
          "color": "rgb(61,153,112)"
         },
         "mode": "lines",
         "type": "scatter",
         "x": [
          24.375,
          24.375,
          188.017578125,
          188.017578125
         ],
         "xaxis": "x",
         "y": [
          241.55809633160834,
          457.8433528692865,
          457.8433528692865,
          275.8971049768968
         ],
         "yaxis": "y"
        },
        {
         "hoverinfo": "text",
         "marker": {
          "color": "rgb(61,153,112)"
         },
         "mode": "lines",
         "type": "scatter",
         "x": [
          785,
          785,
          795,
          795
         ],
         "xaxis": "x",
         "y": [
          0,
          188.40625597465575,
          188.40625597465575,
          0
         ],
         "yaxis": "y"
        },
        {
         "hoverinfo": "text",
         "marker": {
          "color": "rgb(61,153,112)"
         },
         "mode": "lines",
         "type": "scatter",
         "x": [
          775,
          775,
          790,
          790
         ],
         "xaxis": "x",
         "y": [
          0,
          557.9418356432986,
          557.9418356432986,
          188.40625597465575
         ],
         "yaxis": "y"
        },
        {
         "hoverinfo": "text",
         "marker": {
          "color": "rgb(61,153,112)"
         },
         "mode": "lines",
         "type": "scatter",
         "x": [
          106.1962890625,
          106.1962890625,
          782.5,
          782.5
         ],
         "xaxis": "x",
         "y": [
          457.8433528692865,
          1248.0048076830474,
          1248.0048076830474,
          557.9418356432986
         ],
         "yaxis": "y"
        },
        {
         "hoverinfo": "text",
         "marker": {
          "color": "rgb(0,116,217)"
         },
         "mode": "lines",
         "type": "scatter",
         "x": [
          5,
          5,
          444.34814453125,
          444.34814453125
         ],
         "xaxis": "x",
         "y": [
          0,
          2733.2691049364316,
          2733.2691049364316,
          1248.0048076830474
         ],
         "yaxis": "y"
        }
       ],
       "layout": {
        "autosize": false,
        "height": 500,
        "hovermode": "closest",
        "showlegend": false,
        "template": {
         "data": {
          "candlestick": [
           {
            "decreasing": {
             "line": {
              "color": "#000033"
             }
            },
            "increasing": {
             "line": {
              "color": "#000032"
             }
            },
            "type": "candlestick"
           }
          ],
          "contour": [
           {
            "colorscale": [
             [
              0,
              "#000011"
             ],
             [
              0.1111111111111111,
              "#000012"
             ],
             [
              0.2222222222222222,
              "#000013"
             ],
             [
              0.3333333333333333,
              "#000014"
             ],
             [
              0.4444444444444444,
              "#000015"
             ],
             [
              0.5555555555555556,
              "#000016"
             ],
             [
              0.6666666666666666,
              "#000017"
             ],
             [
              0.7777777777777778,
              "#000018"
             ],
             [
              0.8888888888888888,
              "#000019"
             ],
             [
              1,
              "#000020"
             ]
            ],
            "type": "contour"
           }
          ],
          "contourcarpet": [
           {
            "colorscale": [
             [
              0,
              "#000011"
             ],
             [
              0.1111111111111111,
              "#000012"
             ],
             [
              0.2222222222222222,
              "#000013"
             ],
             [
              0.3333333333333333,
              "#000014"
             ],
             [
              0.4444444444444444,
              "#000015"
             ],
             [
              0.5555555555555556,
              "#000016"
             ],
             [
              0.6666666666666666,
              "#000017"
             ],
             [
              0.7777777777777778,
              "#000018"
             ],
             [
              0.8888888888888888,
              "#000019"
             ],
             [
              1,
              "#000020"
             ]
            ],
            "type": "contourcarpet"
           }
          ],
          "heatmap": [
           {
            "colorscale": [
             [
              0,
              "#000011"
             ],
             [
              0.1111111111111111,
              "#000012"
             ],
             [
              0.2222222222222222,
              "#000013"
             ],
             [
              0.3333333333333333,
              "#000014"
             ],
             [
              0.4444444444444444,
              "#000015"
             ],
             [
              0.5555555555555556,
              "#000016"
             ],
             [
              0.6666666666666666,
              "#000017"
             ],
             [
              0.7777777777777778,
              "#000018"
             ],
             [
              0.8888888888888888,
              "#000019"
             ],
             [
              1,
              "#000020"
             ]
            ],
            "type": "heatmap"
           }
          ],
          "histogram2d": [
           {
            "colorscale": [
             [
              0,
              "#000011"
             ],
             [
              0.1111111111111111,
              "#000012"
             ],
             [
              0.2222222222222222,
              "#000013"
             ],
             [
              0.3333333333333333,
              "#000014"
             ],
             [
              0.4444444444444444,
              "#000015"
             ],
             [
              0.5555555555555556,
              "#000016"
             ],
             [
              0.6666666666666666,
              "#000017"
             ],
             [
              0.7777777777777778,
              "#000018"
             ],
             [
              0.8888888888888888,
              "#000019"
             ],
             [
              1,
              "#000020"
             ]
            ],
            "type": "histogram2d"
           }
          ],
          "icicle": [
           {
            "textfont": {
             "color": "white"
            },
            "type": "icicle"
           }
          ],
          "sankey": [
           {
            "textfont": {
             "color": "#000036"
            },
            "type": "sankey"
           }
          ],
          "scatter": [
           {
            "marker": {
             "line": {
              "width": 0
             }
            },
            "type": "scatter"
           }
          ],
          "table": [
           {
            "cells": {
             "fill": {
              "color": "#000038"
             },
             "font": {
              "color": "#000037"
             },
             "line": {
              "color": "#000039"
             }
            },
            "header": {
             "fill": {
              "color": "#000040"
             },
             "font": {
              "color": "#000036"
             },
             "line": {
              "color": "#000039"
             }
            },
            "type": "table"
           }
          ],
          "waterfall": [
           {
            "connector": {
             "line": {
              "color": "#000036",
              "width": 2
             }
            },
            "decreasing": {
             "marker": {
              "color": "#000033"
             }
            },
            "increasing": {
             "marker": {
              "color": "#000032"
             }
            },
            "totals": {
             "marker": {
              "color": "#000034"
             }
            },
            "type": "waterfall"
           }
          ]
         },
         "layout": {
          "coloraxis": {
           "colorscale": [
            [
             0,
             "#000011"
            ],
            [
             0.1111111111111111,
             "#000012"
            ],
            [
             0.2222222222222222,
             "#000013"
            ],
            [
             0.3333333333333333,
             "#000014"
            ],
            [
             0.4444444444444444,
             "#000015"
            ],
            [
             0.5555555555555556,
             "#000016"
            ],
            [
             0.6666666666666666,
             "#000017"
            ],
            [
             0.7777777777777778,
             "#000018"
            ],
            [
             0.8888888888888888,
             "#000019"
            ],
            [
             1,
             "#000020"
            ]
           ]
          },
          "colorscale": {
           "diverging": [
            [
             0,
             "#000021"
            ],
            [
             0.1,
             "#000022"
            ],
            [
             0.2,
             "#000023"
            ],
            [
             0.3,
             "#000024"
            ],
            [
             0.4,
             "#000025"
            ],
            [
             0.5,
             "#000026"
            ],
            [
             0.6,
             "#000027"
            ],
            [
             0.7,
             "#000028"
            ],
            [
             0.8,
             "#000029"
            ],
            [
             0.9,
             "#000030"
            ],
            [
             1,
             "#000031"
            ]
           ],
           "sequential": [
            [
             0,
             "#000011"
            ],
            [
             0.1111111111111111,
             "#000012"
            ],
            [
             0.2222222222222222,
             "#000013"
            ],
            [
             0.3333333333333333,
             "#000014"
            ],
            [
             0.4444444444444444,
             "#000015"
            ],
            [
             0.5555555555555556,
             "#000016"
            ],
            [
             0.6666666666666666,
             "#000017"
            ],
            [
             0.7777777777777778,
             "#000018"
            ],
            [
             0.8888888888888888,
             "#000019"
            ],
            [
             1,
             "#000020"
            ]
           ],
           "sequentialminus": [
            [
             0,
             "#000011"
            ],
            [
             0.1111111111111111,
             "#000012"
            ],
            [
             0.2222222222222222,
             "#000013"
            ],
            [
             0.3333333333333333,
             "#000014"
            ],
            [
             0.4444444444444444,
             "#000015"
            ],
            [
             0.5555555555555556,
             "#000016"
            ],
            [
             0.6666666666666666,
             "#000017"
            ],
            [
             0.7777777777777778,
             "#000018"
            ],
            [
             0.8888888888888888,
             "#000019"
            ],
            [
             1,
             "#000020"
            ]
           ]
          },
          "colorway": [
           "#000001",
           "#000002",
           "#000003",
           "#000004",
           "#000005",
           "#000006",
           "#000007",
           "#000008",
           "#000009",
           "#000010"
          ]
         }
        },
        "title": {
         "text": "Dendrogram (Complete Linkage)"
        },
        "width": 800,
        "xaxis": {
         "mirror": "allticks",
         "rangemode": "tozero",
         "showgrid": false,
         "showline": true,
         "showticklabels": true,
         "tickmode": "array",
         "ticks": "outside",
         "ticktext": [
          "79",
          "75",
          "74",
          "73",
          "70",
          "72",
          "61",
          "66",
          "64",
          "65",
          "69",
          "71",
          "68",
          "60",
          "62",
          "63",
          "67",
          "56",
          "59",
          "53",
          "58",
          "55",
          "54",
          "52",
          "57",
          "39",
          "32",
          "34",
          "21",
          "18",
          "25",
          "5",
          "14",
          "11",
          "17",
          "24",
          "28",
          "36",
          "37",
          "38",
          "45",
          "48",
          "0",
          "13",
          "35",
          "1",
          "23",
          "31",
          "3",
          "12",
          "42",
          "46",
          "43",
          "49",
          "26",
          "15",
          "30",
          "50",
          "40",
          "41",
          "44",
          "47",
          "51",
          "27",
          "2",
          "16",
          "22",
          "20",
          "29",
          "10",
          "8",
          "9",
          "6",
          "4",
          "7",
          "19",
          "33",
          "78",
          "76",
          "77"
         ],
         "tickvals": [
          5,
          15,
          25,
          35,
          45,
          55,
          65,
          75,
          85,
          95,
          105,
          115,
          125,
          135,
          145,
          155,
          165,
          175,
          185,
          195,
          205,
          215,
          225,
          235,
          245,
          255,
          265,
          275,
          285,
          295,
          305,
          315,
          325,
          335,
          345,
          355,
          365,
          375,
          385,
          395,
          405,
          415,
          425,
          435,
          445,
          455,
          465,
          475,
          485,
          495,
          505,
          515,
          525,
          535,
          545,
          555,
          565,
          575,
          585,
          595,
          605,
          615,
          625,
          635,
          645,
          655,
          665,
          675,
          685,
          695,
          705,
          715,
          725,
          735,
          745,
          755,
          765,
          775,
          785,
          795
         ],
         "title": {
          "text": "Sample index"
         },
         "type": "linear",
         "zeroline": false
        },
        "yaxis": {
         "mirror": "allticks",
         "rangemode": "tozero",
         "showgrid": false,
         "showline": true,
         "showticklabels": true,
         "ticks": "outside",
         "title": {
          "text": "Distance"
         },
         "type": "linear",
         "zeroline": false
        }
       }
      }
     },
     "metadata": {},
     "output_type": "display_data"
    }
   ],
   "source": [
    "# Menampilkan dendrogram menggunakan Plotly untuk metode 'average'\n",
    "fig_complete = ff.create_dendrogram(linkage_matrix_complete)\n",
    "fig_complete.update_layout(title='Dendrogram (Complete Linkage)',\n",
    "                          xaxis_title='Sample index',\n",
    "                          yaxis_title='Distance',\n",
    "                          width=800, height=500)\n",
    "fig_complete.show()"
   ]
  }
 ],
 "metadata": {
  "kernelspec": {
   "display_name": "base",
   "language": "python",
   "name": "python3"
  },
  "language_info": {
   "codemirror_mode": {
    "name": "ipython",
    "version": 3
   },
   "file_extension": ".py",
   "mimetype": "text/x-python",
   "name": "python",
   "nbconvert_exporter": "python",
   "pygments_lexer": "ipython3",
   "version": "3.10.9"
  }
 },
 "nbformat": 4,
 "nbformat_minor": 2
}
